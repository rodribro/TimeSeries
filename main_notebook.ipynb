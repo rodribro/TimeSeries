{
 "cells": [
  {
   "cell_type": "code",
   "execution_count": 1,
   "metadata": {},
   "outputs": [],
   "source": [
    "import pandas as pd\n",
    "import matplotlib as plt\n",
    "from utils import transform_bbch_data, count_daily_measurements, clean_timestamp, find_common_dates, calculate_cumulative_gdd, calculate_accumulated_nitrates, calculate_cumulative_par, daily_average_humidity, merge_variables"
   ]
  },
  {
   "cell_type": "markdown",
   "metadata": {},
   "source": [
    "### <b> Dataset Creation </b>\n",
    "\n",
    "* Goal: Create a dataset based on lettuce plants' biometry and environmental variables for a greenhouse experiment\n",
    "\n",
    "#### <b> Biometry variables </b>\n",
    "\n",
    "* <b> Diameter </b>: The diameter of a chosen leaf of the plant, expressed in centimeters (cm)\n",
    "* <b> Perpendicular </b>: The length of perpendicular line to the chosen diameter of a chosen leaf, expressed in centimeters (cm)\n",
    "* <b> Weight </b>: The weight of the plant, expressed in kilograms (Kg)\n",
    "* <b> Height </b>: The height of the plant, expressed in centimeters (cm)\n",
    "* <b> Thickness </b>: Leaf thickness, expressed in centimeters (cm)\n",
    "* <b> Number of leaves (N leaves) </b>: The number of leaves the plant presents \n",
    "\n",
    "#### <b> Environmental variables </b>\n",
    "\n",
    "* <b> Irrigation </b>\n",
    "* <b> Humidity </b>\n",
    "* <b> Temperature </b>\n",
    "* <b> PAR radiation </b>\n"
   ]
  },
  {
   "cell_type": "markdown",
   "metadata": {},
   "source": [
    "### <b> Biometry </b>"
   ]
  },
  {
   "cell_type": "code",
   "execution_count": 2,
   "metadata": {},
   "outputs": [],
   "source": [
    "# Previously created biometry dataset\n",
    "biometry = pd.read_csv(\"data/final_biometric_data.csv\")\n",
    "biometry.rename(columns={\"Unnamed: 0\":\"Date\", \"Sample\":\"Sample?\", \"CODE\":\"Sample\"}, inplace=True)\n",
    "biometry.drop(columns=['Max. Temp.', 'Min. Temp.', 'Mean. Temp.',\n",
    "       'Max. Hum.', 'Min. Hum.', 'Mean. Hum.', 'Combined Temperature Average',\n",
    "       'Combined Temperature Std Dev', 'Combined Humidity Average',\n",
    "       'Combined Humidity Std Dev','Sample?','BBCH'], inplace=True)"
   ]
  },
  {
   "cell_type": "code",
   "execution_count": 3,
   "metadata": {},
   "outputs": [],
   "source": [
    "bbch = pd.read_excel('raw_data/biom_to_BBCH.xlsx')\n",
    "bbch.drop(columns={'Number', 'Line', 'Sample'}, inplace=True)"
   ]
  },
  {
   "cell_type": "code",
   "execution_count": 4,
   "metadata": {},
   "outputs": [],
   "source": [
    "bbch_cols = list(bbch.columns)"
   ]
  },
  {
   "cell_type": "code",
   "execution_count": 5,
   "metadata": {},
   "outputs": [],
   "source": [
    "new_bbch = transform_bbch_data(bbch)"
   ]
  },
  {
   "cell_type": "code",
   "execution_count": 6,
   "metadata": {},
   "outputs": [],
   "source": [
    "new_bbch.rename(columns={'CODE':'Sample'}, inplace=True)"
   ]
  },
  {
   "cell_type": "code",
   "execution_count": 7,
   "metadata": {},
   "outputs": [
    {
     "data": {
      "text/html": [
       "<div>\n",
       "<style scoped>\n",
       "    .dataframe tbody tr th:only-of-type {\n",
       "        vertical-align: middle;\n",
       "    }\n",
       "\n",
       "    .dataframe tbody tr th {\n",
       "        vertical-align: top;\n",
       "    }\n",
       "\n",
       "    .dataframe thead th {\n",
       "        text-align: right;\n",
       "    }\n",
       "</style>\n",
       "<table border=\"1\" class=\"dataframe\">\n",
       "  <thead>\n",
       "    <tr style=\"text-align: right;\">\n",
       "      <th></th>\n",
       "      <th>Sample</th>\n",
       "      <th>Date</th>\n",
       "      <th>BBCH</th>\n",
       "    </tr>\n",
       "  </thead>\n",
       "  <tbody>\n",
       "    <tr>\n",
       "      <th>0</th>\n",
       "      <td>RNGRA1</td>\n",
       "      <td>2024-09-07</td>\n",
       "      <td>19</td>\n",
       "    </tr>\n",
       "    <tr>\n",
       "      <th>1</th>\n",
       "      <td>RNGRA1</td>\n",
       "      <td>2024-09-11</td>\n",
       "      <td>19</td>\n",
       "    </tr>\n",
       "    <tr>\n",
       "      <th>2</th>\n",
       "      <td>RNGRA1</td>\n",
       "      <td>2024-09-14</td>\n",
       "      <td>19</td>\n",
       "    </tr>\n",
       "    <tr>\n",
       "      <th>3</th>\n",
       "      <td>RNGRA1</td>\n",
       "      <td>2024-09-17</td>\n",
       "      <td>37</td>\n",
       "    </tr>\n",
       "    <tr>\n",
       "      <th>4</th>\n",
       "      <td>RNGRA1</td>\n",
       "      <td>2024-09-20</td>\n",
       "      <td>37</td>\n",
       "    </tr>\n",
       "    <tr>\n",
       "      <th>...</th>\n",
       "      <td>...</td>\n",
       "      <td>...</td>\n",
       "      <td>...</td>\n",
       "    </tr>\n",
       "    <tr>\n",
       "      <th>355</th>\n",
       "      <td>RWGRC5</td>\n",
       "      <td>2024-09-17</td>\n",
       "      <td>19</td>\n",
       "    </tr>\n",
       "    <tr>\n",
       "      <th>356</th>\n",
       "      <td>RWGRC5</td>\n",
       "      <td>2024-09-20</td>\n",
       "      <td>19</td>\n",
       "    </tr>\n",
       "    <tr>\n",
       "      <th>357</th>\n",
       "      <td>RWGRC5</td>\n",
       "      <td>2024-09-24</td>\n",
       "      <td>19</td>\n",
       "    </tr>\n",
       "    <tr>\n",
       "      <th>358</th>\n",
       "      <td>RWGRC5</td>\n",
       "      <td>2024-09-29</td>\n",
       "      <td>19</td>\n",
       "    </tr>\n",
       "    <tr>\n",
       "      <th>359</th>\n",
       "      <td>RWGRC5</td>\n",
       "      <td>2024-10-03</td>\n",
       "      <td>19</td>\n",
       "    </tr>\n",
       "  </tbody>\n",
       "</table>\n",
       "<p>360 rows × 3 columns</p>\n",
       "</div>"
      ],
      "text/plain": [
       "     Sample       Date  BBCH\n",
       "0    RNGRA1 2024-09-07    19\n",
       "1    RNGRA1 2024-09-11    19\n",
       "2    RNGRA1 2024-09-14    19\n",
       "3    RNGRA1 2024-09-17    37\n",
       "4    RNGRA1 2024-09-20    37\n",
       "..      ...        ...   ...\n",
       "355  RWGRC5 2024-09-17    19\n",
       "356  RWGRC5 2024-09-20    19\n",
       "357  RWGRC5 2024-09-24    19\n",
       "358  RWGRC5 2024-09-29    19\n",
       "359  RWGRC5 2024-10-03    19\n",
       "\n",
       "[360 rows x 3 columns]"
      ]
     },
     "execution_count": 7,
     "metadata": {},
     "output_type": "execute_result"
    }
   ],
   "source": [
    "new_bbch"
   ]
  },
  {
   "cell_type": "code",
   "execution_count": 8,
   "metadata": {},
   "outputs": [],
   "source": [
    "# Set Date column to datetime type\n",
    "biometry['Date'] = pd.to_datetime(biometry['Date'])"
   ]
  },
  {
   "cell_type": "markdown",
   "metadata": {},
   "source": [
    "<b> Total number of plants </b>"
   ]
  },
  {
   "cell_type": "code",
   "execution_count": 9,
   "metadata": {},
   "outputs": [
    {
     "data": {
      "text/plain": [
       "45"
      ]
     },
     "execution_count": 9,
     "metadata": {},
     "output_type": "execute_result"
    }
   ],
   "source": [
    "biometry['Sample'].nunique()"
   ]
  },
  {
   "cell_type": "markdown",
   "metadata": {},
   "source": [
    "* There's 45 plants in this experiment, each represented by its unique code, represented in the CODE column"
   ]
  },
  {
   "cell_type": "markdown",
   "metadata": {},
   "source": [
    "<b> Dates where biometry was measured </b>"
   ]
  },
  {
   "cell_type": "code",
   "execution_count": 10,
   "metadata": {},
   "outputs": [
    {
     "data": {
      "text/plain": [
       "8"
      ]
     },
     "execution_count": 10,
     "metadata": {},
     "output_type": "execute_result"
    }
   ],
   "source": [
    "biometry['Date'].nunique()"
   ]
  },
  {
   "cell_type": "markdown",
   "metadata": {},
   "source": [
    "* Measurements of the biometry of the plants were taken at 8 different days"
   ]
  },
  {
   "cell_type": "markdown",
   "metadata": {},
   "source": [
    "### <b> Irrigation </b>"
   ]
  },
  {
   "cell_type": "code",
   "execution_count": 11,
   "metadata": {},
   "outputs": [],
   "source": [
    "irrigation = pd.read_excel(\"raw_data/irrigation.xlsx\")"
   ]
  },
  {
   "cell_type": "code",
   "execution_count": 12,
   "metadata": {},
   "outputs": [],
   "source": [
    "# Set Date column to datetime type\n",
    "irrigation['Date'] = pd.to_datetime(irrigation['Date'])"
   ]
  },
  {
   "cell_type": "code",
   "execution_count": 13,
   "metadata": {},
   "outputs": [
    {
     "data": {
      "text/html": [
       "<div>\n",
       "<style scoped>\n",
       "    .dataframe tbody tr th:only-of-type {\n",
       "        vertical-align: middle;\n",
       "    }\n",
       "\n",
       "    .dataframe tbody tr th {\n",
       "        vertical-align: top;\n",
       "    }\n",
       "\n",
       "    .dataframe thead th {\n",
       "        text-align: right;\n",
       "    }\n",
       "</style>\n",
       "<table border=\"1\" class=\"dataframe\">\n",
       "  <thead>\n",
       "    <tr style=\"text-align: right;\">\n",
       "      <th></th>\n",
       "      <th>Date</th>\n",
       "      <th>Sample</th>\n",
       "      <th>Quantity (mL)</th>\n",
       "    </tr>\n",
       "  </thead>\n",
       "  <tbody>\n",
       "    <tr>\n",
       "      <th>0</th>\n",
       "      <td>2024-08-24</td>\n",
       "      <td>rngra1</td>\n",
       "      <td>50.0</td>\n",
       "    </tr>\n",
       "    <tr>\n",
       "      <th>1</th>\n",
       "      <td>2024-08-24</td>\n",
       "      <td>rngra2</td>\n",
       "      <td>50.0</td>\n",
       "    </tr>\n",
       "    <tr>\n",
       "      <th>2</th>\n",
       "      <td>2024-08-24</td>\n",
       "      <td>rngra3</td>\n",
       "      <td>50.0</td>\n",
       "    </tr>\n",
       "    <tr>\n",
       "      <th>3</th>\n",
       "      <td>2024-08-24</td>\n",
       "      <td>rngra4</td>\n",
       "      <td>50.0</td>\n",
       "    </tr>\n",
       "    <tr>\n",
       "      <th>4</th>\n",
       "      <td>2024-08-24</td>\n",
       "      <td>rngra5</td>\n",
       "      <td>50.0</td>\n",
       "    </tr>\n",
       "    <tr>\n",
       "      <th>...</th>\n",
       "      <td>...</td>\n",
       "      <td>...</td>\n",
       "      <td>...</td>\n",
       "    </tr>\n",
       "    <tr>\n",
       "      <th>985</th>\n",
       "      <td>2024-10-01</td>\n",
       "      <td>rwgrc1</td>\n",
       "      <td>7.5</td>\n",
       "    </tr>\n",
       "    <tr>\n",
       "      <th>986</th>\n",
       "      <td>2024-10-01</td>\n",
       "      <td>rwgrc2</td>\n",
       "      <td>14.5</td>\n",
       "    </tr>\n",
       "    <tr>\n",
       "      <th>987</th>\n",
       "      <td>2024-10-01</td>\n",
       "      <td>rwgrc3</td>\n",
       "      <td>5.0</td>\n",
       "    </tr>\n",
       "    <tr>\n",
       "      <th>988</th>\n",
       "      <td>2024-10-01</td>\n",
       "      <td>rwgrc4</td>\n",
       "      <td>12.0</td>\n",
       "    </tr>\n",
       "    <tr>\n",
       "      <th>989</th>\n",
       "      <td>2024-10-01</td>\n",
       "      <td>rwgrc5</td>\n",
       "      <td>8.0</td>\n",
       "    </tr>\n",
       "  </tbody>\n",
       "</table>\n",
       "<p>990 rows × 3 columns</p>\n",
       "</div>"
      ],
      "text/plain": [
       "          Date  Sample  Quantity (mL)\n",
       "0   2024-08-24  rngra1           50.0\n",
       "1   2024-08-24  rngra2           50.0\n",
       "2   2024-08-24  rngra3           50.0\n",
       "3   2024-08-24  rngra4           50.0\n",
       "4   2024-08-24  rngra5           50.0\n",
       "..         ...     ...            ...\n",
       "985 2024-10-01  rwgrc1            7.5\n",
       "986 2024-10-01  rwgrc2           14.5\n",
       "987 2024-10-01  rwgrc3            5.0\n",
       "988 2024-10-01  rwgrc4           12.0\n",
       "989 2024-10-01  rwgrc5            8.0\n",
       "\n",
       "[990 rows x 3 columns]"
      ]
     },
     "execution_count": 13,
     "metadata": {},
     "output_type": "execute_result"
    }
   ],
   "source": [
    "irrigation"
   ]
  },
  {
   "cell_type": "markdown",
   "metadata": {},
   "source": [
    "<b> Number of irrigation days </b>"
   ]
  },
  {
   "cell_type": "code",
   "execution_count": 14,
   "metadata": {},
   "outputs": [
    {
     "data": {
      "text/plain": [
       "23"
      ]
     },
     "execution_count": 14,
     "metadata": {},
     "output_type": "execute_result"
    }
   ],
   "source": [
    "irrigation['Date'].nunique()"
   ]
  },
  {
   "cell_type": "markdown",
   "metadata": {},
   "source": [
    "* There's 23 days of irrigation"
   ]
  },
  {
   "cell_type": "markdown",
   "metadata": {},
   "source": [
    "### <b> Temperature </b>"
   ]
  },
  {
   "cell_type": "code",
   "execution_count": 15,
   "metadata": {},
   "outputs": [],
   "source": [
    "temperature = pd.read_excel(\"raw_data/inside_2.xlsx\")[['date','temperature']]"
   ]
  },
  {
   "cell_type": "code",
   "execution_count": 16,
   "metadata": {},
   "outputs": [],
   "source": [
    "temperature.rename(columns={'date':'Date'}, inplace=True)"
   ]
  },
  {
   "cell_type": "code",
   "execution_count": 17,
   "metadata": {},
   "outputs": [
    {
     "data": {
      "text/html": [
       "<div>\n",
       "<style scoped>\n",
       "    .dataframe tbody tr th:only-of-type {\n",
       "        vertical-align: middle;\n",
       "    }\n",
       "\n",
       "    .dataframe tbody tr th {\n",
       "        vertical-align: top;\n",
       "    }\n",
       "\n",
       "    .dataframe thead th {\n",
       "        text-align: right;\n",
       "    }\n",
       "</style>\n",
       "<table border=\"1\" class=\"dataframe\">\n",
       "  <thead>\n",
       "    <tr style=\"text-align: right;\">\n",
       "      <th></th>\n",
       "      <th>Date</th>\n",
       "      <th>temperature</th>\n",
       "    </tr>\n",
       "  </thead>\n",
       "  <tbody>\n",
       "    <tr>\n",
       "      <th>0</th>\n",
       "      <td>2024-08-22</td>\n",
       "      <td>18.200000</td>\n",
       "    </tr>\n",
       "    <tr>\n",
       "      <th>1</th>\n",
       "      <td>2024-08-22</td>\n",
       "      <td>17.200000</td>\n",
       "    </tr>\n",
       "    <tr>\n",
       "      <th>2</th>\n",
       "      <td>2024-08-22</td>\n",
       "      <td>17.300000</td>\n",
       "    </tr>\n",
       "    <tr>\n",
       "      <th>3</th>\n",
       "      <td>2024-08-22</td>\n",
       "      <td>17.700000</td>\n",
       "    </tr>\n",
       "    <tr>\n",
       "      <th>4</th>\n",
       "      <td>2024-08-22</td>\n",
       "      <td>17.400000</td>\n",
       "    </tr>\n",
       "    <tr>\n",
       "      <th>...</th>\n",
       "      <td>...</td>\n",
       "      <td>...</td>\n",
       "    </tr>\n",
       "    <tr>\n",
       "      <th>941</th>\n",
       "      <td>2024-10-03</td>\n",
       "      <td>20.703388</td>\n",
       "    </tr>\n",
       "    <tr>\n",
       "      <th>942</th>\n",
       "      <td>2024-10-03</td>\n",
       "      <td>21.296177</td>\n",
       "    </tr>\n",
       "    <tr>\n",
       "      <th>943</th>\n",
       "      <td>2024-10-03</td>\n",
       "      <td>21.758629</td>\n",
       "    </tr>\n",
       "    <tr>\n",
       "      <th>944</th>\n",
       "      <td>2024-10-03</td>\n",
       "      <td>21.531219</td>\n",
       "    </tr>\n",
       "    <tr>\n",
       "      <th>945</th>\n",
       "      <td>2024-10-03</td>\n",
       "      <td>21.528677</td>\n",
       "    </tr>\n",
       "  </tbody>\n",
       "</table>\n",
       "<p>946 rows × 2 columns</p>\n",
       "</div>"
      ],
      "text/plain": [
       "          Date  temperature\n",
       "0   2024-08-22    18.200000\n",
       "1   2024-08-22    17.200000\n",
       "2   2024-08-22    17.300000\n",
       "3   2024-08-22    17.700000\n",
       "4   2024-08-22    17.400000\n",
       "..         ...          ...\n",
       "941 2024-10-03    20.703388\n",
       "942 2024-10-03    21.296177\n",
       "943 2024-10-03    21.758629\n",
       "944 2024-10-03    21.531219\n",
       "945 2024-10-03    21.528677\n",
       "\n",
       "[946 rows x 2 columns]"
      ]
     },
     "execution_count": 17,
     "metadata": {},
     "output_type": "execute_result"
    }
   ],
   "source": [
    "temperature"
   ]
  },
  {
   "cell_type": "code",
   "execution_count": 18,
   "metadata": {},
   "outputs": [],
   "source": [
    "# Set Date column to datetime type\n",
    "temperature['Date'] = pd.to_datetime(temperature['Date'])"
   ]
  },
  {
   "cell_type": "code",
   "execution_count": 19,
   "metadata": {},
   "outputs": [
    {
     "data": {
      "text/html": [
       "<div>\n",
       "<style scoped>\n",
       "    .dataframe tbody tr th:only-of-type {\n",
       "        vertical-align: middle;\n",
       "    }\n",
       "\n",
       "    .dataframe tbody tr th {\n",
       "        vertical-align: top;\n",
       "    }\n",
       "\n",
       "    .dataframe thead th {\n",
       "        text-align: right;\n",
       "    }\n",
       "</style>\n",
       "<table border=\"1\" class=\"dataframe\">\n",
       "  <thead>\n",
       "    <tr style=\"text-align: right;\">\n",
       "      <th></th>\n",
       "      <th>Date</th>\n",
       "      <th>temperature</th>\n",
       "    </tr>\n",
       "  </thead>\n",
       "  <tbody>\n",
       "    <tr>\n",
       "      <th>0</th>\n",
       "      <td>2024-08-22</td>\n",
       "      <td>18.200000</td>\n",
       "    </tr>\n",
       "    <tr>\n",
       "      <th>1</th>\n",
       "      <td>2024-08-22</td>\n",
       "      <td>17.200000</td>\n",
       "    </tr>\n",
       "    <tr>\n",
       "      <th>2</th>\n",
       "      <td>2024-08-22</td>\n",
       "      <td>17.300000</td>\n",
       "    </tr>\n",
       "    <tr>\n",
       "      <th>3</th>\n",
       "      <td>2024-08-22</td>\n",
       "      <td>17.700000</td>\n",
       "    </tr>\n",
       "    <tr>\n",
       "      <th>4</th>\n",
       "      <td>2024-08-22</td>\n",
       "      <td>17.400000</td>\n",
       "    </tr>\n",
       "    <tr>\n",
       "      <th>...</th>\n",
       "      <td>...</td>\n",
       "      <td>...</td>\n",
       "    </tr>\n",
       "    <tr>\n",
       "      <th>941</th>\n",
       "      <td>2024-10-03</td>\n",
       "      <td>20.703388</td>\n",
       "    </tr>\n",
       "    <tr>\n",
       "      <th>942</th>\n",
       "      <td>2024-10-03</td>\n",
       "      <td>21.296177</td>\n",
       "    </tr>\n",
       "    <tr>\n",
       "      <th>943</th>\n",
       "      <td>2024-10-03</td>\n",
       "      <td>21.758629</td>\n",
       "    </tr>\n",
       "    <tr>\n",
       "      <th>944</th>\n",
       "      <td>2024-10-03</td>\n",
       "      <td>21.531219</td>\n",
       "    </tr>\n",
       "    <tr>\n",
       "      <th>945</th>\n",
       "      <td>2024-10-03</td>\n",
       "      <td>21.528677</td>\n",
       "    </tr>\n",
       "  </tbody>\n",
       "</table>\n",
       "<p>946 rows × 2 columns</p>\n",
       "</div>"
      ],
      "text/plain": [
       "          Date  temperature\n",
       "0   2024-08-22    18.200000\n",
       "1   2024-08-22    17.200000\n",
       "2   2024-08-22    17.300000\n",
       "3   2024-08-22    17.700000\n",
       "4   2024-08-22    17.400000\n",
       "..         ...          ...\n",
       "941 2024-10-03    20.703388\n",
       "942 2024-10-03    21.296177\n",
       "943 2024-10-03    21.758629\n",
       "944 2024-10-03    21.531219\n",
       "945 2024-10-03    21.528677\n",
       "\n",
       "[946 rows x 2 columns]"
      ]
     },
     "execution_count": 19,
     "metadata": {},
     "output_type": "execute_result"
    }
   ],
   "source": [
    "temperature"
   ]
  },
  {
   "cell_type": "code",
   "execution_count": 20,
   "metadata": {},
   "outputs": [
    {
     "data": {
      "text/plain": [
       "43"
      ]
     },
     "execution_count": 20,
     "metadata": {},
     "output_type": "execute_result"
    }
   ],
   "source": [
    "temperature['Date'].nunique()"
   ]
  },
  {
   "cell_type": "markdown",
   "metadata": {},
   "source": [
    "* Measurements of the temperature of the greenhouse were taken at 43 different days"
   ]
  },
  {
   "cell_type": "code",
   "execution_count": 21,
   "metadata": {},
   "outputs": [],
   "source": [
    "# Daily number of temperature measurements\n",
    "temp_date_dict = count_daily_measurements(temperature)"
   ]
  },
  {
   "cell_type": "code",
   "execution_count": 22,
   "metadata": {},
   "outputs": [
    {
     "data": {
      "text/plain": [
       "{Timestamp('2024-08-22 00:00:00'): 25,\n",
       " Timestamp('2024-08-23 00:00:00'): 24,\n",
       " Timestamp('2024-08-24 00:00:00'): 24,\n",
       " Timestamp('2024-08-25 00:00:00'): 24,\n",
       " Timestamp('2024-08-26 00:00:00'): 24,\n",
       " Timestamp('2024-08-27 00:00:00'): 24,\n",
       " Timestamp('2024-08-28 00:00:00'): 24,\n",
       " Timestamp('2024-08-29 00:00:00'): 24,\n",
       " Timestamp('2024-08-30 00:00:00'): 24,\n",
       " Timestamp('2024-08-31 00:00:00'): 24,\n",
       " Timestamp('2024-09-01 00:00:00'): 23,\n",
       " Timestamp('2024-09-02 00:00:00'): 24,\n",
       " Timestamp('2024-09-03 00:00:00'): 24,\n",
       " Timestamp('2024-09-04 00:00:00'): 24,\n",
       " Timestamp('2024-09-05 00:00:00'): 24,\n",
       " Timestamp('2024-09-06 00:00:00'): 24,\n",
       " Timestamp('2024-09-07 00:00:00'): 24,\n",
       " Timestamp('2024-09-08 00:00:00'): 24,\n",
       " Timestamp('2024-09-09 00:00:00'): 24,\n",
       " Timestamp('2024-09-10 00:00:00'): 24,\n",
       " Timestamp('2024-09-11 00:00:00'): 24,\n",
       " Timestamp('2024-09-12 00:00:00'): 19,\n",
       " Timestamp('2024-09-13 00:00:00'): 18,\n",
       " Timestamp('2024-09-14 00:00:00'): 24,\n",
       " Timestamp('2024-09-15 00:00:00'): 24,\n",
       " Timestamp('2024-09-16 00:00:00'): 16,\n",
       " Timestamp('2024-09-17 00:00:00'): 9,\n",
       " Timestamp('2024-09-18 00:00:00'): 14,\n",
       " Timestamp('2024-09-19 00:00:00'): 21,\n",
       " Timestamp('2024-09-20 00:00:00'): 20,\n",
       " Timestamp('2024-09-21 00:00:00'): 24,\n",
       " Timestamp('2024-09-22 00:00:00'): 14,\n",
       " Timestamp('2024-09-23 00:00:00'): 13,\n",
       " Timestamp('2024-09-24 00:00:00'): 23,\n",
       " Timestamp('2024-09-25 00:00:00'): 24,\n",
       " Timestamp('2024-09-26 00:00:00'): 24,\n",
       " Timestamp('2024-09-27 00:00:00'): 22,\n",
       " Timestamp('2024-09-28 00:00:00'): 24,\n",
       " Timestamp('2024-09-29 00:00:00'): 23,\n",
       " Timestamp('2024-09-30 00:00:00'): 23,\n",
       " Timestamp('2024-10-01 00:00:00'): 24,\n",
       " Timestamp('2024-10-02 00:00:00'): 24,\n",
       " Timestamp('2024-10-03 00:00:00'): 15}"
      ]
     },
     "execution_count": 22,
     "metadata": {},
     "output_type": "execute_result"
    }
   ],
   "source": [
    "temp_date_dict"
   ]
  },
  {
   "cell_type": "code",
   "execution_count": 23,
   "metadata": {},
   "outputs": [
    {
     "data": {
      "text/plain": [
       "dict_values([25, 24, 24, 24, 24, 24, 24, 24, 24, 24, 23, 24, 24, 24, 24, 24, 24, 24, 24, 24, 24, 19, 18, 24, 24, 16, 9, 14, 21, 20, 24, 14, 13, 23, 24, 24, 22, 24, 23, 23, 24, 24, 15])"
      ]
     },
     "execution_count": 23,
     "metadata": {},
     "output_type": "execute_result"
    }
   ],
   "source": [
    "temp_date_dict.values()"
   ]
  },
  {
   "cell_type": "markdown",
   "metadata": {},
   "source": [
    "* As we can tell by the values of the date_dict dictionary the number of temperature measurements wasn't constant during the experiment."
   ]
  },
  {
   "cell_type": "markdown",
   "metadata": {},
   "source": [
    "### <b> Humidity </b>"
   ]
  },
  {
   "cell_type": "code",
   "execution_count": 24,
   "metadata": {},
   "outputs": [],
   "source": [
    "humidity = pd.read_excel(\"raw_data/inside_2.xlsx\")[['date','humidity']]\n",
    "humidity.rename(columns={'date':'Date'}, inplace=True)"
   ]
  },
  {
   "cell_type": "code",
   "execution_count": 25,
   "metadata": {},
   "outputs": [],
   "source": [
    "# Set Date column to datetime type\n",
    "humidity['Date'] = pd.to_datetime(humidity['Date'])"
   ]
  },
  {
   "cell_type": "code",
   "execution_count": 26,
   "metadata": {},
   "outputs": [
    {
     "data": {
      "text/plain": [
       "43"
      ]
     },
     "execution_count": 26,
     "metadata": {},
     "output_type": "execute_result"
    }
   ],
   "source": [
    "humidity['Date'].nunique()"
   ]
  },
  {
   "cell_type": "code",
   "execution_count": 27,
   "metadata": {},
   "outputs": [
    {
     "data": {
      "text/html": [
       "<div>\n",
       "<style scoped>\n",
       "    .dataframe tbody tr th:only-of-type {\n",
       "        vertical-align: middle;\n",
       "    }\n",
       "\n",
       "    .dataframe tbody tr th {\n",
       "        vertical-align: top;\n",
       "    }\n",
       "\n",
       "    .dataframe thead th {\n",
       "        text-align: right;\n",
       "    }\n",
       "</style>\n",
       "<table border=\"1\" class=\"dataframe\">\n",
       "  <thead>\n",
       "    <tr style=\"text-align: right;\">\n",
       "      <th></th>\n",
       "      <th>Date</th>\n",
       "      <th>humidity</th>\n",
       "    </tr>\n",
       "  </thead>\n",
       "  <tbody>\n",
       "    <tr>\n",
       "      <th>0</th>\n",
       "      <td>2024-08-22</td>\n",
       "      <td>66.100000</td>\n",
       "    </tr>\n",
       "    <tr>\n",
       "      <th>1</th>\n",
       "      <td>2024-08-22</td>\n",
       "      <td>70.700000</td>\n",
       "    </tr>\n",
       "    <tr>\n",
       "      <th>2</th>\n",
       "      <td>2024-08-22</td>\n",
       "      <td>74.000000</td>\n",
       "    </tr>\n",
       "    <tr>\n",
       "      <th>3</th>\n",
       "      <td>2024-08-22</td>\n",
       "      <td>76.600000</td>\n",
       "    </tr>\n",
       "    <tr>\n",
       "      <th>4</th>\n",
       "      <td>2024-08-22</td>\n",
       "      <td>77.800000</td>\n",
       "    </tr>\n",
       "    <tr>\n",
       "      <th>...</th>\n",
       "      <td>...</td>\n",
       "      <td>...</td>\n",
       "    </tr>\n",
       "    <tr>\n",
       "      <th>941</th>\n",
       "      <td>2024-10-03</td>\n",
       "      <td>86.559822</td>\n",
       "    </tr>\n",
       "    <tr>\n",
       "      <th>942</th>\n",
       "      <td>2024-10-03</td>\n",
       "      <td>85.557480</td>\n",
       "    </tr>\n",
       "    <tr>\n",
       "      <th>943</th>\n",
       "      <td>2024-10-03</td>\n",
       "      <td>84.059044</td>\n",
       "    </tr>\n",
       "    <tr>\n",
       "      <th>944</th>\n",
       "      <td>2024-10-03</td>\n",
       "      <td>82.733772</td>\n",
       "    </tr>\n",
       "    <tr>\n",
       "      <th>945</th>\n",
       "      <td>2024-10-03</td>\n",
       "      <td>81.984047</td>\n",
       "    </tr>\n",
       "  </tbody>\n",
       "</table>\n",
       "<p>946 rows × 2 columns</p>\n",
       "</div>"
      ],
      "text/plain": [
       "          Date   humidity\n",
       "0   2024-08-22  66.100000\n",
       "1   2024-08-22  70.700000\n",
       "2   2024-08-22  74.000000\n",
       "3   2024-08-22  76.600000\n",
       "4   2024-08-22  77.800000\n",
       "..         ...        ...\n",
       "941 2024-10-03  86.559822\n",
       "942 2024-10-03  85.557480\n",
       "943 2024-10-03  84.059044\n",
       "944 2024-10-03  82.733772\n",
       "945 2024-10-03  81.984047\n",
       "\n",
       "[946 rows x 2 columns]"
      ]
     },
     "execution_count": 27,
     "metadata": {},
     "output_type": "execute_result"
    }
   ],
   "source": [
    "humidity"
   ]
  },
  {
   "cell_type": "code",
   "execution_count": 28,
   "metadata": {},
   "outputs": [],
   "source": [
    "hum_date_dict = count_daily_measurements(humidity)"
   ]
  },
  {
   "cell_type": "code",
   "execution_count": 29,
   "metadata": {},
   "outputs": [
    {
     "data": {
      "text/plain": [
       "dict_values([25, 24, 24, 24, 24, 24, 24, 24, 24, 24, 23, 24, 24, 24, 24, 24, 24, 24, 24, 24, 24, 19, 18, 24, 24, 16, 9, 14, 21, 20, 24, 14, 13, 23, 24, 24, 22, 24, 23, 23, 24, 24, 15])"
      ]
     },
     "execution_count": 29,
     "metadata": {},
     "output_type": "execute_result"
    }
   ],
   "source": [
    "hum_date_dict.values()"
   ]
  },
  {
   "cell_type": "markdown",
   "metadata": {},
   "source": [
    "* The number of humidity measurements follows the number of temperature measurements (captured by the same sensors)"
   ]
  },
  {
   "cell_type": "markdown",
   "metadata": {},
   "source": [
    "### <b> PAR </b>"
   ]
  },
  {
   "cell_type": "code",
   "execution_count": 30,
   "metadata": {},
   "outputs": [],
   "source": [
    "par = pd.read_excel('raw_data/PAR.xlsx')\n",
    "\n",
    "# Set Date column to datetime type using clean_timestamp from utils.py\n",
    "par['Date'] = par['Date'].apply(clean_timestamp)"
   ]
  },
  {
   "cell_type": "code",
   "execution_count": 31,
   "metadata": {},
   "outputs": [
    {
     "data": {
      "text/plain": [
       "19"
      ]
     },
     "execution_count": 31,
     "metadata": {},
     "output_type": "execute_result"
    }
   ],
   "source": [
    "par['Date'].nunique()"
   ]
  },
  {
   "cell_type": "code",
   "execution_count": 32,
   "metadata": {},
   "outputs": [],
   "source": [
    "par_date_dict = count_daily_measurements(par)"
   ]
  },
  {
   "cell_type": "code",
   "execution_count": 33,
   "metadata": {},
   "outputs": [
    {
     "data": {
      "text/plain": [
       "{Timestamp('2024-09-02 00:00:00'): 5,\n",
       " Timestamp('2024-09-03 00:00:00'): 24,\n",
       " Timestamp('2024-09-04 00:00:00'): 24,\n",
       " Timestamp('2024-09-05 00:00:00'): 24,\n",
       " Timestamp('2024-09-06 00:00:00'): 24,\n",
       " Timestamp('2024-09-07 00:00:00'): 23,\n",
       " Timestamp('2024-09-08 00:00:00'): 24,\n",
       " Timestamp('2024-09-09 00:00:00'): 24,\n",
       " Timestamp('2024-09-10 00:00:00'): 24,\n",
       " Timestamp('2024-09-11 00:00:00'): 24,\n",
       " Timestamp('2024-09-12 00:00:00'): 24,\n",
       " Timestamp('2024-09-13 00:00:00'): 25,\n",
       " Timestamp('2024-09-14 00:00:00'): 23,\n",
       " Timestamp('2024-09-15 00:00:00'): 24,\n",
       " Timestamp('2024-09-16 00:00:00'): 23,\n",
       " Timestamp('2024-09-17 00:00:00'): 24,\n",
       " Timestamp('2024-09-18 00:00:00'): 24,\n",
       " Timestamp('2024-09-19 00:00:00'): 24,\n",
       " Timestamp('2024-09-20 00:00:00'): 10}"
      ]
     },
     "execution_count": 33,
     "metadata": {},
     "output_type": "execute_result"
    }
   ],
   "source": [
    "par_date_dict"
   ]
  },
  {
   "cell_type": "markdown",
   "metadata": {},
   "source": [
    "<b> Common Dates amongst biometric and environmental dataframes </b>"
   ]
  },
  {
   "cell_type": "code",
   "execution_count": 34,
   "metadata": {},
   "outputs": [],
   "source": [
    "dataframes = {'Biometry':biometry, 'Irrigation':irrigation, 'Humidity':humidity,'Temperature':temperature, 'Par':par}"
   ]
  },
  {
   "cell_type": "code",
   "execution_count": 35,
   "metadata": {},
   "outputs": [
    {
     "name": "stdout",
     "output_type": "stream",
     "text": [
      "Biometry x Irrigation | No. Common Dates: 4\n",
      "\n",
      "Biometry x Humidity | No. Common Dates: 8\n",
      "\n",
      "Biometry x Temperature | No. Common Dates: 8\n",
      "\n",
      "Biometry x Par | No. Common Dates: 5\n",
      "\n",
      "Irrigation x Humidity | No. Common Dates: 23\n",
      "\n",
      "Irrigation x Temperature | No. Common Dates: 23\n",
      "\n",
      "Irrigation x Par | No. Common Dates: 11\n",
      "\n",
      "Humidity x Temperature | No. Common Dates: 43\n",
      "\n",
      "Humidity x Par | No. Common Dates: 19\n",
      "\n",
      "Temperature x Par | No. Common Dates: 19\n",
      "\n"
     ]
    }
   ],
   "source": [
    "common_dates = find_common_dates(dataframes, check_num = 1)"
   ]
  },
  {
   "cell_type": "code",
   "execution_count": 36,
   "metadata": {},
   "outputs": [
    {
     "data": {
      "text/plain": [
       "{'Biometry x Irrigation': {Timestamp('2024-09-07 00:00:00'),\n",
       "  Timestamp('2024-09-11 00:00:00'),\n",
       "  Timestamp('2024-09-17 00:00:00'),\n",
       "  Timestamp('2024-09-20 00:00:00')},\n",
       " 'Biometry x Humidity': {Timestamp('2024-09-07 00:00:00'),\n",
       "  Timestamp('2024-09-11 00:00:00'),\n",
       "  Timestamp('2024-09-14 00:00:00'),\n",
       "  Timestamp('2024-09-17 00:00:00'),\n",
       "  Timestamp('2024-09-20 00:00:00'),\n",
       "  Timestamp('2024-09-24 00:00:00'),\n",
       "  Timestamp('2024-09-29 00:00:00'),\n",
       "  Timestamp('2024-10-03 00:00:00')},\n",
       " 'Biometry x Temperature': {Timestamp('2024-09-07 00:00:00'),\n",
       "  Timestamp('2024-09-11 00:00:00'),\n",
       "  Timestamp('2024-09-14 00:00:00'),\n",
       "  Timestamp('2024-09-17 00:00:00'),\n",
       "  Timestamp('2024-09-20 00:00:00'),\n",
       "  Timestamp('2024-09-24 00:00:00'),\n",
       "  Timestamp('2024-09-29 00:00:00'),\n",
       "  Timestamp('2024-10-03 00:00:00')},\n",
       " 'Biometry x Par': {Timestamp('2024-09-07 00:00:00'),\n",
       "  Timestamp('2024-09-11 00:00:00'),\n",
       "  Timestamp('2024-09-14 00:00:00'),\n",
       "  Timestamp('2024-09-17 00:00:00'),\n",
       "  Timestamp('2024-09-20 00:00:00')},\n",
       " 'Irrigation x Humidity': {Timestamp('2024-08-24 00:00:00'),\n",
       "  Timestamp('2024-08-26 00:00:00'),\n",
       "  Timestamp('2024-08-28 00:00:00'),\n",
       "  Timestamp('2024-08-30 00:00:00'),\n",
       "  Timestamp('2024-09-02 00:00:00'),\n",
       "  Timestamp('2024-09-04 00:00:00'),\n",
       "  Timestamp('2024-09-07 00:00:00'),\n",
       "  Timestamp('2024-09-09 00:00:00'),\n",
       "  Timestamp('2024-09-11 00:00:00'),\n",
       "  Timestamp('2024-09-12 00:00:00'),\n",
       "  Timestamp('2024-09-13 00:00:00'),\n",
       "  Timestamp('2024-09-16 00:00:00'),\n",
       "  Timestamp('2024-09-17 00:00:00'),\n",
       "  Timestamp('2024-09-18 00:00:00'),\n",
       "  Timestamp('2024-09-20 00:00:00'),\n",
       "  Timestamp('2024-09-21 00:00:00'),\n",
       "  Timestamp('2024-09-22 00:00:00'),\n",
       "  Timestamp('2024-09-23 00:00:00'),\n",
       "  Timestamp('2024-09-25 00:00:00'),\n",
       "  Timestamp('2024-09-26 00:00:00'),\n",
       "  Timestamp('2024-09-27 00:00:00'),\n",
       "  Timestamp('2024-09-30 00:00:00'),\n",
       "  Timestamp('2024-10-01 00:00:00')},\n",
       " 'Irrigation x Temperature': {Timestamp('2024-08-24 00:00:00'),\n",
       "  Timestamp('2024-08-26 00:00:00'),\n",
       "  Timestamp('2024-08-28 00:00:00'),\n",
       "  Timestamp('2024-08-30 00:00:00'),\n",
       "  Timestamp('2024-09-02 00:00:00'),\n",
       "  Timestamp('2024-09-04 00:00:00'),\n",
       "  Timestamp('2024-09-07 00:00:00'),\n",
       "  Timestamp('2024-09-09 00:00:00'),\n",
       "  Timestamp('2024-09-11 00:00:00'),\n",
       "  Timestamp('2024-09-12 00:00:00'),\n",
       "  Timestamp('2024-09-13 00:00:00'),\n",
       "  Timestamp('2024-09-16 00:00:00'),\n",
       "  Timestamp('2024-09-17 00:00:00'),\n",
       "  Timestamp('2024-09-18 00:00:00'),\n",
       "  Timestamp('2024-09-20 00:00:00'),\n",
       "  Timestamp('2024-09-21 00:00:00'),\n",
       "  Timestamp('2024-09-22 00:00:00'),\n",
       "  Timestamp('2024-09-23 00:00:00'),\n",
       "  Timestamp('2024-09-25 00:00:00'),\n",
       "  Timestamp('2024-09-26 00:00:00'),\n",
       "  Timestamp('2024-09-27 00:00:00'),\n",
       "  Timestamp('2024-09-30 00:00:00'),\n",
       "  Timestamp('2024-10-01 00:00:00')},\n",
       " 'Irrigation x Par': {Timestamp('2024-09-02 00:00:00'),\n",
       "  Timestamp('2024-09-04 00:00:00'),\n",
       "  Timestamp('2024-09-07 00:00:00'),\n",
       "  Timestamp('2024-09-09 00:00:00'),\n",
       "  Timestamp('2024-09-11 00:00:00'),\n",
       "  Timestamp('2024-09-12 00:00:00'),\n",
       "  Timestamp('2024-09-13 00:00:00'),\n",
       "  Timestamp('2024-09-16 00:00:00'),\n",
       "  Timestamp('2024-09-17 00:00:00'),\n",
       "  Timestamp('2024-09-18 00:00:00'),\n",
       "  Timestamp('2024-09-20 00:00:00')},\n",
       " 'Humidity x Temperature': {Timestamp('2024-08-22 00:00:00'),\n",
       "  Timestamp('2024-08-23 00:00:00'),\n",
       "  Timestamp('2024-08-24 00:00:00'),\n",
       "  Timestamp('2024-08-25 00:00:00'),\n",
       "  Timestamp('2024-08-26 00:00:00'),\n",
       "  Timestamp('2024-08-27 00:00:00'),\n",
       "  Timestamp('2024-08-28 00:00:00'),\n",
       "  Timestamp('2024-08-29 00:00:00'),\n",
       "  Timestamp('2024-08-30 00:00:00'),\n",
       "  Timestamp('2024-08-31 00:00:00'),\n",
       "  Timestamp('2024-09-01 00:00:00'),\n",
       "  Timestamp('2024-09-02 00:00:00'),\n",
       "  Timestamp('2024-09-03 00:00:00'),\n",
       "  Timestamp('2024-09-04 00:00:00'),\n",
       "  Timestamp('2024-09-05 00:00:00'),\n",
       "  Timestamp('2024-09-06 00:00:00'),\n",
       "  Timestamp('2024-09-07 00:00:00'),\n",
       "  Timestamp('2024-09-08 00:00:00'),\n",
       "  Timestamp('2024-09-09 00:00:00'),\n",
       "  Timestamp('2024-09-10 00:00:00'),\n",
       "  Timestamp('2024-09-11 00:00:00'),\n",
       "  Timestamp('2024-09-12 00:00:00'),\n",
       "  Timestamp('2024-09-13 00:00:00'),\n",
       "  Timestamp('2024-09-14 00:00:00'),\n",
       "  Timestamp('2024-09-15 00:00:00'),\n",
       "  Timestamp('2024-09-16 00:00:00'),\n",
       "  Timestamp('2024-09-17 00:00:00'),\n",
       "  Timestamp('2024-09-18 00:00:00'),\n",
       "  Timestamp('2024-09-19 00:00:00'),\n",
       "  Timestamp('2024-09-20 00:00:00'),\n",
       "  Timestamp('2024-09-21 00:00:00'),\n",
       "  Timestamp('2024-09-22 00:00:00'),\n",
       "  Timestamp('2024-09-23 00:00:00'),\n",
       "  Timestamp('2024-09-24 00:00:00'),\n",
       "  Timestamp('2024-09-25 00:00:00'),\n",
       "  Timestamp('2024-09-26 00:00:00'),\n",
       "  Timestamp('2024-09-27 00:00:00'),\n",
       "  Timestamp('2024-09-28 00:00:00'),\n",
       "  Timestamp('2024-09-29 00:00:00'),\n",
       "  Timestamp('2024-09-30 00:00:00'),\n",
       "  Timestamp('2024-10-01 00:00:00'),\n",
       "  Timestamp('2024-10-02 00:00:00'),\n",
       "  Timestamp('2024-10-03 00:00:00')},\n",
       " 'Humidity x Par': {Timestamp('2024-09-02 00:00:00'),\n",
       "  Timestamp('2024-09-03 00:00:00'),\n",
       "  Timestamp('2024-09-04 00:00:00'),\n",
       "  Timestamp('2024-09-05 00:00:00'),\n",
       "  Timestamp('2024-09-06 00:00:00'),\n",
       "  Timestamp('2024-09-07 00:00:00'),\n",
       "  Timestamp('2024-09-08 00:00:00'),\n",
       "  Timestamp('2024-09-09 00:00:00'),\n",
       "  Timestamp('2024-09-10 00:00:00'),\n",
       "  Timestamp('2024-09-11 00:00:00'),\n",
       "  Timestamp('2024-09-12 00:00:00'),\n",
       "  Timestamp('2024-09-13 00:00:00'),\n",
       "  Timestamp('2024-09-14 00:00:00'),\n",
       "  Timestamp('2024-09-15 00:00:00'),\n",
       "  Timestamp('2024-09-16 00:00:00'),\n",
       "  Timestamp('2024-09-17 00:00:00'),\n",
       "  Timestamp('2024-09-18 00:00:00'),\n",
       "  Timestamp('2024-09-19 00:00:00'),\n",
       "  Timestamp('2024-09-20 00:00:00')},\n",
       " 'Temperature x Par': {Timestamp('2024-09-02 00:00:00'),\n",
       "  Timestamp('2024-09-03 00:00:00'),\n",
       "  Timestamp('2024-09-04 00:00:00'),\n",
       "  Timestamp('2024-09-05 00:00:00'),\n",
       "  Timestamp('2024-09-06 00:00:00'),\n",
       "  Timestamp('2024-09-07 00:00:00'),\n",
       "  Timestamp('2024-09-08 00:00:00'),\n",
       "  Timestamp('2024-09-09 00:00:00'),\n",
       "  Timestamp('2024-09-10 00:00:00'),\n",
       "  Timestamp('2024-09-11 00:00:00'),\n",
       "  Timestamp('2024-09-12 00:00:00'),\n",
       "  Timestamp('2024-09-13 00:00:00'),\n",
       "  Timestamp('2024-09-14 00:00:00'),\n",
       "  Timestamp('2024-09-15 00:00:00'),\n",
       "  Timestamp('2024-09-16 00:00:00'),\n",
       "  Timestamp('2024-09-17 00:00:00'),\n",
       "  Timestamp('2024-09-18 00:00:00'),\n",
       "  Timestamp('2024-09-19 00:00:00'),\n",
       "  Timestamp('2024-09-20 00:00:00')}}"
      ]
     },
     "execution_count": 36,
     "metadata": {},
     "output_type": "execute_result"
    }
   ],
   "source": [
    "common_dates"
   ]
  },
  {
   "cell_type": "markdown",
   "metadata": {},
   "source": [
    "* Since there aren't many common dates amongst the biometry dataframes and environmental variables, we'll make use of the available environmental data to calculate cumulative values where possible to gather valuable information and append it to the corresponding biometry entries in the dataframe."
   ]
  },
  {
   "cell_type": "markdown",
   "metadata": {},
   "source": [
    "#### <b> Environmental Variables </b>"
   ]
  },
  {
   "cell_type": "code",
   "execution_count": 37,
   "metadata": {},
   "outputs": [],
   "source": [
    "cumul_gdd = calculate_cumulative_gdd(temperature_df=temperature)"
   ]
  },
  {
   "cell_type": "code",
   "execution_count": 38,
   "metadata": {},
   "outputs": [
    {
     "data": {
      "text/html": [
       "<div>\n",
       "<style scoped>\n",
       "    .dataframe tbody tr th:only-of-type {\n",
       "        vertical-align: middle;\n",
       "    }\n",
       "\n",
       "    .dataframe tbody tr th {\n",
       "        vertical-align: top;\n",
       "    }\n",
       "\n",
       "    .dataframe thead th {\n",
       "        text-align: right;\n",
       "    }\n",
       "</style>\n",
       "<table border=\"1\" class=\"dataframe\">\n",
       "  <thead>\n",
       "    <tr style=\"text-align: right;\">\n",
       "      <th></th>\n",
       "      <th>Date</th>\n",
       "      <th>GDD Cumul.</th>\n",
       "    </tr>\n",
       "  </thead>\n",
       "  <tbody>\n",
       "    <tr>\n",
       "      <th>0</th>\n",
       "      <td>2024-08-22</td>\n",
       "      <td>18.750000</td>\n",
       "    </tr>\n",
       "    <tr>\n",
       "      <th>1</th>\n",
       "      <td>2024-08-22</td>\n",
       "      <td>18.750000</td>\n",
       "    </tr>\n",
       "    <tr>\n",
       "      <th>2</th>\n",
       "      <td>2024-08-22</td>\n",
       "      <td>18.750000</td>\n",
       "    </tr>\n",
       "    <tr>\n",
       "      <th>3</th>\n",
       "      <td>2024-08-22</td>\n",
       "      <td>18.750000</td>\n",
       "    </tr>\n",
       "    <tr>\n",
       "      <th>4</th>\n",
       "      <td>2024-08-22</td>\n",
       "      <td>18.750000</td>\n",
       "    </tr>\n",
       "    <tr>\n",
       "      <th>...</th>\n",
       "      <td>...</td>\n",
       "      <td>...</td>\n",
       "    </tr>\n",
       "    <tr>\n",
       "      <th>941</th>\n",
       "      <td>2024-10-03</td>\n",
       "      <td>809.244245</td>\n",
       "    </tr>\n",
       "    <tr>\n",
       "      <th>942</th>\n",
       "      <td>2024-10-03</td>\n",
       "      <td>809.244245</td>\n",
       "    </tr>\n",
       "    <tr>\n",
       "      <th>943</th>\n",
       "      <td>2024-10-03</td>\n",
       "      <td>809.244245</td>\n",
       "    </tr>\n",
       "    <tr>\n",
       "      <th>944</th>\n",
       "      <td>2024-10-03</td>\n",
       "      <td>809.244245</td>\n",
       "    </tr>\n",
       "    <tr>\n",
       "      <th>945</th>\n",
       "      <td>2024-10-03</td>\n",
       "      <td>809.244245</td>\n",
       "    </tr>\n",
       "  </tbody>\n",
       "</table>\n",
       "<p>946 rows × 2 columns</p>\n",
       "</div>"
      ],
      "text/plain": [
       "          Date  GDD Cumul.\n",
       "0   2024-08-22   18.750000\n",
       "1   2024-08-22   18.750000\n",
       "2   2024-08-22   18.750000\n",
       "3   2024-08-22   18.750000\n",
       "4   2024-08-22   18.750000\n",
       "..         ...         ...\n",
       "941 2024-10-03  809.244245\n",
       "942 2024-10-03  809.244245\n",
       "943 2024-10-03  809.244245\n",
       "944 2024-10-03  809.244245\n",
       "945 2024-10-03  809.244245\n",
       "\n",
       "[946 rows x 2 columns]"
      ]
     },
     "execution_count": 38,
     "metadata": {},
     "output_type": "execute_result"
    }
   ],
   "source": [
    "cumul_gdd"
   ]
  },
  {
   "cell_type": "markdown",
   "metadata": {},
   "source": [
    "<b> Accumulated PAR </b>"
   ]
  },
  {
   "cell_type": "code",
   "execution_count": 39,
   "metadata": {},
   "outputs": [],
   "source": [
    "par_cumul = calculate_cumulative_par(par_df=par)"
   ]
  },
  {
   "cell_type": "markdown",
   "metadata": {},
   "source": [
    "<b> Accumulated Solution and Nitrate Irrigation </b>"
   ]
  },
  {
   "cell_type": "code",
   "execution_count": 40,
   "metadata": {},
   "outputs": [],
   "source": [
    "irr_df = calculate_accumulated_nitrates(irrigation_df=irrigation)"
   ]
  },
  {
   "cell_type": "code",
   "execution_count": 41,
   "metadata": {},
   "outputs": [
    {
     "data": {
      "text/html": [
       "<div>\n",
       "<style scoped>\n",
       "    .dataframe tbody tr th:only-of-type {\n",
       "        vertical-align: middle;\n",
       "    }\n",
       "\n",
       "    .dataframe tbody tr th {\n",
       "        vertical-align: top;\n",
       "    }\n",
       "\n",
       "    .dataframe thead th {\n",
       "        text-align: right;\n",
       "    }\n",
       "</style>\n",
       "<table border=\"1\" class=\"dataframe\">\n",
       "  <thead>\n",
       "    <tr style=\"text-align: right;\">\n",
       "      <th></th>\n",
       "      <th>Date</th>\n",
       "      <th>Sample</th>\n",
       "      <th>Cumul. Irrigation (mL)</th>\n",
       "      <th>Cumul. Nitrates (milimoles)</th>\n",
       "    </tr>\n",
       "  </thead>\n",
       "  <tbody>\n",
       "    <tr>\n",
       "      <th>0</th>\n",
       "      <td>2024-08-24</td>\n",
       "      <td>RNGRA1</td>\n",
       "      <td>50.0</td>\n",
       "      <td>0.3000</td>\n",
       "    </tr>\n",
       "    <tr>\n",
       "      <th>1</th>\n",
       "      <td>2024-08-24</td>\n",
       "      <td>RNGRA2</td>\n",
       "      <td>50.0</td>\n",
       "      <td>0.3000</td>\n",
       "    </tr>\n",
       "    <tr>\n",
       "      <th>2</th>\n",
       "      <td>2024-08-24</td>\n",
       "      <td>RNGRA3</td>\n",
       "      <td>50.0</td>\n",
       "      <td>0.3000</td>\n",
       "    </tr>\n",
       "    <tr>\n",
       "      <th>3</th>\n",
       "      <td>2024-08-24</td>\n",
       "      <td>RNGRA4</td>\n",
       "      <td>50.0</td>\n",
       "      <td>0.3000</td>\n",
       "    </tr>\n",
       "    <tr>\n",
       "      <th>4</th>\n",
       "      <td>2024-08-24</td>\n",
       "      <td>RNGRA5</td>\n",
       "      <td>50.0</td>\n",
       "      <td>0.3000</td>\n",
       "    </tr>\n",
       "    <tr>\n",
       "      <th>...</th>\n",
       "      <td>...</td>\n",
       "      <td>...</td>\n",
       "      <td>...</td>\n",
       "      <td>...</td>\n",
       "    </tr>\n",
       "    <tr>\n",
       "      <th>985</th>\n",
       "      <td>2024-10-01</td>\n",
       "      <td>RWGRC1</td>\n",
       "      <td>1084.0</td>\n",
       "      <td>18.4280</td>\n",
       "    </tr>\n",
       "    <tr>\n",
       "      <th>986</th>\n",
       "      <td>2024-10-01</td>\n",
       "      <td>RWGRC2</td>\n",
       "      <td>877.5</td>\n",
       "      <td>14.9175</td>\n",
       "    </tr>\n",
       "    <tr>\n",
       "      <th>987</th>\n",
       "      <td>2024-10-01</td>\n",
       "      <td>RWGRC3</td>\n",
       "      <td>1045.5</td>\n",
       "      <td>17.7735</td>\n",
       "    </tr>\n",
       "    <tr>\n",
       "      <th>988</th>\n",
       "      <td>2024-10-01</td>\n",
       "      <td>RWGRC4</td>\n",
       "      <td>1058.0</td>\n",
       "      <td>17.9860</td>\n",
       "    </tr>\n",
       "    <tr>\n",
       "      <th>989</th>\n",
       "      <td>2024-10-01</td>\n",
       "      <td>RWGRC5</td>\n",
       "      <td>968.0</td>\n",
       "      <td>16.4560</td>\n",
       "    </tr>\n",
       "  </tbody>\n",
       "</table>\n",
       "<p>990 rows × 4 columns</p>\n",
       "</div>"
      ],
      "text/plain": [
       "          Date  Sample  Cumul. Irrigation (mL)  Cumul. Nitrates (milimoles)\n",
       "0   2024-08-24  RNGRA1                    50.0                       0.3000\n",
       "1   2024-08-24  RNGRA2                    50.0                       0.3000\n",
       "2   2024-08-24  RNGRA3                    50.0                       0.3000\n",
       "3   2024-08-24  RNGRA4                    50.0                       0.3000\n",
       "4   2024-08-24  RNGRA5                    50.0                       0.3000\n",
       "..         ...     ...                     ...                          ...\n",
       "985 2024-10-01  RWGRC1                  1084.0                      18.4280\n",
       "986 2024-10-01  RWGRC2                   877.5                      14.9175\n",
       "987 2024-10-01  RWGRC3                  1045.5                      17.7735\n",
       "988 2024-10-01  RWGRC4                  1058.0                      17.9860\n",
       "989 2024-10-01  RWGRC5                   968.0                      16.4560\n",
       "\n",
       "[990 rows x 4 columns]"
      ]
     },
     "execution_count": 41,
     "metadata": {},
     "output_type": "execute_result"
    }
   ],
   "source": [
    "irr_df"
   ]
  },
  {
   "cell_type": "markdown",
   "metadata": {},
   "source": [
    "<b> Average daily Humidity </b>"
   ]
  },
  {
   "cell_type": "code",
   "execution_count": 42,
   "metadata": {},
   "outputs": [],
   "source": [
    "hum_avg = daily_average_humidity(humidity_df=humidity)"
   ]
  },
  {
   "cell_type": "markdown",
   "metadata": {},
   "source": [
    "<b> Combine all dataframes </b>"
   ]
  },
  {
   "cell_type": "code",
   "execution_count": 43,
   "metadata": {},
   "outputs": [],
   "source": [
    "merged_df = merge_variables(bbch_df=new_bbch, biometry_df=biometry, gdd_df=cumul_gdd, par_df=par_cumul, nitrates_df=irr_df)"
   ]
  },
  {
   "cell_type": "code",
   "execution_count": 44,
   "metadata": {},
   "outputs": [
    {
     "data": {
      "text/html": [
       "<div>\n",
       "<style scoped>\n",
       "    .dataframe tbody tr th:only-of-type {\n",
       "        vertical-align: middle;\n",
       "    }\n",
       "\n",
       "    .dataframe tbody tr th {\n",
       "        vertical-align: top;\n",
       "    }\n",
       "\n",
       "    .dataframe thead th {\n",
       "        text-align: right;\n",
       "    }\n",
       "</style>\n",
       "<table border=\"1\" class=\"dataframe\">\n",
       "  <thead>\n",
       "    <tr style=\"text-align: right;\">\n",
       "      <th></th>\n",
       "      <th>Date</th>\n",
       "      <th>PAR Cumul.</th>\n",
       "    </tr>\n",
       "  </thead>\n",
       "  <tbody>\n",
       "    <tr>\n",
       "      <th>0</th>\n",
       "      <td>2024-09-02</td>\n",
       "      <td>87.0</td>\n",
       "    </tr>\n",
       "    <tr>\n",
       "      <th>1</th>\n",
       "      <td>2024-09-03</td>\n",
       "      <td>1860.3</td>\n",
       "    </tr>\n",
       "    <tr>\n",
       "      <th>2</th>\n",
       "      <td>2024-09-04</td>\n",
       "      <td>3788.5</td>\n",
       "    </tr>\n",
       "    <tr>\n",
       "      <th>3</th>\n",
       "      <td>2024-09-05</td>\n",
       "      <td>5441.0</td>\n",
       "    </tr>\n",
       "    <tr>\n",
       "      <th>4</th>\n",
       "      <td>2024-09-06</td>\n",
       "      <td>6577.0</td>\n",
       "    </tr>\n",
       "    <tr>\n",
       "      <th>5</th>\n",
       "      <td>2024-09-07</td>\n",
       "      <td>8284.7</td>\n",
       "    </tr>\n",
       "    <tr>\n",
       "      <th>6</th>\n",
       "      <td>2024-09-08</td>\n",
       "      <td>10229.2</td>\n",
       "    </tr>\n",
       "    <tr>\n",
       "      <th>7</th>\n",
       "      <td>2024-09-09</td>\n",
       "      <td>12051.7</td>\n",
       "    </tr>\n",
       "    <tr>\n",
       "      <th>8</th>\n",
       "      <td>2024-09-10</td>\n",
       "      <td>14750.7</td>\n",
       "    </tr>\n",
       "    <tr>\n",
       "      <th>9</th>\n",
       "      <td>2024-09-11</td>\n",
       "      <td>16804.0</td>\n",
       "    </tr>\n",
       "    <tr>\n",
       "      <th>10</th>\n",
       "      <td>2024-09-12</td>\n",
       "      <td>18988.6</td>\n",
       "    </tr>\n",
       "    <tr>\n",
       "      <th>11</th>\n",
       "      <td>2024-09-13</td>\n",
       "      <td>21005.2</td>\n",
       "    </tr>\n",
       "    <tr>\n",
       "      <th>12</th>\n",
       "      <td>2024-09-14</td>\n",
       "      <td>22970.1</td>\n",
       "    </tr>\n",
       "    <tr>\n",
       "      <th>13</th>\n",
       "      <td>2024-09-15</td>\n",
       "      <td>24862.1</td>\n",
       "    </tr>\n",
       "    <tr>\n",
       "      <th>14</th>\n",
       "      <td>2024-09-16</td>\n",
       "      <td>26025.5</td>\n",
       "    </tr>\n",
       "    <tr>\n",
       "      <th>15</th>\n",
       "      <td>2024-09-17</td>\n",
       "      <td>26761.5</td>\n",
       "    </tr>\n",
       "    <tr>\n",
       "      <th>16</th>\n",
       "      <td>2024-09-18</td>\n",
       "      <td>27175.6</td>\n",
       "    </tr>\n",
       "    <tr>\n",
       "      <th>17</th>\n",
       "      <td>2024-09-19</td>\n",
       "      <td>28756.0</td>\n",
       "    </tr>\n",
       "    <tr>\n",
       "      <th>18</th>\n",
       "      <td>2024-09-20</td>\n",
       "      <td>28775.3</td>\n",
       "    </tr>\n",
       "  </tbody>\n",
       "</table>\n",
       "</div>"
      ],
      "text/plain": [
       "         Date  PAR Cumul.\n",
       "0  2024-09-02        87.0\n",
       "1  2024-09-03      1860.3\n",
       "2  2024-09-04      3788.5\n",
       "3  2024-09-05      5441.0\n",
       "4  2024-09-06      6577.0\n",
       "5  2024-09-07      8284.7\n",
       "6  2024-09-08     10229.2\n",
       "7  2024-09-09     12051.7\n",
       "8  2024-09-10     14750.7\n",
       "9  2024-09-11     16804.0\n",
       "10 2024-09-12     18988.6\n",
       "11 2024-09-13     21005.2\n",
       "12 2024-09-14     22970.1\n",
       "13 2024-09-15     24862.1\n",
       "14 2024-09-16     26025.5\n",
       "15 2024-09-17     26761.5\n",
       "16 2024-09-18     27175.6\n",
       "17 2024-09-19     28756.0\n",
       "18 2024-09-20     28775.3"
      ]
     },
     "execution_count": 44,
     "metadata": {},
     "output_type": "execute_result"
    }
   ],
   "source": [
    "par_cumul"
   ]
  },
  {
   "cell_type": "code",
   "execution_count": 45,
   "metadata": {},
   "outputs": [
    {
     "data": {
      "text/html": [
       "<div>\n",
       "<style scoped>\n",
       "    .dataframe tbody tr th:only-of-type {\n",
       "        vertical-align: middle;\n",
       "    }\n",
       "\n",
       "    .dataframe tbody tr th {\n",
       "        vertical-align: top;\n",
       "    }\n",
       "\n",
       "    .dataframe thead th {\n",
       "        text-align: right;\n",
       "    }\n",
       "</style>\n",
       "<table border=\"1\" class=\"dataframe\">\n",
       "  <thead>\n",
       "    <tr style=\"text-align: right;\">\n",
       "      <th></th>\n",
       "      <th>Date</th>\n",
       "      <th>Number</th>\n",
       "      <th>Line</th>\n",
       "      <th>Sample</th>\n",
       "      <th>No leaves</th>\n",
       "      <th>Diameter</th>\n",
       "      <th>Perpendicular</th>\n",
       "      <th>Height</th>\n",
       "      <th>Average Leaf Thickness</th>\n",
       "      <th>BBCH</th>\n",
       "      <th>GDD Cumul.</th>\n",
       "      <th>PAR Cumul.</th>\n",
       "      <th>Cumul. Irrigation (mL)</th>\n",
       "      <th>Cumul. Nitrates (milimoles)</th>\n",
       "    </tr>\n",
       "  </thead>\n",
       "  <tbody>\n",
       "    <tr>\n",
       "      <th>2</th>\n",
       "      <td>2024-09-07</td>\n",
       "      <td>16</td>\n",
       "      <td>3</td>\n",
       "      <td>RNGRA3</td>\n",
       "      <td>9</td>\n",
       "      <td>9.8</td>\n",
       "      <td>9.7</td>\n",
       "      <td>10.70</td>\n",
       "      <td>0.000000</td>\n",
       "      <td>19</td>\n",
       "      <td>317.050000</td>\n",
       "      <td>8284.7</td>\n",
       "      <td>350.00</td>\n",
       "      <td>2.1000</td>\n",
       "    </tr>\n",
       "    <tr>\n",
       "      <th>47</th>\n",
       "      <td>2024-09-11</td>\n",
       "      <td>16</td>\n",
       "      <td>3</td>\n",
       "      <td>RNGRA3</td>\n",
       "      <td>12</td>\n",
       "      <td>14.3</td>\n",
       "      <td>12.3</td>\n",
       "      <td>12.80</td>\n",
       "      <td>0.000000</td>\n",
       "      <td>19</td>\n",
       "      <td>391.750000</td>\n",
       "      <td>16804.0</td>\n",
       "      <td>462.25</td>\n",
       "      <td>2.7735</td>\n",
       "    </tr>\n",
       "    <tr>\n",
       "      <th>92</th>\n",
       "      <td>2024-09-14</td>\n",
       "      <td>16</td>\n",
       "      <td>3</td>\n",
       "      <td>RNGRA3</td>\n",
       "      <td>12</td>\n",
       "      <td>21.2</td>\n",
       "      <td>13.8</td>\n",
       "      <td>12.50</td>\n",
       "      <td>0.000000</td>\n",
       "      <td>19</td>\n",
       "      <td>457.100000</td>\n",
       "      <td>22970.1</td>\n",
       "      <td>530.50</td>\n",
       "      <td>3.1830</td>\n",
       "    </tr>\n",
       "    <tr>\n",
       "      <th>137</th>\n",
       "      <td>2024-09-17</td>\n",
       "      <td>16</td>\n",
       "      <td>3</td>\n",
       "      <td>RNGRA3</td>\n",
       "      <td>14</td>\n",
       "      <td>21.5</td>\n",
       "      <td>16.8</td>\n",
       "      <td>11.30</td>\n",
       "      <td>0.000000</td>\n",
       "      <td>19</td>\n",
       "      <td>529.378430</td>\n",
       "      <td>26761.5</td>\n",
       "      <td>661.50</td>\n",
       "      <td>3.9690</td>\n",
       "    </tr>\n",
       "    <tr>\n",
       "      <th>182</th>\n",
       "      <td>2024-09-20</td>\n",
       "      <td>16</td>\n",
       "      <td>3</td>\n",
       "      <td>RNGRA3</td>\n",
       "      <td>14</td>\n",
       "      <td>21.5</td>\n",
       "      <td>20.4</td>\n",
       "      <td>11.90</td>\n",
       "      <td>0.416667</td>\n",
       "      <td>19</td>\n",
       "      <td>589.001102</td>\n",
       "      <td>28775.3</td>\n",
       "      <td>737.50</td>\n",
       "      <td>4.4250</td>\n",
       "    </tr>\n",
       "    <tr>\n",
       "      <th>227</th>\n",
       "      <td>2024-09-24</td>\n",
       "      <td>16</td>\n",
       "      <td>3</td>\n",
       "      <td>RNGRA3</td>\n",
       "      <td>14</td>\n",
       "      <td>28.5</td>\n",
       "      <td>25.7</td>\n",
       "      <td>13.55</td>\n",
       "      <td>0.293333</td>\n",
       "      <td>19</td>\n",
       "      <td>660.469683</td>\n",
       "      <td>28775.3</td>\n",
       "      <td>862.50</td>\n",
       "      <td>5.1750</td>\n",
       "    </tr>\n",
       "    <tr>\n",
       "      <th>272</th>\n",
       "      <td>2024-09-29</td>\n",
       "      <td>16</td>\n",
       "      <td>3</td>\n",
       "      <td>RNGRA3</td>\n",
       "      <td>13</td>\n",
       "      <td>27.8</td>\n",
       "      <td>28.5</td>\n",
       "      <td>13.05</td>\n",
       "      <td>0.430000</td>\n",
       "      <td>19</td>\n",
       "      <td>743.211838</td>\n",
       "      <td>28775.3</td>\n",
       "      <td>997.50</td>\n",
       "      <td>5.9850</td>\n",
       "    </tr>\n",
       "    <tr>\n",
       "      <th>317</th>\n",
       "      <td>2024-10-03</td>\n",
       "      <td>16</td>\n",
       "      <td>3</td>\n",
       "      <td>RNGRA3</td>\n",
       "      <td>16</td>\n",
       "      <td>31.4</td>\n",
       "      <td>30.6</td>\n",
       "      <td>11.45</td>\n",
       "      <td>0.264000</td>\n",
       "      <td>19</td>\n",
       "      <td>809.244245</td>\n",
       "      <td>28775.3</td>\n",
       "      <td>1141.00</td>\n",
       "      <td>6.8460</td>\n",
       "    </tr>\n",
       "  </tbody>\n",
       "</table>\n",
       "</div>"
      ],
      "text/plain": [
       "          Date  Number  Line  Sample  No leaves  Diameter  Perpendicular  \\\n",
       "2   2024-09-07      16     3  RNGRA3          9       9.8            9.7   \n",
       "47  2024-09-11      16     3  RNGRA3         12      14.3           12.3   \n",
       "92  2024-09-14      16     3  RNGRA3         12      21.2           13.8   \n",
       "137 2024-09-17      16     3  RNGRA3         14      21.5           16.8   \n",
       "182 2024-09-20      16     3  RNGRA3         14      21.5           20.4   \n",
       "227 2024-09-24      16     3  RNGRA3         14      28.5           25.7   \n",
       "272 2024-09-29      16     3  RNGRA3         13      27.8           28.5   \n",
       "317 2024-10-03      16     3  RNGRA3         16      31.4           30.6   \n",
       "\n",
       "     Height  Average Leaf Thickness  BBCH  GDD Cumul.  PAR Cumul.  \\\n",
       "2     10.70                0.000000    19  317.050000      8284.7   \n",
       "47    12.80                0.000000    19  391.750000     16804.0   \n",
       "92    12.50                0.000000    19  457.100000     22970.1   \n",
       "137   11.30                0.000000    19  529.378430     26761.5   \n",
       "182   11.90                0.416667    19  589.001102     28775.3   \n",
       "227   13.55                0.293333    19  660.469683     28775.3   \n",
       "272   13.05                0.430000    19  743.211838     28775.3   \n",
       "317   11.45                0.264000    19  809.244245     28775.3   \n",
       "\n",
       "     Cumul. Irrigation (mL)  Cumul. Nitrates (milimoles)  \n",
       "2                    350.00                       2.1000  \n",
       "47                   462.25                       2.7735  \n",
       "92                   530.50                       3.1830  \n",
       "137                  661.50                       3.9690  \n",
       "182                  737.50                       4.4250  \n",
       "227                  862.50                       5.1750  \n",
       "272                  997.50                       5.9850  \n",
       "317                 1141.00                       6.8460  "
      ]
     },
     "execution_count": 45,
     "metadata": {},
     "output_type": "execute_result"
    }
   ],
   "source": [
    "merged_df[merged_df['Sample'] == 'RNGRA3']"
   ]
  },
  {
   "cell_type": "code",
   "execution_count": 46,
   "metadata": {},
   "outputs": [],
   "source": [
    "merged_df.to_csv('03_biometric.csv')"
   ]
  },
  {
   "cell_type": "code",
   "execution_count": 47,
   "metadata": {},
   "outputs": [
    {
     "data": {
      "text/plain": [
       "Index(['Date', 'Number', 'Line', 'Sample', 'No leaves', 'Diameter',\n",
       "       'Perpendicular', 'Height', 'Average Leaf Thickness', 'BBCH',\n",
       "       'GDD Cumul.', 'PAR Cumul.', 'Cumul. Irrigation (mL)',\n",
       "       'Cumul. Nitrates (milimoles)'],\n",
       "      dtype='object')"
      ]
     },
     "execution_count": 47,
     "metadata": {},
     "output_type": "execute_result"
    }
   ],
   "source": [
    "merged_df.columns"
   ]
  },
  {
   "cell_type": "markdown",
   "metadata": {},
   "source": [
    "### <b> EDA </b>"
   ]
  },
  {
   "cell_type": "code",
   "execution_count": null,
   "metadata": {},
   "outputs": [],
   "source": []
  },
  {
   "cell_type": "markdown",
   "metadata": {},
   "source": [
    "### <b> Models </b>"
   ]
  },
  {
   "cell_type": "code",
   "execution_count": 48,
   "metadata": {},
   "outputs": [],
   "source": [
    "from sklearn.linear_model import LinearRegression\n",
    "from sklearn.metrics import mean_squared_error, r2_score\n",
    "from sklearn.model_selection import train_test_split\n",
    "from sklearn.preprocessing import StandardScaler\n"
   ]
  },
  {
   "cell_type": "code",
   "execution_count": 49,
   "metadata": {},
   "outputs": [],
   "source": [
    "# Custom function for splitting and scaling the data\n",
    "def custom_train_test_split(df, label):\n",
    "    X = df.drop(columns=label)\n",
    "    y = df[label]\n",
    "    X_train, X_test, y_train, y_test = train_test_split(X, y, test_size=0.2, random_state=42)\n",
    "    scaler = StandardScaler()\n",
    "    X_train_scaled = scaler.fit_transform(X_train)\n",
    "    X_test_scaled = scaler.transform(X_test)\n",
    "    return X_train_scaled, X_test_scaled, y_train, y_test"
   ]
  },
  {
   "cell_type": "code",
   "execution_count": 50,
   "metadata": {},
   "outputs": [],
   "source": [
    "def predict_all_biometry_variables(df, biometry_columns):\n",
    "    results = []\n",
    "    for target in biometry_columns:\n",
    "        X_train, X_test, y_train, y_test = custom_train_test_split(df, label=target)\n",
    "        \n",
    "        model = LinearRegression()\n",
    "        model.fit(X_train, y_train)\n",
    "        y_pred = model.predict(X_test)\n",
    "        \n",
    "        mse = mean_squared_error(y_test, y_pred)\n",
    "        r2 = r2_score(y_test, y_pred)\n",
    "        \n",
    "        results.append({\n",
    "            'Target Variable': target,\n",
    "            'MSE': mse,\n",
    "            'R^2': r2\n",
    "        })\n",
    "    \n",
    "    results_df = pd.DataFrame(results)\n",
    "    print(results_df)\n",
    "    return results_df"
   ]
  },
  {
   "cell_type": "code",
   "execution_count": 51,
   "metadata": {},
   "outputs": [
    {
     "name": "stdout",
     "output_type": "stream",
     "text": [
      "          Target Variable       MSE       R^2\n",
      "0               No leaves  4.095549  0.540597\n",
      "1                Diameter  3.653804  0.892059\n",
      "2           Perpendicular  4.109736  0.885233\n",
      "3                  Height  2.372677  0.462147\n",
      "4  Average Leaf Thickness  0.006390  0.767298\n"
     ]
    }
   ],
   "source": [
    "biometry_columns = ['No leaves', 'Diameter', 'Perpendicular', 'Height', 'Average Leaf Thickness']\n",
    "results_0 = predict_all_biometry_variables(merged_df.drop(columns={'Date','Sample'}), biometry_columns)"
   ]
  },
  {
   "cell_type": "code",
   "execution_count": 52,
   "metadata": {},
   "outputs": [],
   "source": [
    "from sklearn.linear_model import Ridge, Lasso\n",
    "\n",
    "def predict_with_regularization(df, biometry_columns, model_type='ridge'):\n",
    "    results = []\n",
    "    for target in biometry_columns:\n",
    "        X_train, X_test, y_train, y_test = custom_train_test_split(df, label=target)\n",
    "        \n",
    "        if model_type == 'ridge':\n",
    "            model = Ridge(alpha=1.0)\n",
    "        elif model_type == 'lasso':\n",
    "            model = Lasso(alpha=0.01)\n",
    "        \n",
    "        model.fit(X_train, y_train)\n",
    "        y_pred = model.predict(X_test)\n",
    "        \n",
    "        mse = mean_squared_error(y_test, y_pred)\n",
    "        r2 = r2_score(y_test, y_pred)\n",
    "        \n",
    "        results.append({\n",
    "            'Target Variable': target,\n",
    "            'MSE': mse,\n",
    "            'R^2': r2\n",
    "        })\n",
    "    \n",
    "    return pd.DataFrame(results)"
   ]
  },
  {
   "cell_type": "code",
   "execution_count": 53,
   "metadata": {},
   "outputs": [
    {
     "data": {
      "text/html": [
       "<div>\n",
       "<style scoped>\n",
       "    .dataframe tbody tr th:only-of-type {\n",
       "        vertical-align: middle;\n",
       "    }\n",
       "\n",
       "    .dataframe tbody tr th {\n",
       "        vertical-align: top;\n",
       "    }\n",
       "\n",
       "    .dataframe thead th {\n",
       "        text-align: right;\n",
       "    }\n",
       "</style>\n",
       "<table border=\"1\" class=\"dataframe\">\n",
       "  <thead>\n",
       "    <tr style=\"text-align: right;\">\n",
       "      <th></th>\n",
       "      <th>Target Variable</th>\n",
       "      <th>MSE</th>\n",
       "      <th>R^2</th>\n",
       "    </tr>\n",
       "  </thead>\n",
       "  <tbody>\n",
       "    <tr>\n",
       "      <th>0</th>\n",
       "      <td>No leaves</td>\n",
       "      <td>4.092600</td>\n",
       "      <td>0.540927</td>\n",
       "    </tr>\n",
       "    <tr>\n",
       "      <th>1</th>\n",
       "      <td>Diameter</td>\n",
       "      <td>3.630353</td>\n",
       "      <td>0.892752</td>\n",
       "    </tr>\n",
       "    <tr>\n",
       "      <th>2</th>\n",
       "      <td>Perpendicular</td>\n",
       "      <td>4.084410</td>\n",
       "      <td>0.885940</td>\n",
       "    </tr>\n",
       "    <tr>\n",
       "      <th>3</th>\n",
       "      <td>Height</td>\n",
       "      <td>2.375665</td>\n",
       "      <td>0.461470</td>\n",
       "    </tr>\n",
       "    <tr>\n",
       "      <th>4</th>\n",
       "      <td>Average Leaf Thickness</td>\n",
       "      <td>0.006322</td>\n",
       "      <td>0.769771</td>\n",
       "    </tr>\n",
       "  </tbody>\n",
       "</table>\n",
       "</div>"
      ],
      "text/plain": [
       "          Target Variable       MSE       R^2\n",
       "0               No leaves  4.092600  0.540927\n",
       "1                Diameter  3.630353  0.892752\n",
       "2           Perpendicular  4.084410  0.885940\n",
       "3                  Height  2.375665  0.461470\n",
       "4  Average Leaf Thickness  0.006322  0.769771"
      ]
     },
     "execution_count": 53,
     "metadata": {},
     "output_type": "execute_result"
    }
   ],
   "source": [
    "results_ridge = predict_with_regularization(merged_df.drop(columns={'Date','Sample'}), biometry_columns, 'ridge')\n",
    "results_ridge"
   ]
  },
  {
   "cell_type": "code",
   "execution_count": 54,
   "metadata": {},
   "outputs": [
    {
     "data": {
      "text/html": [
       "<div>\n",
       "<style scoped>\n",
       "    .dataframe tbody tr th:only-of-type {\n",
       "        vertical-align: middle;\n",
       "    }\n",
       "\n",
       "    .dataframe tbody tr th {\n",
       "        vertical-align: top;\n",
       "    }\n",
       "\n",
       "    .dataframe thead th {\n",
       "        text-align: right;\n",
       "    }\n",
       "</style>\n",
       "<table border=\"1\" class=\"dataframe\">\n",
       "  <thead>\n",
       "    <tr style=\"text-align: right;\">\n",
       "      <th></th>\n",
       "      <th>Target Variable</th>\n",
       "      <th>MSE</th>\n",
       "      <th>R^2</th>\n",
       "    </tr>\n",
       "  </thead>\n",
       "  <tbody>\n",
       "    <tr>\n",
       "      <th>0</th>\n",
       "      <td>No leaves</td>\n",
       "      <td>4.083737</td>\n",
       "      <td>0.541922</td>\n",
       "    </tr>\n",
       "    <tr>\n",
       "      <th>1</th>\n",
       "      <td>Diameter</td>\n",
       "      <td>3.646586</td>\n",
       "      <td>0.892272</td>\n",
       "    </tr>\n",
       "    <tr>\n",
       "      <th>2</th>\n",
       "      <td>Perpendicular</td>\n",
       "      <td>4.074583</td>\n",
       "      <td>0.886215</td>\n",
       "    </tr>\n",
       "    <tr>\n",
       "      <th>3</th>\n",
       "      <td>Height</td>\n",
       "      <td>2.387382</td>\n",
       "      <td>0.458814</td>\n",
       "    </tr>\n",
       "    <tr>\n",
       "      <th>4</th>\n",
       "      <td>Average Leaf Thickness</td>\n",
       "      <td>0.006084</td>\n",
       "      <td>0.778470</td>\n",
       "    </tr>\n",
       "  </tbody>\n",
       "</table>\n",
       "</div>"
      ],
      "text/plain": [
       "          Target Variable       MSE       R^2\n",
       "0               No leaves  4.083737  0.541922\n",
       "1                Diameter  3.646586  0.892272\n",
       "2           Perpendicular  4.074583  0.886215\n",
       "3                  Height  2.387382  0.458814\n",
       "4  Average Leaf Thickness  0.006084  0.778470"
      ]
     },
     "execution_count": 54,
     "metadata": {},
     "output_type": "execute_result"
    }
   ],
   "source": [
    "results_lasso = predict_with_regularization(merged_df.drop(columns={'Date','Sample'}), biometry_columns, 'lasso')\n",
    "results_lasso"
   ]
  },
  {
   "cell_type": "code",
   "execution_count": 55,
   "metadata": {},
   "outputs": [],
   "source": [
    "from sklearn.ensemble import RandomForestRegressor\n",
    "\n",
    "def predict_with_random_forest(df, biometry_columns):\n",
    "    results = []\n",
    "    for target in biometry_columns:\n",
    "        X_train, X_test, y_train, y_test = custom_train_test_split(df, label=target)\n",
    "        \n",
    "        model = RandomForestRegressor(random_state=42)\n",
    "        model.fit(X_train, y_train)\n",
    "        y_pred = model.predict(X_test)\n",
    "        \n",
    "        mse = mean_squared_error(y_test, y_pred)\n",
    "        r2 = r2_score(y_test, y_pred)\n",
    "        \n",
    "        results.append({\n",
    "            'Target Variable': target,\n",
    "            'MSE': mse,\n",
    "            'R^2': r2\n",
    "        })\n",
    "    \n",
    "    return pd.DataFrame(results)"
   ]
  },
  {
   "cell_type": "code",
   "execution_count": 56,
   "metadata": {},
   "outputs": [],
   "source": [
    "results_rf = predict_with_random_forest(merged_df.drop(columns={'Date','Sample'}), biometry_columns)"
   ]
  },
  {
   "cell_type": "code",
   "execution_count": 57,
   "metadata": {},
   "outputs": [
    {
     "data": {
      "text/html": [
       "<div>\n",
       "<style scoped>\n",
       "    .dataframe tbody tr th:only-of-type {\n",
       "        vertical-align: middle;\n",
       "    }\n",
       "\n",
       "    .dataframe tbody tr th {\n",
       "        vertical-align: top;\n",
       "    }\n",
       "\n",
       "    .dataframe thead th {\n",
       "        text-align: right;\n",
       "    }\n",
       "</style>\n",
       "<table border=\"1\" class=\"dataframe\">\n",
       "  <thead>\n",
       "    <tr style=\"text-align: right;\">\n",
       "      <th></th>\n",
       "      <th>Target Variable</th>\n",
       "      <th>MSE</th>\n",
       "      <th>R^2</th>\n",
       "    </tr>\n",
       "  </thead>\n",
       "  <tbody>\n",
       "    <tr>\n",
       "      <th>0</th>\n",
       "      <td>No leaves</td>\n",
       "      <td>2.460717</td>\n",
       "      <td>0.723978</td>\n",
       "    </tr>\n",
       "    <tr>\n",
       "      <th>1</th>\n",
       "      <td>Diameter</td>\n",
       "      <td>3.996564</td>\n",
       "      <td>0.881933</td>\n",
       "    </tr>\n",
       "    <tr>\n",
       "      <th>2</th>\n",
       "      <td>Perpendicular</td>\n",
       "      <td>4.416743</td>\n",
       "      <td>0.876660</td>\n",
       "    </tr>\n",
       "    <tr>\n",
       "      <th>3</th>\n",
       "      <td>Height</td>\n",
       "      <td>2.136601</td>\n",
       "      <td>0.515662</td>\n",
       "    </tr>\n",
       "    <tr>\n",
       "      <th>4</th>\n",
       "      <td>Average Leaf Thickness</td>\n",
       "      <td>0.002060</td>\n",
       "      <td>0.924975</td>\n",
       "    </tr>\n",
       "  </tbody>\n",
       "</table>\n",
       "</div>"
      ],
      "text/plain": [
       "          Target Variable       MSE       R^2\n",
       "0               No leaves  2.460717  0.723978\n",
       "1                Diameter  3.996564  0.881933\n",
       "2           Perpendicular  4.416743  0.876660\n",
       "3                  Height  2.136601  0.515662\n",
       "4  Average Leaf Thickness  0.002060  0.924975"
      ]
     },
     "execution_count": 57,
     "metadata": {},
     "output_type": "execute_result"
    }
   ],
   "source": [
    "results_rf"
   ]
  },
  {
   "cell_type": "code",
   "execution_count": 58,
   "metadata": {},
   "outputs": [],
   "source": [
    "from xgboost import XGBRegressor\n",
    "\n",
    "def predict_with_xgboost(df, biometry_columns):\n",
    "    results = []\n",
    "    for target in biometry_columns:\n",
    "        X_train, X_test, y_train, y_test = custom_train_test_split(df, label=target)\n",
    "        \n",
    "        model = XGBRegressor(objective='reg:squarederror', random_state=42)\n",
    "        model.fit(X_train, y_train)\n",
    "        y_pred = model.predict(X_test)\n",
    "        \n",
    "        mse = mean_squared_error(y_test, y_pred)\n",
    "        r2 = r2_score(y_test, y_pred)\n",
    "        \n",
    "        results.append({\n",
    "            'Target Variable': target,\n",
    "            'MSE': mse,\n",
    "            'R^2': r2\n",
    "        })\n",
    "    \n",
    "    return pd.DataFrame(results)"
   ]
  },
  {
   "cell_type": "code",
   "execution_count": 59,
   "metadata": {},
   "outputs": [
    {
     "name": "stdout",
     "output_type": "stream",
     "text": [
      "XGBoost Regression Results:\n",
      "          Target Variable       MSE       R^2\n",
      "0               No leaves  2.230678  0.749782\n",
      "1                Diameter  4.811125  0.857869\n",
      "2           Perpendicular  5.197446  0.854858\n",
      "3                  Height  2.289854  0.480922\n",
      "4  Average Leaf Thickness  0.003190  0.883834\n"
     ]
    }
   ],
   "source": [
    "results_xgb = predict_with_xgboost(merged_df.drop(columns={'Date','Sample'}), biometry_columns)\n",
    "print(\"XGBoost Regression Results:\")\n",
    "print(results_xgb)"
   ]
  },
  {
   "cell_type": "code",
   "execution_count": null,
   "metadata": {},
   "outputs": [],
   "source": []
  }
 ],
 "metadata": {
  "kernelspec": {
   "display_name": "machinelearning",
   "language": "python",
   "name": "python3"
  },
  "language_info": {
   "codemirror_mode": {
    "name": "ipython",
    "version": 3
   },
   "file_extension": ".py",
   "mimetype": "text/x-python",
   "name": "python",
   "nbconvert_exporter": "python",
   "pygments_lexer": "ipython3",
   "version": "3.12.7"
  }
 },
 "nbformat": 4,
 "nbformat_minor": 2
}
