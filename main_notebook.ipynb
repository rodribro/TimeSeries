{
 "cells": [
  {
   "cell_type": "code",
   "execution_count": 1,
   "metadata": {},
   "outputs": [],
   "source": [
    "import numpy as np\n",
    "import pandas as pd\n",
    "import matplotlib as plt\n",
    "from sklearn.preprocessing import StandardScaler\n",
    "from utils import transform_bbch_data, count_daily_measurements, clean_timestamp, find_common_dates, calculate_cumulative_gdd, calculate_accumulated_nitrates, calculate_cumulative_par, daily_average_humidity, merge_variables, explained_variance_visualizer, pca\n",
    "# 3D visuals\n",
    "import plotly.graph_objects as go\n",
    "import plotly.express as px  # For color palettes\n",
    "from sklearn.decomposition import PCA\n"
   ]
  },
  {
   "cell_type": "markdown",
   "metadata": {},
   "source": [
    "### <b> Dataset Creation </b>\n",
    "\n",
    "* Goal: Create a dataset based on lettuce plants' biometry and environmental variables for a greenhouse experiment\n",
    "\n",
    "#### <b> Biometry variables </b>\n",
    "\n",
    "* <b> Diameter </b>: The diameter of a chosen leaf of the plant, expressed in centimeters (cm)\n",
    "* <b> Perpendicular </b>: The length of perpendicular line to the chosen diameter of a chosen leaf, expressed in centimeters (cm)\n",
    "* <b> Weight </b>: The weight of the plant, expressed in kilograms (Kg)\n",
    "* <b> Height </b>: The height of the plant, expressed in centimeters (cm)\n",
    "* <b> Thickness </b>: Leaf thickness, expressed in centimeters (cm)\n",
    "* <b> Number of leaves (N leaves) </b>: The number of leaves the plant presents \n",
    "\n",
    "#### <b> Environmental variables </b>\n",
    "\n",
    "* <b> Irrigation </b>\n",
    "* <b> Humidity </b>\n",
    "* <b> Temperature </b>\n",
    "* <b> PAR radiation </b>\n"
   ]
  },
  {
   "cell_type": "markdown",
   "metadata": {},
   "source": [
    "### <b> Biometry </b>"
   ]
  },
  {
   "cell_type": "code",
   "execution_count": 2,
   "metadata": {},
   "outputs": [],
   "source": [
    "# Previously created biometry dataset\n",
    "biometry = pd.read_csv(\"data/final_biometric_data.csv\")\n",
    "biometry.rename(columns={\"Unnamed: 0\":\"Date\", \"Sample\":\"Sample?\", \"CODE\":\"Sample\"}, inplace=True)\n",
    "biometry.drop(columns=['Max. Temp.', 'Min. Temp.', 'Mean. Temp.',\n",
    "       'Max. Hum.', 'Min. Hum.', 'Mean. Hum.', 'Combined Temperature Average',\n",
    "       'Combined Temperature Std Dev', 'Combined Humidity Average',\n",
    "       'Combined Humidity Std Dev','Sample?','BBCH'], inplace=True)"
   ]
  },
  {
   "cell_type": "code",
   "execution_count": 3,
   "metadata": {},
   "outputs": [],
   "source": [
    "bbch = pd.read_excel('raw_data/biom_to_BBCH.xlsx')\n",
    "bbch.drop(columns={'Number', 'Line', 'Sample'}, inplace=True)"
   ]
  },
  {
   "cell_type": "code",
   "execution_count": 4,
   "metadata": {},
   "outputs": [],
   "source": [
    "bbch_cols = list(bbch.columns)"
   ]
  },
  {
   "cell_type": "code",
   "execution_count": 5,
   "metadata": {},
   "outputs": [],
   "source": [
    "new_bbch = transform_bbch_data(bbch)"
   ]
  },
  {
   "cell_type": "code",
   "execution_count": 6,
   "metadata": {},
   "outputs": [],
   "source": [
    "new_bbch.rename(columns={'CODE':'Sample'}, inplace=True)"
   ]
  },
  {
   "cell_type": "code",
   "execution_count": 7,
   "metadata": {},
   "outputs": [
    {
     "data": {
      "text/html": [
       "<div>\n",
       "<style scoped>\n",
       "    .dataframe tbody tr th:only-of-type {\n",
       "        vertical-align: middle;\n",
       "    }\n",
       "\n",
       "    .dataframe tbody tr th {\n",
       "        vertical-align: top;\n",
       "    }\n",
       "\n",
       "    .dataframe thead th {\n",
       "        text-align: right;\n",
       "    }\n",
       "</style>\n",
       "<table border=\"1\" class=\"dataframe\">\n",
       "  <thead>\n",
       "    <tr style=\"text-align: right;\">\n",
       "      <th></th>\n",
       "      <th>Sample</th>\n",
       "      <th>Date</th>\n",
       "      <th>BBCH</th>\n",
       "    </tr>\n",
       "  </thead>\n",
       "  <tbody>\n",
       "    <tr>\n",
       "      <th>0</th>\n",
       "      <td>RNGRA1</td>\n",
       "      <td>2024-09-07</td>\n",
       "      <td>19</td>\n",
       "    </tr>\n",
       "    <tr>\n",
       "      <th>1</th>\n",
       "      <td>RNGRA1</td>\n",
       "      <td>2024-09-11</td>\n",
       "      <td>19</td>\n",
       "    </tr>\n",
       "    <tr>\n",
       "      <th>2</th>\n",
       "      <td>RNGRA1</td>\n",
       "      <td>2024-09-14</td>\n",
       "      <td>19</td>\n",
       "    </tr>\n",
       "    <tr>\n",
       "      <th>3</th>\n",
       "      <td>RNGRA1</td>\n",
       "      <td>2024-09-17</td>\n",
       "      <td>37</td>\n",
       "    </tr>\n",
       "    <tr>\n",
       "      <th>4</th>\n",
       "      <td>RNGRA1</td>\n",
       "      <td>2024-09-20</td>\n",
       "      <td>37</td>\n",
       "    </tr>\n",
       "    <tr>\n",
       "      <th>...</th>\n",
       "      <td>...</td>\n",
       "      <td>...</td>\n",
       "      <td>...</td>\n",
       "    </tr>\n",
       "    <tr>\n",
       "      <th>355</th>\n",
       "      <td>RWGRC5</td>\n",
       "      <td>2024-09-17</td>\n",
       "      <td>19</td>\n",
       "    </tr>\n",
       "    <tr>\n",
       "      <th>356</th>\n",
       "      <td>RWGRC5</td>\n",
       "      <td>2024-09-20</td>\n",
       "      <td>19</td>\n",
       "    </tr>\n",
       "    <tr>\n",
       "      <th>357</th>\n",
       "      <td>RWGRC5</td>\n",
       "      <td>2024-09-24</td>\n",
       "      <td>19</td>\n",
       "    </tr>\n",
       "    <tr>\n",
       "      <th>358</th>\n",
       "      <td>RWGRC5</td>\n",
       "      <td>2024-09-29</td>\n",
       "      <td>19</td>\n",
       "    </tr>\n",
       "    <tr>\n",
       "      <th>359</th>\n",
       "      <td>RWGRC5</td>\n",
       "      <td>2024-10-03</td>\n",
       "      <td>19</td>\n",
       "    </tr>\n",
       "  </tbody>\n",
       "</table>\n",
       "<p>360 rows × 3 columns</p>\n",
       "</div>"
      ],
      "text/plain": [
       "     Sample       Date  BBCH\n",
       "0    RNGRA1 2024-09-07    19\n",
       "1    RNGRA1 2024-09-11    19\n",
       "2    RNGRA1 2024-09-14    19\n",
       "3    RNGRA1 2024-09-17    37\n",
       "4    RNGRA1 2024-09-20    37\n",
       "..      ...        ...   ...\n",
       "355  RWGRC5 2024-09-17    19\n",
       "356  RWGRC5 2024-09-20    19\n",
       "357  RWGRC5 2024-09-24    19\n",
       "358  RWGRC5 2024-09-29    19\n",
       "359  RWGRC5 2024-10-03    19\n",
       "\n",
       "[360 rows x 3 columns]"
      ]
     },
     "execution_count": 7,
     "metadata": {},
     "output_type": "execute_result"
    }
   ],
   "source": [
    "new_bbch"
   ]
  },
  {
   "cell_type": "code",
   "execution_count": 8,
   "metadata": {},
   "outputs": [],
   "source": [
    "# Set Date column to datetime type\n",
    "biometry['Date'] = pd.to_datetime(biometry['Date'])"
   ]
  },
  {
   "cell_type": "markdown",
   "metadata": {},
   "source": [
    "<b> Total number of plants </b>"
   ]
  },
  {
   "cell_type": "code",
   "execution_count": 9,
   "metadata": {},
   "outputs": [
    {
     "data": {
      "text/plain": [
       "45"
      ]
     },
     "execution_count": 9,
     "metadata": {},
     "output_type": "execute_result"
    }
   ],
   "source": [
    "biometry['Sample'].nunique()"
   ]
  },
  {
   "cell_type": "markdown",
   "metadata": {},
   "source": [
    "* There's 45 plants in this experiment, each represented by its unique code, represented in the CODE column"
   ]
  },
  {
   "cell_type": "markdown",
   "metadata": {},
   "source": [
    "<b> Dates where biometry was measured </b>"
   ]
  },
  {
   "cell_type": "code",
   "execution_count": 10,
   "metadata": {},
   "outputs": [
    {
     "data": {
      "text/plain": [
       "8"
      ]
     },
     "execution_count": 10,
     "metadata": {},
     "output_type": "execute_result"
    }
   ],
   "source": [
    "biometry['Date'].nunique()"
   ]
  },
  {
   "cell_type": "markdown",
   "metadata": {},
   "source": [
    "* Measurements of the biometry of the plants were taken at 8 different days"
   ]
  },
  {
   "cell_type": "markdown",
   "metadata": {},
   "source": [
    "### <b> Irrigation </b>"
   ]
  },
  {
   "cell_type": "code",
   "execution_count": 11,
   "metadata": {},
   "outputs": [],
   "source": [
    "irrigation = pd.read_excel(\"raw_data/irrigation.xlsx\")"
   ]
  },
  {
   "cell_type": "code",
   "execution_count": 12,
   "metadata": {},
   "outputs": [],
   "source": [
    "# Set Date column to datetime type\n",
    "irrigation['Date'] = pd.to_datetime(irrigation['Date'])"
   ]
  },
  {
   "cell_type": "code",
   "execution_count": 13,
   "metadata": {},
   "outputs": [
    {
     "data": {
      "text/html": [
       "<div>\n",
       "<style scoped>\n",
       "    .dataframe tbody tr th:only-of-type {\n",
       "        vertical-align: middle;\n",
       "    }\n",
       "\n",
       "    .dataframe tbody tr th {\n",
       "        vertical-align: top;\n",
       "    }\n",
       "\n",
       "    .dataframe thead th {\n",
       "        text-align: right;\n",
       "    }\n",
       "</style>\n",
       "<table border=\"1\" class=\"dataframe\">\n",
       "  <thead>\n",
       "    <tr style=\"text-align: right;\">\n",
       "      <th></th>\n",
       "      <th>Date</th>\n",
       "      <th>Sample</th>\n",
       "      <th>Quantity (mL)</th>\n",
       "    </tr>\n",
       "  </thead>\n",
       "  <tbody>\n",
       "    <tr>\n",
       "      <th>0</th>\n",
       "      <td>2024-08-24</td>\n",
       "      <td>rngra1</td>\n",
       "      <td>50.0</td>\n",
       "    </tr>\n",
       "    <tr>\n",
       "      <th>1</th>\n",
       "      <td>2024-08-24</td>\n",
       "      <td>rngra2</td>\n",
       "      <td>50.0</td>\n",
       "    </tr>\n",
       "    <tr>\n",
       "      <th>2</th>\n",
       "      <td>2024-08-24</td>\n",
       "      <td>rngra3</td>\n",
       "      <td>50.0</td>\n",
       "    </tr>\n",
       "    <tr>\n",
       "      <th>3</th>\n",
       "      <td>2024-08-24</td>\n",
       "      <td>rngra4</td>\n",
       "      <td>50.0</td>\n",
       "    </tr>\n",
       "    <tr>\n",
       "      <th>4</th>\n",
       "      <td>2024-08-24</td>\n",
       "      <td>rngra5</td>\n",
       "      <td>50.0</td>\n",
       "    </tr>\n",
       "    <tr>\n",
       "      <th>...</th>\n",
       "      <td>...</td>\n",
       "      <td>...</td>\n",
       "      <td>...</td>\n",
       "    </tr>\n",
       "    <tr>\n",
       "      <th>985</th>\n",
       "      <td>2024-10-01</td>\n",
       "      <td>rwgrc1</td>\n",
       "      <td>7.5</td>\n",
       "    </tr>\n",
       "    <tr>\n",
       "      <th>986</th>\n",
       "      <td>2024-10-01</td>\n",
       "      <td>rwgrc2</td>\n",
       "      <td>14.5</td>\n",
       "    </tr>\n",
       "    <tr>\n",
       "      <th>987</th>\n",
       "      <td>2024-10-01</td>\n",
       "      <td>rwgrc3</td>\n",
       "      <td>5.0</td>\n",
       "    </tr>\n",
       "    <tr>\n",
       "      <th>988</th>\n",
       "      <td>2024-10-01</td>\n",
       "      <td>rwgrc4</td>\n",
       "      <td>12.0</td>\n",
       "    </tr>\n",
       "    <tr>\n",
       "      <th>989</th>\n",
       "      <td>2024-10-01</td>\n",
       "      <td>rwgrc5</td>\n",
       "      <td>8.0</td>\n",
       "    </tr>\n",
       "  </tbody>\n",
       "</table>\n",
       "<p>990 rows × 3 columns</p>\n",
       "</div>"
      ],
      "text/plain": [
       "          Date  Sample  Quantity (mL)\n",
       "0   2024-08-24  rngra1           50.0\n",
       "1   2024-08-24  rngra2           50.0\n",
       "2   2024-08-24  rngra3           50.0\n",
       "3   2024-08-24  rngra4           50.0\n",
       "4   2024-08-24  rngra5           50.0\n",
       "..         ...     ...            ...\n",
       "985 2024-10-01  rwgrc1            7.5\n",
       "986 2024-10-01  rwgrc2           14.5\n",
       "987 2024-10-01  rwgrc3            5.0\n",
       "988 2024-10-01  rwgrc4           12.0\n",
       "989 2024-10-01  rwgrc5            8.0\n",
       "\n",
       "[990 rows x 3 columns]"
      ]
     },
     "execution_count": 13,
     "metadata": {},
     "output_type": "execute_result"
    }
   ],
   "source": [
    "irrigation"
   ]
  },
  {
   "cell_type": "markdown",
   "metadata": {},
   "source": [
    "<b> Number of irrigation days </b>"
   ]
  },
  {
   "cell_type": "code",
   "execution_count": 14,
   "metadata": {},
   "outputs": [
    {
     "data": {
      "text/plain": [
       "23"
      ]
     },
     "execution_count": 14,
     "metadata": {},
     "output_type": "execute_result"
    }
   ],
   "source": [
    "irrigation['Date'].nunique()"
   ]
  },
  {
   "cell_type": "markdown",
   "metadata": {},
   "source": [
    "* There's 23 days of irrigation"
   ]
  },
  {
   "cell_type": "markdown",
   "metadata": {},
   "source": [
    "### <b> Temperature </b>"
   ]
  },
  {
   "cell_type": "code",
   "execution_count": 15,
   "metadata": {},
   "outputs": [],
   "source": [
    "temperature = pd.read_excel(\"raw_data/inside_2.xlsx\")[['date','temperature']]"
   ]
  },
  {
   "cell_type": "code",
   "execution_count": 16,
   "metadata": {},
   "outputs": [],
   "source": [
    "temperature.rename(columns={'date':'Date'}, inplace=True)"
   ]
  },
  {
   "cell_type": "code",
   "execution_count": 17,
   "metadata": {},
   "outputs": [
    {
     "data": {
      "text/html": [
       "<div>\n",
       "<style scoped>\n",
       "    .dataframe tbody tr th:only-of-type {\n",
       "        vertical-align: middle;\n",
       "    }\n",
       "\n",
       "    .dataframe tbody tr th {\n",
       "        vertical-align: top;\n",
       "    }\n",
       "\n",
       "    .dataframe thead th {\n",
       "        text-align: right;\n",
       "    }\n",
       "</style>\n",
       "<table border=\"1\" class=\"dataframe\">\n",
       "  <thead>\n",
       "    <tr style=\"text-align: right;\">\n",
       "      <th></th>\n",
       "      <th>Date</th>\n",
       "      <th>temperature</th>\n",
       "    </tr>\n",
       "  </thead>\n",
       "  <tbody>\n",
       "    <tr>\n",
       "      <th>0</th>\n",
       "      <td>2024-08-22</td>\n",
       "      <td>18.200000</td>\n",
       "    </tr>\n",
       "    <tr>\n",
       "      <th>1</th>\n",
       "      <td>2024-08-22</td>\n",
       "      <td>17.200000</td>\n",
       "    </tr>\n",
       "    <tr>\n",
       "      <th>2</th>\n",
       "      <td>2024-08-22</td>\n",
       "      <td>17.300000</td>\n",
       "    </tr>\n",
       "    <tr>\n",
       "      <th>3</th>\n",
       "      <td>2024-08-22</td>\n",
       "      <td>17.700000</td>\n",
       "    </tr>\n",
       "    <tr>\n",
       "      <th>4</th>\n",
       "      <td>2024-08-22</td>\n",
       "      <td>17.400000</td>\n",
       "    </tr>\n",
       "    <tr>\n",
       "      <th>...</th>\n",
       "      <td>...</td>\n",
       "      <td>...</td>\n",
       "    </tr>\n",
       "    <tr>\n",
       "      <th>941</th>\n",
       "      <td>2024-10-03</td>\n",
       "      <td>20.703388</td>\n",
       "    </tr>\n",
       "    <tr>\n",
       "      <th>942</th>\n",
       "      <td>2024-10-03</td>\n",
       "      <td>21.296177</td>\n",
       "    </tr>\n",
       "    <tr>\n",
       "      <th>943</th>\n",
       "      <td>2024-10-03</td>\n",
       "      <td>21.758629</td>\n",
       "    </tr>\n",
       "    <tr>\n",
       "      <th>944</th>\n",
       "      <td>2024-10-03</td>\n",
       "      <td>21.531219</td>\n",
       "    </tr>\n",
       "    <tr>\n",
       "      <th>945</th>\n",
       "      <td>2024-10-03</td>\n",
       "      <td>21.528677</td>\n",
       "    </tr>\n",
       "  </tbody>\n",
       "</table>\n",
       "<p>946 rows × 2 columns</p>\n",
       "</div>"
      ],
      "text/plain": [
       "          Date  temperature\n",
       "0   2024-08-22    18.200000\n",
       "1   2024-08-22    17.200000\n",
       "2   2024-08-22    17.300000\n",
       "3   2024-08-22    17.700000\n",
       "4   2024-08-22    17.400000\n",
       "..         ...          ...\n",
       "941 2024-10-03    20.703388\n",
       "942 2024-10-03    21.296177\n",
       "943 2024-10-03    21.758629\n",
       "944 2024-10-03    21.531219\n",
       "945 2024-10-03    21.528677\n",
       "\n",
       "[946 rows x 2 columns]"
      ]
     },
     "execution_count": 17,
     "metadata": {},
     "output_type": "execute_result"
    }
   ],
   "source": [
    "temperature"
   ]
  },
  {
   "cell_type": "code",
   "execution_count": 18,
   "metadata": {},
   "outputs": [],
   "source": [
    "# Set Date column to datetime type\n",
    "temperature['Date'] = pd.to_datetime(temperature['Date'])"
   ]
  },
  {
   "cell_type": "code",
   "execution_count": 19,
   "metadata": {},
   "outputs": [
    {
     "data": {
      "text/html": [
       "<div>\n",
       "<style scoped>\n",
       "    .dataframe tbody tr th:only-of-type {\n",
       "        vertical-align: middle;\n",
       "    }\n",
       "\n",
       "    .dataframe tbody tr th {\n",
       "        vertical-align: top;\n",
       "    }\n",
       "\n",
       "    .dataframe thead th {\n",
       "        text-align: right;\n",
       "    }\n",
       "</style>\n",
       "<table border=\"1\" class=\"dataframe\">\n",
       "  <thead>\n",
       "    <tr style=\"text-align: right;\">\n",
       "      <th></th>\n",
       "      <th>Date</th>\n",
       "      <th>temperature</th>\n",
       "    </tr>\n",
       "  </thead>\n",
       "  <tbody>\n",
       "    <tr>\n",
       "      <th>0</th>\n",
       "      <td>2024-08-22</td>\n",
       "      <td>18.200000</td>\n",
       "    </tr>\n",
       "    <tr>\n",
       "      <th>1</th>\n",
       "      <td>2024-08-22</td>\n",
       "      <td>17.200000</td>\n",
       "    </tr>\n",
       "    <tr>\n",
       "      <th>2</th>\n",
       "      <td>2024-08-22</td>\n",
       "      <td>17.300000</td>\n",
       "    </tr>\n",
       "    <tr>\n",
       "      <th>3</th>\n",
       "      <td>2024-08-22</td>\n",
       "      <td>17.700000</td>\n",
       "    </tr>\n",
       "    <tr>\n",
       "      <th>4</th>\n",
       "      <td>2024-08-22</td>\n",
       "      <td>17.400000</td>\n",
       "    </tr>\n",
       "    <tr>\n",
       "      <th>...</th>\n",
       "      <td>...</td>\n",
       "      <td>...</td>\n",
       "    </tr>\n",
       "    <tr>\n",
       "      <th>941</th>\n",
       "      <td>2024-10-03</td>\n",
       "      <td>20.703388</td>\n",
       "    </tr>\n",
       "    <tr>\n",
       "      <th>942</th>\n",
       "      <td>2024-10-03</td>\n",
       "      <td>21.296177</td>\n",
       "    </tr>\n",
       "    <tr>\n",
       "      <th>943</th>\n",
       "      <td>2024-10-03</td>\n",
       "      <td>21.758629</td>\n",
       "    </tr>\n",
       "    <tr>\n",
       "      <th>944</th>\n",
       "      <td>2024-10-03</td>\n",
       "      <td>21.531219</td>\n",
       "    </tr>\n",
       "    <tr>\n",
       "      <th>945</th>\n",
       "      <td>2024-10-03</td>\n",
       "      <td>21.528677</td>\n",
       "    </tr>\n",
       "  </tbody>\n",
       "</table>\n",
       "<p>946 rows × 2 columns</p>\n",
       "</div>"
      ],
      "text/plain": [
       "          Date  temperature\n",
       "0   2024-08-22    18.200000\n",
       "1   2024-08-22    17.200000\n",
       "2   2024-08-22    17.300000\n",
       "3   2024-08-22    17.700000\n",
       "4   2024-08-22    17.400000\n",
       "..         ...          ...\n",
       "941 2024-10-03    20.703388\n",
       "942 2024-10-03    21.296177\n",
       "943 2024-10-03    21.758629\n",
       "944 2024-10-03    21.531219\n",
       "945 2024-10-03    21.528677\n",
       "\n",
       "[946 rows x 2 columns]"
      ]
     },
     "execution_count": 19,
     "metadata": {},
     "output_type": "execute_result"
    }
   ],
   "source": [
    "temperature"
   ]
  },
  {
   "cell_type": "code",
   "execution_count": 20,
   "metadata": {},
   "outputs": [
    {
     "data": {
      "text/plain": [
       "43"
      ]
     },
     "execution_count": 20,
     "metadata": {},
     "output_type": "execute_result"
    }
   ],
   "source": [
    "temperature['Date'].nunique()"
   ]
  },
  {
   "cell_type": "markdown",
   "metadata": {},
   "source": [
    "* Measurements of the temperature of the greenhouse were taken at 43 different days"
   ]
  },
  {
   "cell_type": "code",
   "execution_count": 21,
   "metadata": {},
   "outputs": [],
   "source": [
    "# Daily number of temperature measurements\n",
    "temp_date_dict = count_daily_measurements(temperature)"
   ]
  },
  {
   "cell_type": "code",
   "execution_count": 22,
   "metadata": {},
   "outputs": [
    {
     "data": {
      "text/plain": [
       "{Timestamp('2024-08-22 00:00:00'): 25,\n",
       " Timestamp('2024-08-23 00:00:00'): 24,\n",
       " Timestamp('2024-08-24 00:00:00'): 24,\n",
       " Timestamp('2024-08-25 00:00:00'): 24,\n",
       " Timestamp('2024-08-26 00:00:00'): 24,\n",
       " Timestamp('2024-08-27 00:00:00'): 24,\n",
       " Timestamp('2024-08-28 00:00:00'): 24,\n",
       " Timestamp('2024-08-29 00:00:00'): 24,\n",
       " Timestamp('2024-08-30 00:00:00'): 24,\n",
       " Timestamp('2024-08-31 00:00:00'): 24,\n",
       " Timestamp('2024-09-01 00:00:00'): 23,\n",
       " Timestamp('2024-09-02 00:00:00'): 24,\n",
       " Timestamp('2024-09-03 00:00:00'): 24,\n",
       " Timestamp('2024-09-04 00:00:00'): 24,\n",
       " Timestamp('2024-09-05 00:00:00'): 24,\n",
       " Timestamp('2024-09-06 00:00:00'): 24,\n",
       " Timestamp('2024-09-07 00:00:00'): 24,\n",
       " Timestamp('2024-09-08 00:00:00'): 24,\n",
       " Timestamp('2024-09-09 00:00:00'): 24,\n",
       " Timestamp('2024-09-10 00:00:00'): 24,\n",
       " Timestamp('2024-09-11 00:00:00'): 24,\n",
       " Timestamp('2024-09-12 00:00:00'): 19,\n",
       " Timestamp('2024-09-13 00:00:00'): 18,\n",
       " Timestamp('2024-09-14 00:00:00'): 24,\n",
       " Timestamp('2024-09-15 00:00:00'): 24,\n",
       " Timestamp('2024-09-16 00:00:00'): 16,\n",
       " Timestamp('2024-09-17 00:00:00'): 9,\n",
       " Timestamp('2024-09-18 00:00:00'): 14,\n",
       " Timestamp('2024-09-19 00:00:00'): 21,\n",
       " Timestamp('2024-09-20 00:00:00'): 20,\n",
       " Timestamp('2024-09-21 00:00:00'): 24,\n",
       " Timestamp('2024-09-22 00:00:00'): 14,\n",
       " Timestamp('2024-09-23 00:00:00'): 13,\n",
       " Timestamp('2024-09-24 00:00:00'): 23,\n",
       " Timestamp('2024-09-25 00:00:00'): 24,\n",
       " Timestamp('2024-09-26 00:00:00'): 24,\n",
       " Timestamp('2024-09-27 00:00:00'): 22,\n",
       " Timestamp('2024-09-28 00:00:00'): 24,\n",
       " Timestamp('2024-09-29 00:00:00'): 23,\n",
       " Timestamp('2024-09-30 00:00:00'): 23,\n",
       " Timestamp('2024-10-01 00:00:00'): 24,\n",
       " Timestamp('2024-10-02 00:00:00'): 24,\n",
       " Timestamp('2024-10-03 00:00:00'): 15}"
      ]
     },
     "execution_count": 22,
     "metadata": {},
     "output_type": "execute_result"
    }
   ],
   "source": [
    "temp_date_dict"
   ]
  },
  {
   "cell_type": "code",
   "execution_count": 23,
   "metadata": {},
   "outputs": [
    {
     "data": {
      "text/plain": [
       "dict_values([25, 24, 24, 24, 24, 24, 24, 24, 24, 24, 23, 24, 24, 24, 24, 24, 24, 24, 24, 24, 24, 19, 18, 24, 24, 16, 9, 14, 21, 20, 24, 14, 13, 23, 24, 24, 22, 24, 23, 23, 24, 24, 15])"
      ]
     },
     "execution_count": 23,
     "metadata": {},
     "output_type": "execute_result"
    }
   ],
   "source": [
    "temp_date_dict.values()"
   ]
  },
  {
   "cell_type": "markdown",
   "metadata": {},
   "source": [
    "* As we can tell by the values of the date_dict dictionary the number of temperature measurements wasn't constant during the experiment."
   ]
  },
  {
   "cell_type": "markdown",
   "metadata": {},
   "source": [
    "### <b> Humidity </b>"
   ]
  },
  {
   "cell_type": "code",
   "execution_count": 24,
   "metadata": {},
   "outputs": [],
   "source": [
    "humidity = pd.read_excel(\"raw_data/inside_2.xlsx\")[['date','humidity']]\n",
    "humidity.rename(columns={'date':'Date'}, inplace=True)"
   ]
  },
  {
   "cell_type": "code",
   "execution_count": 25,
   "metadata": {},
   "outputs": [],
   "source": [
    "# Set Date column to datetime type\n",
    "humidity['Date'] = pd.to_datetime(humidity['Date'])"
   ]
  },
  {
   "cell_type": "code",
   "execution_count": 26,
   "metadata": {},
   "outputs": [
    {
     "data": {
      "text/plain": [
       "43"
      ]
     },
     "execution_count": 26,
     "metadata": {},
     "output_type": "execute_result"
    }
   ],
   "source": [
    "humidity['Date'].nunique()"
   ]
  },
  {
   "cell_type": "code",
   "execution_count": 27,
   "metadata": {},
   "outputs": [
    {
     "data": {
      "text/html": [
       "<div>\n",
       "<style scoped>\n",
       "    .dataframe tbody tr th:only-of-type {\n",
       "        vertical-align: middle;\n",
       "    }\n",
       "\n",
       "    .dataframe tbody tr th {\n",
       "        vertical-align: top;\n",
       "    }\n",
       "\n",
       "    .dataframe thead th {\n",
       "        text-align: right;\n",
       "    }\n",
       "</style>\n",
       "<table border=\"1\" class=\"dataframe\">\n",
       "  <thead>\n",
       "    <tr style=\"text-align: right;\">\n",
       "      <th></th>\n",
       "      <th>Date</th>\n",
       "      <th>humidity</th>\n",
       "    </tr>\n",
       "  </thead>\n",
       "  <tbody>\n",
       "    <tr>\n",
       "      <th>0</th>\n",
       "      <td>2024-08-22</td>\n",
       "      <td>66.100000</td>\n",
       "    </tr>\n",
       "    <tr>\n",
       "      <th>1</th>\n",
       "      <td>2024-08-22</td>\n",
       "      <td>70.700000</td>\n",
       "    </tr>\n",
       "    <tr>\n",
       "      <th>2</th>\n",
       "      <td>2024-08-22</td>\n",
       "      <td>74.000000</td>\n",
       "    </tr>\n",
       "    <tr>\n",
       "      <th>3</th>\n",
       "      <td>2024-08-22</td>\n",
       "      <td>76.600000</td>\n",
       "    </tr>\n",
       "    <tr>\n",
       "      <th>4</th>\n",
       "      <td>2024-08-22</td>\n",
       "      <td>77.800000</td>\n",
       "    </tr>\n",
       "    <tr>\n",
       "      <th>...</th>\n",
       "      <td>...</td>\n",
       "      <td>...</td>\n",
       "    </tr>\n",
       "    <tr>\n",
       "      <th>941</th>\n",
       "      <td>2024-10-03</td>\n",
       "      <td>86.559822</td>\n",
       "    </tr>\n",
       "    <tr>\n",
       "      <th>942</th>\n",
       "      <td>2024-10-03</td>\n",
       "      <td>85.557480</td>\n",
       "    </tr>\n",
       "    <tr>\n",
       "      <th>943</th>\n",
       "      <td>2024-10-03</td>\n",
       "      <td>84.059044</td>\n",
       "    </tr>\n",
       "    <tr>\n",
       "      <th>944</th>\n",
       "      <td>2024-10-03</td>\n",
       "      <td>82.733772</td>\n",
       "    </tr>\n",
       "    <tr>\n",
       "      <th>945</th>\n",
       "      <td>2024-10-03</td>\n",
       "      <td>81.984047</td>\n",
       "    </tr>\n",
       "  </tbody>\n",
       "</table>\n",
       "<p>946 rows × 2 columns</p>\n",
       "</div>"
      ],
      "text/plain": [
       "          Date   humidity\n",
       "0   2024-08-22  66.100000\n",
       "1   2024-08-22  70.700000\n",
       "2   2024-08-22  74.000000\n",
       "3   2024-08-22  76.600000\n",
       "4   2024-08-22  77.800000\n",
       "..         ...        ...\n",
       "941 2024-10-03  86.559822\n",
       "942 2024-10-03  85.557480\n",
       "943 2024-10-03  84.059044\n",
       "944 2024-10-03  82.733772\n",
       "945 2024-10-03  81.984047\n",
       "\n",
       "[946 rows x 2 columns]"
      ]
     },
     "execution_count": 27,
     "metadata": {},
     "output_type": "execute_result"
    }
   ],
   "source": [
    "humidity"
   ]
  },
  {
   "cell_type": "code",
   "execution_count": 28,
   "metadata": {},
   "outputs": [],
   "source": [
    "hum_date_dict = count_daily_measurements(humidity)"
   ]
  },
  {
   "cell_type": "code",
   "execution_count": 29,
   "metadata": {},
   "outputs": [
    {
     "data": {
      "text/plain": [
       "dict_values([25, 24, 24, 24, 24, 24, 24, 24, 24, 24, 23, 24, 24, 24, 24, 24, 24, 24, 24, 24, 24, 19, 18, 24, 24, 16, 9, 14, 21, 20, 24, 14, 13, 23, 24, 24, 22, 24, 23, 23, 24, 24, 15])"
      ]
     },
     "execution_count": 29,
     "metadata": {},
     "output_type": "execute_result"
    }
   ],
   "source": [
    "hum_date_dict.values()"
   ]
  },
  {
   "cell_type": "markdown",
   "metadata": {},
   "source": [
    "* The number of humidity measurements follows the number of temperature measurements (captured by the same sensors)"
   ]
  },
  {
   "cell_type": "markdown",
   "metadata": {},
   "source": [
    "### <b> PAR </b>"
   ]
  },
  {
   "cell_type": "code",
   "execution_count": 30,
   "metadata": {},
   "outputs": [],
   "source": [
    "par = pd.read_excel('raw_data/PAR.xlsx')\n",
    "\n",
    "# Set Date column to datetime type using clean_timestamp from utils.py\n",
    "par['Date'] = par['Date'].apply(clean_timestamp)"
   ]
  },
  {
   "cell_type": "code",
   "execution_count": 31,
   "metadata": {},
   "outputs": [
    {
     "data": {
      "text/plain": [
       "19"
      ]
     },
     "execution_count": 31,
     "metadata": {},
     "output_type": "execute_result"
    }
   ],
   "source": [
    "par['Date'].nunique()"
   ]
  },
  {
   "cell_type": "code",
   "execution_count": 32,
   "metadata": {},
   "outputs": [],
   "source": [
    "par_date_dict = count_daily_measurements(par)"
   ]
  },
  {
   "cell_type": "code",
   "execution_count": 33,
   "metadata": {},
   "outputs": [
    {
     "data": {
      "text/plain": [
       "{Timestamp('2024-09-02 00:00:00'): 5,\n",
       " Timestamp('2024-09-03 00:00:00'): 24,\n",
       " Timestamp('2024-09-04 00:00:00'): 24,\n",
       " Timestamp('2024-09-05 00:00:00'): 24,\n",
       " Timestamp('2024-09-06 00:00:00'): 24,\n",
       " Timestamp('2024-09-07 00:00:00'): 23,\n",
       " Timestamp('2024-09-08 00:00:00'): 24,\n",
       " Timestamp('2024-09-09 00:00:00'): 24,\n",
       " Timestamp('2024-09-10 00:00:00'): 24,\n",
       " Timestamp('2024-09-11 00:00:00'): 24,\n",
       " Timestamp('2024-09-12 00:00:00'): 24,\n",
       " Timestamp('2024-09-13 00:00:00'): 25,\n",
       " Timestamp('2024-09-14 00:00:00'): 23,\n",
       " Timestamp('2024-09-15 00:00:00'): 24,\n",
       " Timestamp('2024-09-16 00:00:00'): 23,\n",
       " Timestamp('2024-09-17 00:00:00'): 24,\n",
       " Timestamp('2024-09-18 00:00:00'): 24,\n",
       " Timestamp('2024-09-19 00:00:00'): 24,\n",
       " Timestamp('2024-09-20 00:00:00'): 10}"
      ]
     },
     "execution_count": 33,
     "metadata": {},
     "output_type": "execute_result"
    }
   ],
   "source": [
    "par_date_dict"
   ]
  },
  {
   "cell_type": "markdown",
   "metadata": {},
   "source": [
    "<b> Common Dates amongst biometric and environmental dataframes </b>"
   ]
  },
  {
   "cell_type": "code",
   "execution_count": 34,
   "metadata": {},
   "outputs": [],
   "source": [
    "dataframes = {'Biometry':biometry, 'Irrigation':irrigation, 'Humidity':humidity,'Temperature':temperature, 'Par':par}"
   ]
  },
  {
   "cell_type": "code",
   "execution_count": 35,
   "metadata": {},
   "outputs": [
    {
     "name": "stdout",
     "output_type": "stream",
     "text": [
      "Biometry x Irrigation | No. Common Dates: 4\n",
      "\n",
      "Biometry x Humidity | No. Common Dates: 8\n",
      "\n",
      "Biometry x Temperature | No. Common Dates: 8\n",
      "\n",
      "Biometry x Par | No. Common Dates: 5\n",
      "\n",
      "Irrigation x Humidity | No. Common Dates: 23\n",
      "\n",
      "Irrigation x Temperature | No. Common Dates: 23\n",
      "\n",
      "Irrigation x Par | No. Common Dates: 11\n",
      "\n",
      "Humidity x Temperature | No. Common Dates: 43\n",
      "\n",
      "Humidity x Par | No. Common Dates: 19\n",
      "\n",
      "Temperature x Par | No. Common Dates: 19\n",
      "\n"
     ]
    }
   ],
   "source": [
    "common_dates = find_common_dates(dataframes, check_num = 1)"
   ]
  },
  {
   "cell_type": "code",
   "execution_count": 36,
   "metadata": {},
   "outputs": [
    {
     "data": {
      "text/plain": [
       "{'Biometry x Irrigation': {Timestamp('2024-09-07 00:00:00'),\n",
       "  Timestamp('2024-09-11 00:00:00'),\n",
       "  Timestamp('2024-09-17 00:00:00'),\n",
       "  Timestamp('2024-09-20 00:00:00')},\n",
       " 'Biometry x Humidity': {Timestamp('2024-09-07 00:00:00'),\n",
       "  Timestamp('2024-09-11 00:00:00'),\n",
       "  Timestamp('2024-09-14 00:00:00'),\n",
       "  Timestamp('2024-09-17 00:00:00'),\n",
       "  Timestamp('2024-09-20 00:00:00'),\n",
       "  Timestamp('2024-09-24 00:00:00'),\n",
       "  Timestamp('2024-09-29 00:00:00'),\n",
       "  Timestamp('2024-10-03 00:00:00')},\n",
       " 'Biometry x Temperature': {Timestamp('2024-09-07 00:00:00'),\n",
       "  Timestamp('2024-09-11 00:00:00'),\n",
       "  Timestamp('2024-09-14 00:00:00'),\n",
       "  Timestamp('2024-09-17 00:00:00'),\n",
       "  Timestamp('2024-09-20 00:00:00'),\n",
       "  Timestamp('2024-09-24 00:00:00'),\n",
       "  Timestamp('2024-09-29 00:00:00'),\n",
       "  Timestamp('2024-10-03 00:00:00')},\n",
       " 'Biometry x Par': {Timestamp('2024-09-07 00:00:00'),\n",
       "  Timestamp('2024-09-11 00:00:00'),\n",
       "  Timestamp('2024-09-14 00:00:00'),\n",
       "  Timestamp('2024-09-17 00:00:00'),\n",
       "  Timestamp('2024-09-20 00:00:00')},\n",
       " 'Irrigation x Humidity': {Timestamp('2024-08-24 00:00:00'),\n",
       "  Timestamp('2024-08-26 00:00:00'),\n",
       "  Timestamp('2024-08-28 00:00:00'),\n",
       "  Timestamp('2024-08-30 00:00:00'),\n",
       "  Timestamp('2024-09-02 00:00:00'),\n",
       "  Timestamp('2024-09-04 00:00:00'),\n",
       "  Timestamp('2024-09-07 00:00:00'),\n",
       "  Timestamp('2024-09-09 00:00:00'),\n",
       "  Timestamp('2024-09-11 00:00:00'),\n",
       "  Timestamp('2024-09-12 00:00:00'),\n",
       "  Timestamp('2024-09-13 00:00:00'),\n",
       "  Timestamp('2024-09-16 00:00:00'),\n",
       "  Timestamp('2024-09-17 00:00:00'),\n",
       "  Timestamp('2024-09-18 00:00:00'),\n",
       "  Timestamp('2024-09-20 00:00:00'),\n",
       "  Timestamp('2024-09-21 00:00:00'),\n",
       "  Timestamp('2024-09-22 00:00:00'),\n",
       "  Timestamp('2024-09-23 00:00:00'),\n",
       "  Timestamp('2024-09-25 00:00:00'),\n",
       "  Timestamp('2024-09-26 00:00:00'),\n",
       "  Timestamp('2024-09-27 00:00:00'),\n",
       "  Timestamp('2024-09-30 00:00:00'),\n",
       "  Timestamp('2024-10-01 00:00:00')},\n",
       " 'Irrigation x Temperature': {Timestamp('2024-08-24 00:00:00'),\n",
       "  Timestamp('2024-08-26 00:00:00'),\n",
       "  Timestamp('2024-08-28 00:00:00'),\n",
       "  Timestamp('2024-08-30 00:00:00'),\n",
       "  Timestamp('2024-09-02 00:00:00'),\n",
       "  Timestamp('2024-09-04 00:00:00'),\n",
       "  Timestamp('2024-09-07 00:00:00'),\n",
       "  Timestamp('2024-09-09 00:00:00'),\n",
       "  Timestamp('2024-09-11 00:00:00'),\n",
       "  Timestamp('2024-09-12 00:00:00'),\n",
       "  Timestamp('2024-09-13 00:00:00'),\n",
       "  Timestamp('2024-09-16 00:00:00'),\n",
       "  Timestamp('2024-09-17 00:00:00'),\n",
       "  Timestamp('2024-09-18 00:00:00'),\n",
       "  Timestamp('2024-09-20 00:00:00'),\n",
       "  Timestamp('2024-09-21 00:00:00'),\n",
       "  Timestamp('2024-09-22 00:00:00'),\n",
       "  Timestamp('2024-09-23 00:00:00'),\n",
       "  Timestamp('2024-09-25 00:00:00'),\n",
       "  Timestamp('2024-09-26 00:00:00'),\n",
       "  Timestamp('2024-09-27 00:00:00'),\n",
       "  Timestamp('2024-09-30 00:00:00'),\n",
       "  Timestamp('2024-10-01 00:00:00')},\n",
       " 'Irrigation x Par': {Timestamp('2024-09-02 00:00:00'),\n",
       "  Timestamp('2024-09-04 00:00:00'),\n",
       "  Timestamp('2024-09-07 00:00:00'),\n",
       "  Timestamp('2024-09-09 00:00:00'),\n",
       "  Timestamp('2024-09-11 00:00:00'),\n",
       "  Timestamp('2024-09-12 00:00:00'),\n",
       "  Timestamp('2024-09-13 00:00:00'),\n",
       "  Timestamp('2024-09-16 00:00:00'),\n",
       "  Timestamp('2024-09-17 00:00:00'),\n",
       "  Timestamp('2024-09-18 00:00:00'),\n",
       "  Timestamp('2024-09-20 00:00:00')},\n",
       " 'Humidity x Temperature': {Timestamp('2024-08-22 00:00:00'),\n",
       "  Timestamp('2024-08-23 00:00:00'),\n",
       "  Timestamp('2024-08-24 00:00:00'),\n",
       "  Timestamp('2024-08-25 00:00:00'),\n",
       "  Timestamp('2024-08-26 00:00:00'),\n",
       "  Timestamp('2024-08-27 00:00:00'),\n",
       "  Timestamp('2024-08-28 00:00:00'),\n",
       "  Timestamp('2024-08-29 00:00:00'),\n",
       "  Timestamp('2024-08-30 00:00:00'),\n",
       "  Timestamp('2024-08-31 00:00:00'),\n",
       "  Timestamp('2024-09-01 00:00:00'),\n",
       "  Timestamp('2024-09-02 00:00:00'),\n",
       "  Timestamp('2024-09-03 00:00:00'),\n",
       "  Timestamp('2024-09-04 00:00:00'),\n",
       "  Timestamp('2024-09-05 00:00:00'),\n",
       "  Timestamp('2024-09-06 00:00:00'),\n",
       "  Timestamp('2024-09-07 00:00:00'),\n",
       "  Timestamp('2024-09-08 00:00:00'),\n",
       "  Timestamp('2024-09-09 00:00:00'),\n",
       "  Timestamp('2024-09-10 00:00:00'),\n",
       "  Timestamp('2024-09-11 00:00:00'),\n",
       "  Timestamp('2024-09-12 00:00:00'),\n",
       "  Timestamp('2024-09-13 00:00:00'),\n",
       "  Timestamp('2024-09-14 00:00:00'),\n",
       "  Timestamp('2024-09-15 00:00:00'),\n",
       "  Timestamp('2024-09-16 00:00:00'),\n",
       "  Timestamp('2024-09-17 00:00:00'),\n",
       "  Timestamp('2024-09-18 00:00:00'),\n",
       "  Timestamp('2024-09-19 00:00:00'),\n",
       "  Timestamp('2024-09-20 00:00:00'),\n",
       "  Timestamp('2024-09-21 00:00:00'),\n",
       "  Timestamp('2024-09-22 00:00:00'),\n",
       "  Timestamp('2024-09-23 00:00:00'),\n",
       "  Timestamp('2024-09-24 00:00:00'),\n",
       "  Timestamp('2024-09-25 00:00:00'),\n",
       "  Timestamp('2024-09-26 00:00:00'),\n",
       "  Timestamp('2024-09-27 00:00:00'),\n",
       "  Timestamp('2024-09-28 00:00:00'),\n",
       "  Timestamp('2024-09-29 00:00:00'),\n",
       "  Timestamp('2024-09-30 00:00:00'),\n",
       "  Timestamp('2024-10-01 00:00:00'),\n",
       "  Timestamp('2024-10-02 00:00:00'),\n",
       "  Timestamp('2024-10-03 00:00:00')},\n",
       " 'Humidity x Par': {Timestamp('2024-09-02 00:00:00'),\n",
       "  Timestamp('2024-09-03 00:00:00'),\n",
       "  Timestamp('2024-09-04 00:00:00'),\n",
       "  Timestamp('2024-09-05 00:00:00'),\n",
       "  Timestamp('2024-09-06 00:00:00'),\n",
       "  Timestamp('2024-09-07 00:00:00'),\n",
       "  Timestamp('2024-09-08 00:00:00'),\n",
       "  Timestamp('2024-09-09 00:00:00'),\n",
       "  Timestamp('2024-09-10 00:00:00'),\n",
       "  Timestamp('2024-09-11 00:00:00'),\n",
       "  Timestamp('2024-09-12 00:00:00'),\n",
       "  Timestamp('2024-09-13 00:00:00'),\n",
       "  Timestamp('2024-09-14 00:00:00'),\n",
       "  Timestamp('2024-09-15 00:00:00'),\n",
       "  Timestamp('2024-09-16 00:00:00'),\n",
       "  Timestamp('2024-09-17 00:00:00'),\n",
       "  Timestamp('2024-09-18 00:00:00'),\n",
       "  Timestamp('2024-09-19 00:00:00'),\n",
       "  Timestamp('2024-09-20 00:00:00')},\n",
       " 'Temperature x Par': {Timestamp('2024-09-02 00:00:00'),\n",
       "  Timestamp('2024-09-03 00:00:00'),\n",
       "  Timestamp('2024-09-04 00:00:00'),\n",
       "  Timestamp('2024-09-05 00:00:00'),\n",
       "  Timestamp('2024-09-06 00:00:00'),\n",
       "  Timestamp('2024-09-07 00:00:00'),\n",
       "  Timestamp('2024-09-08 00:00:00'),\n",
       "  Timestamp('2024-09-09 00:00:00'),\n",
       "  Timestamp('2024-09-10 00:00:00'),\n",
       "  Timestamp('2024-09-11 00:00:00'),\n",
       "  Timestamp('2024-09-12 00:00:00'),\n",
       "  Timestamp('2024-09-13 00:00:00'),\n",
       "  Timestamp('2024-09-14 00:00:00'),\n",
       "  Timestamp('2024-09-15 00:00:00'),\n",
       "  Timestamp('2024-09-16 00:00:00'),\n",
       "  Timestamp('2024-09-17 00:00:00'),\n",
       "  Timestamp('2024-09-18 00:00:00'),\n",
       "  Timestamp('2024-09-19 00:00:00'),\n",
       "  Timestamp('2024-09-20 00:00:00')}}"
      ]
     },
     "execution_count": 36,
     "metadata": {},
     "output_type": "execute_result"
    }
   ],
   "source": [
    "common_dates"
   ]
  },
  {
   "cell_type": "markdown",
   "metadata": {},
   "source": [
    "* Since there aren't many common dates amongst the biometry dataframes and environmental variables, we'll make use of the available environmental data to calculate cumulative values where possible to gather valuable information and append it to the corresponding biometry entries in the dataframe."
   ]
  },
  {
   "cell_type": "markdown",
   "metadata": {},
   "source": [
    "#### <b> Environmental Variables </b>"
   ]
  },
  {
   "cell_type": "code",
   "execution_count": 37,
   "metadata": {},
   "outputs": [],
   "source": [
    "cumul_gdd = calculate_cumulative_gdd(temperature_df=temperature)"
   ]
  },
  {
   "cell_type": "code",
   "execution_count": 38,
   "metadata": {},
   "outputs": [
    {
     "data": {
      "text/html": [
       "<div>\n",
       "<style scoped>\n",
       "    .dataframe tbody tr th:only-of-type {\n",
       "        vertical-align: middle;\n",
       "    }\n",
       "\n",
       "    .dataframe tbody tr th {\n",
       "        vertical-align: top;\n",
       "    }\n",
       "\n",
       "    .dataframe thead th {\n",
       "        text-align: right;\n",
       "    }\n",
       "</style>\n",
       "<table border=\"1\" class=\"dataframe\">\n",
       "  <thead>\n",
       "    <tr style=\"text-align: right;\">\n",
       "      <th></th>\n",
       "      <th>Date</th>\n",
       "      <th>GDD Cumul.</th>\n",
       "    </tr>\n",
       "  </thead>\n",
       "  <tbody>\n",
       "    <tr>\n",
       "      <th>0</th>\n",
       "      <td>2024-08-22</td>\n",
       "      <td>18.750000</td>\n",
       "    </tr>\n",
       "    <tr>\n",
       "      <th>1</th>\n",
       "      <td>2024-08-22</td>\n",
       "      <td>18.750000</td>\n",
       "    </tr>\n",
       "    <tr>\n",
       "      <th>2</th>\n",
       "      <td>2024-08-22</td>\n",
       "      <td>18.750000</td>\n",
       "    </tr>\n",
       "    <tr>\n",
       "      <th>3</th>\n",
       "      <td>2024-08-22</td>\n",
       "      <td>18.750000</td>\n",
       "    </tr>\n",
       "    <tr>\n",
       "      <th>4</th>\n",
       "      <td>2024-08-22</td>\n",
       "      <td>18.750000</td>\n",
       "    </tr>\n",
       "    <tr>\n",
       "      <th>...</th>\n",
       "      <td>...</td>\n",
       "      <td>...</td>\n",
       "    </tr>\n",
       "    <tr>\n",
       "      <th>941</th>\n",
       "      <td>2024-10-03</td>\n",
       "      <td>809.244245</td>\n",
       "    </tr>\n",
       "    <tr>\n",
       "      <th>942</th>\n",
       "      <td>2024-10-03</td>\n",
       "      <td>809.244245</td>\n",
       "    </tr>\n",
       "    <tr>\n",
       "      <th>943</th>\n",
       "      <td>2024-10-03</td>\n",
       "      <td>809.244245</td>\n",
       "    </tr>\n",
       "    <tr>\n",
       "      <th>944</th>\n",
       "      <td>2024-10-03</td>\n",
       "      <td>809.244245</td>\n",
       "    </tr>\n",
       "    <tr>\n",
       "      <th>945</th>\n",
       "      <td>2024-10-03</td>\n",
       "      <td>809.244245</td>\n",
       "    </tr>\n",
       "  </tbody>\n",
       "</table>\n",
       "<p>946 rows × 2 columns</p>\n",
       "</div>"
      ],
      "text/plain": [
       "          Date  GDD Cumul.\n",
       "0   2024-08-22   18.750000\n",
       "1   2024-08-22   18.750000\n",
       "2   2024-08-22   18.750000\n",
       "3   2024-08-22   18.750000\n",
       "4   2024-08-22   18.750000\n",
       "..         ...         ...\n",
       "941 2024-10-03  809.244245\n",
       "942 2024-10-03  809.244245\n",
       "943 2024-10-03  809.244245\n",
       "944 2024-10-03  809.244245\n",
       "945 2024-10-03  809.244245\n",
       "\n",
       "[946 rows x 2 columns]"
      ]
     },
     "execution_count": 38,
     "metadata": {},
     "output_type": "execute_result"
    }
   ],
   "source": [
    "cumul_gdd"
   ]
  },
  {
   "cell_type": "markdown",
   "metadata": {},
   "source": [
    "<b> Accumulated PAR </b>"
   ]
  },
  {
   "cell_type": "code",
   "execution_count": 39,
   "metadata": {},
   "outputs": [],
   "source": [
    "par_cumul = calculate_cumulative_par(par_df=par)"
   ]
  },
  {
   "cell_type": "markdown",
   "metadata": {},
   "source": [
    "<b> Accumulated Solution and Nitrate Irrigation </b>"
   ]
  },
  {
   "cell_type": "code",
   "execution_count": 40,
   "metadata": {},
   "outputs": [],
   "source": [
    "irr_df = calculate_accumulated_nitrates(irrigation_df=irrigation)"
   ]
  },
  {
   "cell_type": "code",
   "execution_count": 41,
   "metadata": {},
   "outputs": [
    {
     "data": {
      "text/html": [
       "<div>\n",
       "<style scoped>\n",
       "    .dataframe tbody tr th:only-of-type {\n",
       "        vertical-align: middle;\n",
       "    }\n",
       "\n",
       "    .dataframe tbody tr th {\n",
       "        vertical-align: top;\n",
       "    }\n",
       "\n",
       "    .dataframe thead th {\n",
       "        text-align: right;\n",
       "    }\n",
       "</style>\n",
       "<table border=\"1\" class=\"dataframe\">\n",
       "  <thead>\n",
       "    <tr style=\"text-align: right;\">\n",
       "      <th></th>\n",
       "      <th>Date</th>\n",
       "      <th>Sample</th>\n",
       "      <th>Cumul. Irrigation (mL)</th>\n",
       "      <th>Cumul. Nitrates (milimoles)</th>\n",
       "    </tr>\n",
       "  </thead>\n",
       "  <tbody>\n",
       "    <tr>\n",
       "      <th>0</th>\n",
       "      <td>2024-08-24</td>\n",
       "      <td>RNGRA1</td>\n",
       "      <td>50.0</td>\n",
       "      <td>0.3000</td>\n",
       "    </tr>\n",
       "    <tr>\n",
       "      <th>1</th>\n",
       "      <td>2024-08-24</td>\n",
       "      <td>RNGRA2</td>\n",
       "      <td>50.0</td>\n",
       "      <td>0.3000</td>\n",
       "    </tr>\n",
       "    <tr>\n",
       "      <th>2</th>\n",
       "      <td>2024-08-24</td>\n",
       "      <td>RNGRA3</td>\n",
       "      <td>50.0</td>\n",
       "      <td>0.3000</td>\n",
       "    </tr>\n",
       "    <tr>\n",
       "      <th>3</th>\n",
       "      <td>2024-08-24</td>\n",
       "      <td>RNGRA4</td>\n",
       "      <td>50.0</td>\n",
       "      <td>0.3000</td>\n",
       "    </tr>\n",
       "    <tr>\n",
       "      <th>4</th>\n",
       "      <td>2024-08-24</td>\n",
       "      <td>RNGRA5</td>\n",
       "      <td>50.0</td>\n",
       "      <td>0.3000</td>\n",
       "    </tr>\n",
       "    <tr>\n",
       "      <th>...</th>\n",
       "      <td>...</td>\n",
       "      <td>...</td>\n",
       "      <td>...</td>\n",
       "      <td>...</td>\n",
       "    </tr>\n",
       "    <tr>\n",
       "      <th>985</th>\n",
       "      <td>2024-10-01</td>\n",
       "      <td>RWGRC1</td>\n",
       "      <td>1084.0</td>\n",
       "      <td>18.4280</td>\n",
       "    </tr>\n",
       "    <tr>\n",
       "      <th>986</th>\n",
       "      <td>2024-10-01</td>\n",
       "      <td>RWGRC2</td>\n",
       "      <td>877.5</td>\n",
       "      <td>14.9175</td>\n",
       "    </tr>\n",
       "    <tr>\n",
       "      <th>987</th>\n",
       "      <td>2024-10-01</td>\n",
       "      <td>RWGRC3</td>\n",
       "      <td>1045.5</td>\n",
       "      <td>17.7735</td>\n",
       "    </tr>\n",
       "    <tr>\n",
       "      <th>988</th>\n",
       "      <td>2024-10-01</td>\n",
       "      <td>RWGRC4</td>\n",
       "      <td>1058.0</td>\n",
       "      <td>17.9860</td>\n",
       "    </tr>\n",
       "    <tr>\n",
       "      <th>989</th>\n",
       "      <td>2024-10-01</td>\n",
       "      <td>RWGRC5</td>\n",
       "      <td>968.0</td>\n",
       "      <td>16.4560</td>\n",
       "    </tr>\n",
       "  </tbody>\n",
       "</table>\n",
       "<p>990 rows × 4 columns</p>\n",
       "</div>"
      ],
      "text/plain": [
       "          Date  Sample  Cumul. Irrigation (mL)  Cumul. Nitrates (milimoles)\n",
       "0   2024-08-24  RNGRA1                    50.0                       0.3000\n",
       "1   2024-08-24  RNGRA2                    50.0                       0.3000\n",
       "2   2024-08-24  RNGRA3                    50.0                       0.3000\n",
       "3   2024-08-24  RNGRA4                    50.0                       0.3000\n",
       "4   2024-08-24  RNGRA5                    50.0                       0.3000\n",
       "..         ...     ...                     ...                          ...\n",
       "985 2024-10-01  RWGRC1                  1084.0                      18.4280\n",
       "986 2024-10-01  RWGRC2                   877.5                      14.9175\n",
       "987 2024-10-01  RWGRC3                  1045.5                      17.7735\n",
       "988 2024-10-01  RWGRC4                  1058.0                      17.9860\n",
       "989 2024-10-01  RWGRC5                   968.0                      16.4560\n",
       "\n",
       "[990 rows x 4 columns]"
      ]
     },
     "execution_count": 41,
     "metadata": {},
     "output_type": "execute_result"
    }
   ],
   "source": [
    "irr_df"
   ]
  },
  {
   "cell_type": "markdown",
   "metadata": {},
   "source": [
    "<b> Average daily Humidity </b>"
   ]
  },
  {
   "cell_type": "code",
   "execution_count": 42,
   "metadata": {},
   "outputs": [],
   "source": [
    "hum_avg = daily_average_humidity(humidity_df=humidity)"
   ]
  },
  {
   "cell_type": "markdown",
   "metadata": {},
   "source": [
    "<b> Combine all dataframes </b>"
   ]
  },
  {
   "cell_type": "code",
   "execution_count": 43,
   "metadata": {},
   "outputs": [],
   "source": [
    "merged_df = merge_variables(bbch_df=new_bbch, biometry_df=biometry, gdd_df=cumul_gdd, par_df=par_cumul, nitrates_df=irr_df)"
   ]
  },
  {
   "cell_type": "code",
   "execution_count": 44,
   "metadata": {},
   "outputs": [
    {
     "data": {
      "text/html": [
       "<div>\n",
       "<style scoped>\n",
       "    .dataframe tbody tr th:only-of-type {\n",
       "        vertical-align: middle;\n",
       "    }\n",
       "\n",
       "    .dataframe tbody tr th {\n",
       "        vertical-align: top;\n",
       "    }\n",
       "\n",
       "    .dataframe thead th {\n",
       "        text-align: right;\n",
       "    }\n",
       "</style>\n",
       "<table border=\"1\" class=\"dataframe\">\n",
       "  <thead>\n",
       "    <tr style=\"text-align: right;\">\n",
       "      <th></th>\n",
       "      <th>Date</th>\n",
       "      <th>PAR Cumul.</th>\n",
       "    </tr>\n",
       "  </thead>\n",
       "  <tbody>\n",
       "    <tr>\n",
       "      <th>0</th>\n",
       "      <td>2024-09-02</td>\n",
       "      <td>87.0</td>\n",
       "    </tr>\n",
       "    <tr>\n",
       "      <th>1</th>\n",
       "      <td>2024-09-03</td>\n",
       "      <td>1860.3</td>\n",
       "    </tr>\n",
       "    <tr>\n",
       "      <th>2</th>\n",
       "      <td>2024-09-04</td>\n",
       "      <td>3788.5</td>\n",
       "    </tr>\n",
       "    <tr>\n",
       "      <th>3</th>\n",
       "      <td>2024-09-05</td>\n",
       "      <td>5441.0</td>\n",
       "    </tr>\n",
       "    <tr>\n",
       "      <th>4</th>\n",
       "      <td>2024-09-06</td>\n",
       "      <td>6577.0</td>\n",
       "    </tr>\n",
       "    <tr>\n",
       "      <th>5</th>\n",
       "      <td>2024-09-07</td>\n",
       "      <td>8284.7</td>\n",
       "    </tr>\n",
       "    <tr>\n",
       "      <th>6</th>\n",
       "      <td>2024-09-08</td>\n",
       "      <td>10229.2</td>\n",
       "    </tr>\n",
       "    <tr>\n",
       "      <th>7</th>\n",
       "      <td>2024-09-09</td>\n",
       "      <td>12051.7</td>\n",
       "    </tr>\n",
       "    <tr>\n",
       "      <th>8</th>\n",
       "      <td>2024-09-10</td>\n",
       "      <td>14750.7</td>\n",
       "    </tr>\n",
       "    <tr>\n",
       "      <th>9</th>\n",
       "      <td>2024-09-11</td>\n",
       "      <td>16804.0</td>\n",
       "    </tr>\n",
       "    <tr>\n",
       "      <th>10</th>\n",
       "      <td>2024-09-12</td>\n",
       "      <td>18988.6</td>\n",
       "    </tr>\n",
       "    <tr>\n",
       "      <th>11</th>\n",
       "      <td>2024-09-13</td>\n",
       "      <td>21005.2</td>\n",
       "    </tr>\n",
       "    <tr>\n",
       "      <th>12</th>\n",
       "      <td>2024-09-14</td>\n",
       "      <td>22970.1</td>\n",
       "    </tr>\n",
       "    <tr>\n",
       "      <th>13</th>\n",
       "      <td>2024-09-15</td>\n",
       "      <td>24862.1</td>\n",
       "    </tr>\n",
       "    <tr>\n",
       "      <th>14</th>\n",
       "      <td>2024-09-16</td>\n",
       "      <td>26025.5</td>\n",
       "    </tr>\n",
       "    <tr>\n",
       "      <th>15</th>\n",
       "      <td>2024-09-17</td>\n",
       "      <td>26761.5</td>\n",
       "    </tr>\n",
       "    <tr>\n",
       "      <th>16</th>\n",
       "      <td>2024-09-18</td>\n",
       "      <td>27175.6</td>\n",
       "    </tr>\n",
       "    <tr>\n",
       "      <th>17</th>\n",
       "      <td>2024-09-19</td>\n",
       "      <td>28756.0</td>\n",
       "    </tr>\n",
       "    <tr>\n",
       "      <th>18</th>\n",
       "      <td>2024-09-20</td>\n",
       "      <td>28775.3</td>\n",
       "    </tr>\n",
       "  </tbody>\n",
       "</table>\n",
       "</div>"
      ],
      "text/plain": [
       "         Date  PAR Cumul.\n",
       "0  2024-09-02        87.0\n",
       "1  2024-09-03      1860.3\n",
       "2  2024-09-04      3788.5\n",
       "3  2024-09-05      5441.0\n",
       "4  2024-09-06      6577.0\n",
       "5  2024-09-07      8284.7\n",
       "6  2024-09-08     10229.2\n",
       "7  2024-09-09     12051.7\n",
       "8  2024-09-10     14750.7\n",
       "9  2024-09-11     16804.0\n",
       "10 2024-09-12     18988.6\n",
       "11 2024-09-13     21005.2\n",
       "12 2024-09-14     22970.1\n",
       "13 2024-09-15     24862.1\n",
       "14 2024-09-16     26025.5\n",
       "15 2024-09-17     26761.5\n",
       "16 2024-09-18     27175.6\n",
       "17 2024-09-19     28756.0\n",
       "18 2024-09-20     28775.3"
      ]
     },
     "execution_count": 44,
     "metadata": {},
     "output_type": "execute_result"
    }
   ],
   "source": [
    "par_cumul"
   ]
  },
  {
   "cell_type": "code",
   "execution_count": 45,
   "metadata": {},
   "outputs": [
    {
     "data": {
      "text/html": [
       "<div>\n",
       "<style scoped>\n",
       "    .dataframe tbody tr th:only-of-type {\n",
       "        vertical-align: middle;\n",
       "    }\n",
       "\n",
       "    .dataframe tbody tr th {\n",
       "        vertical-align: top;\n",
       "    }\n",
       "\n",
       "    .dataframe thead th {\n",
       "        text-align: right;\n",
       "    }\n",
       "</style>\n",
       "<table border=\"1\" class=\"dataframe\">\n",
       "  <thead>\n",
       "    <tr style=\"text-align: right;\">\n",
       "      <th></th>\n",
       "      <th>Date</th>\n",
       "      <th>Number</th>\n",
       "      <th>Line</th>\n",
       "      <th>Sample</th>\n",
       "      <th>No leaves</th>\n",
       "      <th>Diameter</th>\n",
       "      <th>Perpendicular</th>\n",
       "      <th>Height</th>\n",
       "      <th>Average Leaf Thickness</th>\n",
       "      <th>BBCH</th>\n",
       "      <th>GDD Cumul.</th>\n",
       "      <th>PAR Cumul.</th>\n",
       "      <th>Cumul. Irrigation (mL)</th>\n",
       "      <th>Cumul. Nitrates (milimoles)</th>\n",
       "    </tr>\n",
       "  </thead>\n",
       "  <tbody>\n",
       "    <tr>\n",
       "      <th>2</th>\n",
       "      <td>2024-09-07</td>\n",
       "      <td>16</td>\n",
       "      <td>3</td>\n",
       "      <td>RNGRA3</td>\n",
       "      <td>9</td>\n",
       "      <td>9.8</td>\n",
       "      <td>9.7</td>\n",
       "      <td>10.70</td>\n",
       "      <td>0.000000</td>\n",
       "      <td>19</td>\n",
       "      <td>317.050000</td>\n",
       "      <td>8284.7</td>\n",
       "      <td>350.00</td>\n",
       "      <td>2.1000</td>\n",
       "    </tr>\n",
       "    <tr>\n",
       "      <th>47</th>\n",
       "      <td>2024-09-11</td>\n",
       "      <td>16</td>\n",
       "      <td>3</td>\n",
       "      <td>RNGRA3</td>\n",
       "      <td>12</td>\n",
       "      <td>14.3</td>\n",
       "      <td>12.3</td>\n",
       "      <td>12.80</td>\n",
       "      <td>0.000000</td>\n",
       "      <td>19</td>\n",
       "      <td>391.750000</td>\n",
       "      <td>16804.0</td>\n",
       "      <td>462.25</td>\n",
       "      <td>2.7735</td>\n",
       "    </tr>\n",
       "    <tr>\n",
       "      <th>92</th>\n",
       "      <td>2024-09-14</td>\n",
       "      <td>16</td>\n",
       "      <td>3</td>\n",
       "      <td>RNGRA3</td>\n",
       "      <td>12</td>\n",
       "      <td>21.2</td>\n",
       "      <td>13.8</td>\n",
       "      <td>12.50</td>\n",
       "      <td>0.000000</td>\n",
       "      <td>19</td>\n",
       "      <td>457.100000</td>\n",
       "      <td>22970.1</td>\n",
       "      <td>530.50</td>\n",
       "      <td>3.1830</td>\n",
       "    </tr>\n",
       "    <tr>\n",
       "      <th>137</th>\n",
       "      <td>2024-09-17</td>\n",
       "      <td>16</td>\n",
       "      <td>3</td>\n",
       "      <td>RNGRA3</td>\n",
       "      <td>14</td>\n",
       "      <td>21.5</td>\n",
       "      <td>16.8</td>\n",
       "      <td>11.30</td>\n",
       "      <td>0.000000</td>\n",
       "      <td>19</td>\n",
       "      <td>529.378430</td>\n",
       "      <td>26761.5</td>\n",
       "      <td>661.50</td>\n",
       "      <td>3.9690</td>\n",
       "    </tr>\n",
       "    <tr>\n",
       "      <th>182</th>\n",
       "      <td>2024-09-20</td>\n",
       "      <td>16</td>\n",
       "      <td>3</td>\n",
       "      <td>RNGRA3</td>\n",
       "      <td>14</td>\n",
       "      <td>21.5</td>\n",
       "      <td>20.4</td>\n",
       "      <td>11.90</td>\n",
       "      <td>0.416667</td>\n",
       "      <td>19</td>\n",
       "      <td>589.001102</td>\n",
       "      <td>28775.3</td>\n",
       "      <td>737.50</td>\n",
       "      <td>4.4250</td>\n",
       "    </tr>\n",
       "    <tr>\n",
       "      <th>227</th>\n",
       "      <td>2024-09-24</td>\n",
       "      <td>16</td>\n",
       "      <td>3</td>\n",
       "      <td>RNGRA3</td>\n",
       "      <td>14</td>\n",
       "      <td>28.5</td>\n",
       "      <td>25.7</td>\n",
       "      <td>13.55</td>\n",
       "      <td>0.293333</td>\n",
       "      <td>19</td>\n",
       "      <td>660.469683</td>\n",
       "      <td>28775.3</td>\n",
       "      <td>862.50</td>\n",
       "      <td>5.1750</td>\n",
       "    </tr>\n",
       "    <tr>\n",
       "      <th>272</th>\n",
       "      <td>2024-09-29</td>\n",
       "      <td>16</td>\n",
       "      <td>3</td>\n",
       "      <td>RNGRA3</td>\n",
       "      <td>13</td>\n",
       "      <td>27.8</td>\n",
       "      <td>28.5</td>\n",
       "      <td>13.05</td>\n",
       "      <td>0.430000</td>\n",
       "      <td>19</td>\n",
       "      <td>743.211838</td>\n",
       "      <td>28775.3</td>\n",
       "      <td>997.50</td>\n",
       "      <td>5.9850</td>\n",
       "    </tr>\n",
       "    <tr>\n",
       "      <th>317</th>\n",
       "      <td>2024-10-03</td>\n",
       "      <td>16</td>\n",
       "      <td>3</td>\n",
       "      <td>RNGRA3</td>\n",
       "      <td>16</td>\n",
       "      <td>31.4</td>\n",
       "      <td>30.6</td>\n",
       "      <td>11.45</td>\n",
       "      <td>0.264000</td>\n",
       "      <td>19</td>\n",
       "      <td>809.244245</td>\n",
       "      <td>28775.3</td>\n",
       "      <td>1141.00</td>\n",
       "      <td>6.8460</td>\n",
       "    </tr>\n",
       "  </tbody>\n",
       "</table>\n",
       "</div>"
      ],
      "text/plain": [
       "          Date  Number  Line  Sample  No leaves  Diameter  Perpendicular  \\\n",
       "2   2024-09-07      16     3  RNGRA3          9       9.8            9.7   \n",
       "47  2024-09-11      16     3  RNGRA3         12      14.3           12.3   \n",
       "92  2024-09-14      16     3  RNGRA3         12      21.2           13.8   \n",
       "137 2024-09-17      16     3  RNGRA3         14      21.5           16.8   \n",
       "182 2024-09-20      16     3  RNGRA3         14      21.5           20.4   \n",
       "227 2024-09-24      16     3  RNGRA3         14      28.5           25.7   \n",
       "272 2024-09-29      16     3  RNGRA3         13      27.8           28.5   \n",
       "317 2024-10-03      16     3  RNGRA3         16      31.4           30.6   \n",
       "\n",
       "     Height  Average Leaf Thickness  BBCH  GDD Cumul.  PAR Cumul.  \\\n",
       "2     10.70                0.000000    19  317.050000      8284.7   \n",
       "47    12.80                0.000000    19  391.750000     16804.0   \n",
       "92    12.50                0.000000    19  457.100000     22970.1   \n",
       "137   11.30                0.000000    19  529.378430     26761.5   \n",
       "182   11.90                0.416667    19  589.001102     28775.3   \n",
       "227   13.55                0.293333    19  660.469683     28775.3   \n",
       "272   13.05                0.430000    19  743.211838     28775.3   \n",
       "317   11.45                0.264000    19  809.244245     28775.3   \n",
       "\n",
       "     Cumul. Irrigation (mL)  Cumul. Nitrates (milimoles)  \n",
       "2                    350.00                       2.1000  \n",
       "47                   462.25                       2.7735  \n",
       "92                   530.50                       3.1830  \n",
       "137                  661.50                       3.9690  \n",
       "182                  737.50                       4.4250  \n",
       "227                  862.50                       5.1750  \n",
       "272                  997.50                       5.9850  \n",
       "317                 1141.00                       6.8460  "
      ]
     },
     "execution_count": 45,
     "metadata": {},
     "output_type": "execute_result"
    }
   ],
   "source": [
    "merged_df[merged_df['Sample'] == 'RNGRA3']"
   ]
  },
  {
   "cell_type": "code",
   "execution_count": 46,
   "metadata": {},
   "outputs": [],
   "source": [
    "merged_df.to_csv('03_biometric.csv')"
   ]
  },
  {
   "cell_type": "code",
   "execution_count": 47,
   "metadata": {},
   "outputs": [
    {
     "data": {
      "text/plain": [
       "Index(['Date', 'Number', 'Line', 'Sample', 'No leaves', 'Diameter',\n",
       "       'Perpendicular', 'Height', 'Average Leaf Thickness', 'BBCH',\n",
       "       'GDD Cumul.', 'PAR Cumul.', 'Cumul. Irrigation (mL)',\n",
       "       'Cumul. Nitrates (milimoles)'],\n",
       "      dtype='object')"
      ]
     },
     "execution_count": 47,
     "metadata": {},
     "output_type": "execute_result"
    }
   ],
   "source": [
    "merged_df.columns"
   ]
  },
  {
   "cell_type": "markdown",
   "metadata": {},
   "source": [
    "### <b> EDA </b>"
   ]
  },
  {
   "cell_type": "code",
   "execution_count": 48,
   "metadata": {},
   "outputs": [
    {
     "data": {
      "text/plain": [
       "array([[<Axes: title={'center': 'Date'}>,\n",
       "        <Axes: title={'center': 'Number'}>,\n",
       "        <Axes: title={'center': 'Line'}>,\n",
       "        <Axes: title={'center': 'No leaves'}>],\n",
       "       [<Axes: title={'center': 'Diameter'}>,\n",
       "        <Axes: title={'center': 'Perpendicular'}>,\n",
       "        <Axes: title={'center': 'Height'}>,\n",
       "        <Axes: title={'center': 'Average Leaf Thickness'}>],\n",
       "       [<Axes: title={'center': 'BBCH'}>,\n",
       "        <Axes: title={'center': 'GDD Cumul.'}>,\n",
       "        <Axes: title={'center': 'PAR Cumul.'}>,\n",
       "        <Axes: title={'center': 'Cumul. Irrigation (mL)'}>],\n",
       "       [<Axes: title={'center': 'Cumul. Nitrates (milimoles)'}>,\n",
       "        <Axes: >, <Axes: >, <Axes: >]], dtype=object)"
      ]
     },
     "execution_count": 48,
     "metadata": {},
     "output_type": "execute_result"
    },
    {
     "data": {
      "image/png": "[encoded data removed]",
      "text/plain": [
       "<Figure size 1500x1000 with 16 Axes>"
      ]
     },
     "metadata": {},
     "output_type": "display_data"
    }
   ],
   "source": [
    "# Plot histograms\n",
    "merged_df.hist(bins=20, figsize=(15, 10), color='skyblue', edgecolor='black')"
   ]
  },
  {
   "cell_type": "code",
   "execution_count": 49,
   "metadata": {},
   "outputs": [],
   "source": [
    "merged_df.drop(columns={'Line','Number'}, inplace=True)\n",
    "\n",
    "# Create a new column \"Family Sample\" by removing the last character of \"Sample\" for PCA\n",
    "merged_df[\"Family Sample\"] = merged_df[\"Sample\"].str[:-2]\n"
   ]
  },
  {
   "cell_type": "code",
   "execution_count": 50,
   "metadata": {},
   "outputs": [
    {
     "data": {
      "text/html": [
       "<div>\n",
       "<style scoped>\n",
       "    .dataframe tbody tr th:only-of-type {\n",
       "        vertical-align: middle;\n",
       "    }\n",
       "\n",
       "    .dataframe tbody tr th {\n",
       "        vertical-align: top;\n",
       "    }\n",
       "\n",
       "    .dataframe thead th {\n",
       "        text-align: right;\n",
       "    }\n",
       "</style>\n",
       "<table border=\"1\" class=\"dataframe\">\n",
       "  <thead>\n",
       "    <tr style=\"text-align: right;\">\n",
       "      <th></th>\n",
       "      <th>Date</th>\n",
       "      <th>Sample</th>\n",
       "      <th>No leaves</th>\n",
       "      <th>Diameter</th>\n",
       "      <th>Perpendicular</th>\n",
       "      <th>Height</th>\n",
       "      <th>Average Leaf Thickness</th>\n",
       "      <th>BBCH</th>\n",
       "      <th>GDD Cumul.</th>\n",
       "      <th>PAR Cumul.</th>\n",
       "      <th>Cumul. Irrigation (mL)</th>\n",
       "      <th>Cumul. Nitrates (milimoles)</th>\n",
       "      <th>Family Sample</th>\n",
       "    </tr>\n",
       "  </thead>\n",
       "  <tbody>\n",
       "    <tr>\n",
       "      <th>0</th>\n",
       "      <td>2024-09-07</td>\n",
       "      <td>RNGRA1</td>\n",
       "      <td>12</td>\n",
       "      <td>12.9</td>\n",
       "      <td>11.1</td>\n",
       "      <td>11.80</td>\n",
       "      <td>0.0000</td>\n",
       "      <td>19</td>\n",
       "      <td>317.050000</td>\n",
       "      <td>8284.7</td>\n",
       "      <td>350.0</td>\n",
       "      <td>2.1000</td>\n",
       "      <td>RNGR</td>\n",
       "    </tr>\n",
       "    <tr>\n",
       "      <th>1</th>\n",
       "      <td>2024-09-07</td>\n",
       "      <td>RNGRA2</td>\n",
       "      <td>10</td>\n",
       "      <td>11.6</td>\n",
       "      <td>10.9</td>\n",
       "      <td>9.30</td>\n",
       "      <td>0.0000</td>\n",
       "      <td>19</td>\n",
       "      <td>317.050000</td>\n",
       "      <td>8284.7</td>\n",
       "      <td>350.0</td>\n",
       "      <td>2.1000</td>\n",
       "      <td>RNGR</td>\n",
       "    </tr>\n",
       "    <tr>\n",
       "      <th>2</th>\n",
       "      <td>2024-09-07</td>\n",
       "      <td>RNGRA3</td>\n",
       "      <td>9</td>\n",
       "      <td>9.8</td>\n",
       "      <td>9.7</td>\n",
       "      <td>10.70</td>\n",
       "      <td>0.0000</td>\n",
       "      <td>19</td>\n",
       "      <td>317.050000</td>\n",
       "      <td>8284.7</td>\n",
       "      <td>350.0</td>\n",
       "      <td>2.1000</td>\n",
       "      <td>RNGR</td>\n",
       "    </tr>\n",
       "    <tr>\n",
       "      <th>3</th>\n",
       "      <td>2024-09-07</td>\n",
       "      <td>RNGRA4</td>\n",
       "      <td>7</td>\n",
       "      <td>8.9</td>\n",
       "      <td>7.7</td>\n",
       "      <td>6.90</td>\n",
       "      <td>0.0000</td>\n",
       "      <td>17</td>\n",
       "      <td>317.050000</td>\n",
       "      <td>8284.7</td>\n",
       "      <td>350.0</td>\n",
       "      <td>2.1000</td>\n",
       "      <td>RNGR</td>\n",
       "    </tr>\n",
       "    <tr>\n",
       "      <th>4</th>\n",
       "      <td>2024-09-07</td>\n",
       "      <td>RNGRA5</td>\n",
       "      <td>7</td>\n",
       "      <td>10.2</td>\n",
       "      <td>6.8</td>\n",
       "      <td>9.50</td>\n",
       "      <td>0.0000</td>\n",
       "      <td>17</td>\n",
       "      <td>317.050000</td>\n",
       "      <td>8284.7</td>\n",
       "      <td>350.0</td>\n",
       "      <td>2.1000</td>\n",
       "      <td>RNGR</td>\n",
       "    </tr>\n",
       "    <tr>\n",
       "      <th>...</th>\n",
       "      <td>...</td>\n",
       "      <td>...</td>\n",
       "      <td>...</td>\n",
       "      <td>...</td>\n",
       "      <td>...</td>\n",
       "      <td>...</td>\n",
       "      <td>...</td>\n",
       "      <td>...</td>\n",
       "      <td>...</td>\n",
       "      <td>...</td>\n",
       "      <td>...</td>\n",
       "      <td>...</td>\n",
       "      <td>...</td>\n",
       "    </tr>\n",
       "    <tr>\n",
       "      <th>355</th>\n",
       "      <td>2024-10-03</td>\n",
       "      <td>RWGRC1</td>\n",
       "      <td>16</td>\n",
       "      <td>23.6</td>\n",
       "      <td>21.7</td>\n",
       "      <td>8.55</td>\n",
       "      <td>0.3520</td>\n",
       "      <td>39</td>\n",
       "      <td>809.244245</td>\n",
       "      <td>28775.3</td>\n",
       "      <td>1084.0</td>\n",
       "      <td>18.4280</td>\n",
       "      <td>RWGR</td>\n",
       "    </tr>\n",
       "    <tr>\n",
       "      <th>356</th>\n",
       "      <td>2024-10-03</td>\n",
       "      <td>RWGRC2</td>\n",
       "      <td>12</td>\n",
       "      <td>28.6</td>\n",
       "      <td>27.4</td>\n",
       "      <td>13.75</td>\n",
       "      <td>0.3100</td>\n",
       "      <td>44</td>\n",
       "      <td>809.244245</td>\n",
       "      <td>28775.3</td>\n",
       "      <td>877.5</td>\n",
       "      <td>14.9175</td>\n",
       "      <td>RWGR</td>\n",
       "    </tr>\n",
       "    <tr>\n",
       "      <th>357</th>\n",
       "      <td>2024-10-03</td>\n",
       "      <td>RWGRC3</td>\n",
       "      <td>16</td>\n",
       "      <td>23.6</td>\n",
       "      <td>23.8</td>\n",
       "      <td>8.55</td>\n",
       "      <td>0.3350</td>\n",
       "      <td>39</td>\n",
       "      <td>809.244245</td>\n",
       "      <td>28775.3</td>\n",
       "      <td>1045.5</td>\n",
       "      <td>17.7735</td>\n",
       "      <td>RWGR</td>\n",
       "    </tr>\n",
       "    <tr>\n",
       "      <th>358</th>\n",
       "      <td>2024-10-03</td>\n",
       "      <td>RWGRC4</td>\n",
       "      <td>11</td>\n",
       "      <td>27.6</td>\n",
       "      <td>26.8</td>\n",
       "      <td>7.15</td>\n",
       "      <td>0.2975</td>\n",
       "      <td>45</td>\n",
       "      <td>809.244245</td>\n",
       "      <td>28775.3</td>\n",
       "      <td>1058.0</td>\n",
       "      <td>17.9860</td>\n",
       "      <td>RWGR</td>\n",
       "    </tr>\n",
       "    <tr>\n",
       "      <th>359</th>\n",
       "      <td>2024-10-03</td>\n",
       "      <td>RWGRC5</td>\n",
       "      <td>16</td>\n",
       "      <td>27.8</td>\n",
       "      <td>25.6</td>\n",
       "      <td>15.15</td>\n",
       "      <td>0.3350</td>\n",
       "      <td>19</td>\n",
       "      <td>809.244245</td>\n",
       "      <td>28775.3</td>\n",
       "      <td>968.0</td>\n",
       "      <td>16.4560</td>\n",
       "      <td>RWGR</td>\n",
       "    </tr>\n",
       "  </tbody>\n",
       "</table>\n",
       "<p>360 rows × 13 columns</p>\n",
       "</div>"
      ],
      "text/plain": [
       "          Date  Sample  No leaves  Diameter  Perpendicular  Height  \\\n",
       "0   2024-09-07  RNGRA1         12      12.9           11.1   11.80   \n",
       "1   2024-09-07  RNGRA2         10      11.6           10.9    9.30   \n",
       "2   2024-09-07  RNGRA3          9       9.8            9.7   10.70   \n",
       "3   2024-09-07  RNGRA4          7       8.9            7.7    6.90   \n",
       "4   2024-09-07  RNGRA5          7      10.2            6.8    9.50   \n",
       "..         ...     ...        ...       ...            ...     ...   \n",
       "355 2024-10-03  RWGRC1         16      23.6           21.7    8.55   \n",
       "356 2024-10-03  RWGRC2         12      28.6           27.4   13.75   \n",
       "357 2024-10-03  RWGRC3         16      23.6           23.8    8.55   \n",
       "358 2024-10-03  RWGRC4         11      27.6           26.8    7.15   \n",
       "359 2024-10-03  RWGRC5         16      27.8           25.6   15.15   \n",
       "\n",
       "     Average Leaf Thickness  BBCH  GDD Cumul.  PAR Cumul.  \\\n",
       "0                    0.0000    19  317.050000      8284.7   \n",
       "1                    0.0000    19  317.050000      8284.7   \n",
       "2                    0.0000    19  317.050000      8284.7   \n",
       "3                    0.0000    17  317.050000      8284.7   \n",
       "4                    0.0000    17  317.050000      8284.7   \n",
       "..                      ...   ...         ...         ...   \n",
       "355                  0.3520    39  809.244245     28775.3   \n",
       "356                  0.3100    44  809.244245     28775.3   \n",
       "357                  0.3350    39  809.244245     28775.3   \n",
       "358                  0.2975    45  809.244245     28775.3   \n",
       "359                  0.3350    19  809.244245     28775.3   \n",
       "\n",
       "     Cumul. Irrigation (mL)  Cumul. Nitrates (milimoles) Family Sample  \n",
       "0                     350.0                       2.1000          RNGR  \n",
       "1                     350.0                       2.1000          RNGR  \n",
       "2                     350.0                       2.1000          RNGR  \n",
       "3                     350.0                       2.1000          RNGR  \n",
       "4                     350.0                       2.1000          RNGR  \n",
       "..                      ...                          ...           ...  \n",
       "355                  1084.0                      18.4280          RWGR  \n",
       "356                   877.5                      14.9175          RWGR  \n",
       "357                  1045.5                      17.7735          RWGR  \n",
       "358                  1058.0                      17.9860          RWGR  \n",
       "359                   968.0                      16.4560          RWGR  \n",
       "\n",
       "[360 rows x 13 columns]"
      ]
     },
     "execution_count": 50,
     "metadata": {},
     "output_type": "execute_result"
    }
   ],
   "source": [
    "merged_df"
   ]
  },
  {
   "cell_type": "code",
   "execution_count": 51,
   "metadata": {},
   "outputs": [
    {
     "data": {
      "text/html": [
       "<div>\n",
       "<style scoped>\n",
       "    .dataframe tbody tr th:only-of-type {\n",
       "        vertical-align: middle;\n",
       "    }\n",
       "\n",
       "    .dataframe tbody tr th {\n",
       "        vertical-align: top;\n",
       "    }\n",
       "\n",
       "    .dataframe thead th {\n",
       "        text-align: right;\n",
       "    }\n",
       "</style>\n",
       "<table border=\"1\" class=\"dataframe\">\n",
       "  <thead>\n",
       "    <tr style=\"text-align: right;\">\n",
       "      <th></th>\n",
       "      <th>Date</th>\n",
       "      <th>Sample</th>\n",
       "      <th>No leaves</th>\n",
       "      <th>Diameter</th>\n",
       "      <th>Perpendicular</th>\n",
       "      <th>Height</th>\n",
       "      <th>Average Leaf Thickness</th>\n",
       "      <th>BBCH</th>\n",
       "      <th>GDD Cumul.</th>\n",
       "      <th>PAR Cumul.</th>\n",
       "      <th>Cumul. Irrigation (mL)</th>\n",
       "      <th>Cumul. Nitrates (milimoles)</th>\n",
       "      <th>Family Sample</th>\n",
       "    </tr>\n",
       "  </thead>\n",
       "  <tbody>\n",
       "    <tr>\n",
       "      <th>0</th>\n",
       "      <td>2024-09-07</td>\n",
       "      <td>RNGRA1</td>\n",
       "      <td>12</td>\n",
       "      <td>12.9</td>\n",
       "      <td>11.1</td>\n",
       "      <td>11.80</td>\n",
       "      <td>0.000000</td>\n",
       "      <td>19</td>\n",
       "      <td>317.050000</td>\n",
       "      <td>8284.7</td>\n",
       "      <td>350.00</td>\n",
       "      <td>2.1000</td>\n",
       "      <td>RNGR</td>\n",
       "    </tr>\n",
       "    <tr>\n",
       "      <th>45</th>\n",
       "      <td>2024-09-11</td>\n",
       "      <td>RNGRA1</td>\n",
       "      <td>15</td>\n",
       "      <td>14.2</td>\n",
       "      <td>13.2</td>\n",
       "      <td>12.80</td>\n",
       "      <td>0.000000</td>\n",
       "      <td>19</td>\n",
       "      <td>391.750000</td>\n",
       "      <td>16804.0</td>\n",
       "      <td>466.00</td>\n",
       "      <td>2.7960</td>\n",
       "      <td>RNGR</td>\n",
       "    </tr>\n",
       "    <tr>\n",
       "      <th>90</th>\n",
       "      <td>2024-09-14</td>\n",
       "      <td>RNGRA1</td>\n",
       "      <td>13</td>\n",
       "      <td>17.5</td>\n",
       "      <td>15.6</td>\n",
       "      <td>11.80</td>\n",
       "      <td>0.000000</td>\n",
       "      <td>19</td>\n",
       "      <td>457.100000</td>\n",
       "      <td>22970.1</td>\n",
       "      <td>540.25</td>\n",
       "      <td>3.2415</td>\n",
       "      <td>RNGR</td>\n",
       "    </tr>\n",
       "    <tr>\n",
       "      <th>135</th>\n",
       "      <td>2024-09-17</td>\n",
       "      <td>RNGRA1</td>\n",
       "      <td>16</td>\n",
       "      <td>20.3</td>\n",
       "      <td>17.3</td>\n",
       "      <td>13.20</td>\n",
       "      <td>0.000000</td>\n",
       "      <td>37</td>\n",
       "      <td>529.378430</td>\n",
       "      <td>26761.5</td>\n",
       "      <td>676.75</td>\n",
       "      <td>4.0605</td>\n",
       "      <td>RNGR</td>\n",
       "    </tr>\n",
       "    <tr>\n",
       "      <th>180</th>\n",
       "      <td>2024-09-20</td>\n",
       "      <td>RNGRA1</td>\n",
       "      <td>11</td>\n",
       "      <td>23.1</td>\n",
       "      <td>22.8</td>\n",
       "      <td>9.35</td>\n",
       "      <td>0.356667</td>\n",
       "      <td>37</td>\n",
       "      <td>589.001102</td>\n",
       "      <td>28775.3</td>\n",
       "      <td>732.75</td>\n",
       "      <td>4.3965</td>\n",
       "      <td>RNGR</td>\n",
       "    </tr>\n",
       "    <tr>\n",
       "      <th>225</th>\n",
       "      <td>2024-09-24</td>\n",
       "      <td>RNGRA1</td>\n",
       "      <td>13</td>\n",
       "      <td>29.5</td>\n",
       "      <td>26.1</td>\n",
       "      <td>10.65</td>\n",
       "      <td>0.306667</td>\n",
       "      <td>39</td>\n",
       "      <td>660.469683</td>\n",
       "      <td>28775.3</td>\n",
       "      <td>863.75</td>\n",
       "      <td>5.1825</td>\n",
       "      <td>RNGR</td>\n",
       "    </tr>\n",
       "    <tr>\n",
       "      <th>270</th>\n",
       "      <td>2024-09-29</td>\n",
       "      <td>RNGRA1</td>\n",
       "      <td>10</td>\n",
       "      <td>25.2</td>\n",
       "      <td>29.1</td>\n",
       "      <td>14.35</td>\n",
       "      <td>0.000000</td>\n",
       "      <td>39</td>\n",
       "      <td>743.211838</td>\n",
       "      <td>28775.3</td>\n",
       "      <td>1000.00</td>\n",
       "      <td>6.0000</td>\n",
       "      <td>RNGR</td>\n",
       "    </tr>\n",
       "    <tr>\n",
       "      <th>315</th>\n",
       "      <td>2024-10-03</td>\n",
       "      <td>RNGRA1</td>\n",
       "      <td>15</td>\n",
       "      <td>29.1</td>\n",
       "      <td>20.6</td>\n",
       "      <td>11.25</td>\n",
       "      <td>0.265000</td>\n",
       "      <td>44</td>\n",
       "      <td>809.244245</td>\n",
       "      <td>28775.3</td>\n",
       "      <td>1172.25</td>\n",
       "      <td>7.0335</td>\n",
       "      <td>RNGR</td>\n",
       "    </tr>\n",
       "  </tbody>\n",
       "</table>\n",
       "</div>"
      ],
      "text/plain": [
       "          Date  Sample  No leaves  Diameter  Perpendicular  Height  \\\n",
       "0   2024-09-07  RNGRA1         12      12.9           11.1   11.80   \n",
       "45  2024-09-11  RNGRA1         15      14.2           13.2   12.80   \n",
       "90  2024-09-14  RNGRA1         13      17.5           15.6   11.80   \n",
       "135 2024-09-17  RNGRA1         16      20.3           17.3   13.20   \n",
       "180 2024-09-20  RNGRA1         11      23.1           22.8    9.35   \n",
       "225 2024-09-24  RNGRA1         13      29.5           26.1   10.65   \n",
       "270 2024-09-29  RNGRA1         10      25.2           29.1   14.35   \n",
       "315 2024-10-03  RNGRA1         15      29.1           20.6   11.25   \n",
       "\n",
       "     Average Leaf Thickness  BBCH  GDD Cumul.  PAR Cumul.  \\\n",
       "0                  0.000000    19  317.050000      8284.7   \n",
       "45                 0.000000    19  391.750000     16804.0   \n",
       "90                 0.000000    19  457.100000     22970.1   \n",
       "135                0.000000    37  529.378430     26761.5   \n",
       "180                0.356667    37  589.001102     28775.3   \n",
       "225                0.306667    39  660.469683     28775.3   \n",
       "270                0.000000    39  743.211838     28775.3   \n",
       "315                0.265000    44  809.244245     28775.3   \n",
       "\n",
       "     Cumul. Irrigation (mL)  Cumul. Nitrates (milimoles) Family Sample  \n",
       "0                    350.00                       2.1000          RNGR  \n",
       "45                   466.00                       2.7960          RNGR  \n",
       "90                   540.25                       3.2415          RNGR  \n",
       "135                  676.75                       4.0605          RNGR  \n",
       "180                  732.75                       4.3965          RNGR  \n",
       "225                  863.75                       5.1825          RNGR  \n",
       "270                 1000.00                       6.0000          RNGR  \n",
       "315                 1172.25                       7.0335          RNGR  "
      ]
     },
     "execution_count": 51,
     "metadata": {},
     "output_type": "execute_result"
    }
   ],
   "source": [
    "merged_df[merged_df['Sample'] == 'RNGRA1']"
   ]
  },
  {
   "cell_type": "code",
   "execution_count": 52,
   "metadata": {},
   "outputs": [
    {
     "data": {
      "text/html": [
       "<div>\n",
       "<style scoped>\n",
       "    .dataframe tbody tr th:only-of-type {\n",
       "        vertical-align: middle;\n",
       "    }\n",
       "\n",
       "    .dataframe tbody tr th {\n",
       "        vertical-align: top;\n",
       "    }\n",
       "\n",
       "    .dataframe thead th {\n",
       "        text-align: right;\n",
       "    }\n",
       "</style>\n",
       "<table border=\"1\" class=\"dataframe\">\n",
       "  <thead>\n",
       "    <tr style=\"text-align: right;\">\n",
       "      <th></th>\n",
       "      <th>Date</th>\n",
       "      <th>No leaves</th>\n",
       "      <th>Diameter</th>\n",
       "      <th>Perpendicular</th>\n",
       "      <th>Height</th>\n",
       "      <th>Average Leaf Thickness</th>\n",
       "      <th>BBCH</th>\n",
       "      <th>GDD Cumul.</th>\n",
       "      <th>PAR Cumul.</th>\n",
       "      <th>Cumul. Irrigation (mL)</th>\n",
       "      <th>Cumul. Nitrates (milimoles)</th>\n",
       "    </tr>\n",
       "  </thead>\n",
       "  <tbody>\n",
       "    <tr>\n",
       "      <th>count</th>\n",
       "      <td>360</td>\n",
       "      <td>360.000000</td>\n",
       "      <td>360.000000</td>\n",
       "      <td>360.000000</td>\n",
       "      <td>360.000000</td>\n",
       "      <td>360.000000</td>\n",
       "      <td>360.000000</td>\n",
       "      <td>360.000000</td>\n",
       "      <td>360.000000</td>\n",
       "      <td>360.000000</td>\n",
       "      <td>360.000000</td>\n",
       "    </tr>\n",
       "    <tr>\n",
       "      <th>mean</th>\n",
       "      <td>2024-09-19 08:59:59.999999744</td>\n",
       "      <td>11.258333</td>\n",
       "      <td>20.455833</td>\n",
       "      <td>18.001111</td>\n",
       "      <td>10.554583</td>\n",
       "      <td>0.156412</td>\n",
       "      <td>22.022222</td>\n",
       "      <td>562.150662</td>\n",
       "      <td>23740.187500</td>\n",
       "      <td>680.458333</td>\n",
       "      <td>8.206746</td>\n",
       "    </tr>\n",
       "    <tr>\n",
       "      <th>min</th>\n",
       "      <td>2024-09-07 00:00:00</td>\n",
       "      <td>3.000000</td>\n",
       "      <td>6.200000</td>\n",
       "      <td>4.300000</td>\n",
       "      <td>5.050000</td>\n",
       "      <td>0.000000</td>\n",
       "      <td>13.000000</td>\n",
       "      <td>317.050000</td>\n",
       "      <td>8284.700000</td>\n",
       "      <td>350.000000</td>\n",
       "      <td>2.100000</td>\n",
       "    </tr>\n",
       "    <tr>\n",
       "      <th>25%</th>\n",
       "      <td>2024-09-13 06:00:00</td>\n",
       "      <td>9.000000</td>\n",
       "      <td>16.175000</td>\n",
       "      <td>13.725000</td>\n",
       "      <td>9.337500</td>\n",
       "      <td>0.000000</td>\n",
       "      <td>19.000000</td>\n",
       "      <td>440.762500</td>\n",
       "      <td>21428.575000</td>\n",
       "      <td>477.812500</td>\n",
       "      <td>4.550000</td>\n",
       "    </tr>\n",
       "    <tr>\n",
       "      <th>50%</th>\n",
       "      <td>2024-09-18 12:00:00</td>\n",
       "      <td>11.000000</td>\n",
       "      <td>20.700000</td>\n",
       "      <td>18.200000</td>\n",
       "      <td>10.550000</td>\n",
       "      <td>0.000000</td>\n",
       "      <td>19.000000</td>\n",
       "      <td>559.189766</td>\n",
       "      <td>27768.400000</td>\n",
       "      <td>672.375000</td>\n",
       "      <td>7.229625</td>\n",
       "    </tr>\n",
       "    <tr>\n",
       "      <th>75%</th>\n",
       "      <td>2024-09-25 06:00:00</td>\n",
       "      <td>14.000000</td>\n",
       "      <td>24.100000</td>\n",
       "      <td>21.800000</td>\n",
       "      <td>12.050000</td>\n",
       "      <td>0.310000</td>\n",
       "      <td>19.000000</td>\n",
       "      <td>681.155222</td>\n",
       "      <td>28775.300000</td>\n",
       "      <td>857.000000</td>\n",
       "      <td>11.528063</td>\n",
       "    </tr>\n",
       "    <tr>\n",
       "      <th>max</th>\n",
       "      <td>2024-10-03 00:00:00</td>\n",
       "      <td>19.000000</td>\n",
       "      <td>34.500000</td>\n",
       "      <td>33.400000</td>\n",
       "      <td>15.800000</td>\n",
       "      <td>0.453333</td>\n",
       "      <td>46.000000</td>\n",
       "      <td>809.244245</td>\n",
       "      <td>28775.300000</td>\n",
       "      <td>1331.000000</td>\n",
       "      <td>19.953750</td>\n",
       "    </tr>\n",
       "    <tr>\n",
       "      <th>std</th>\n",
       "      <td>NaN</td>\n",
       "      <td>3.161826</td>\n",
       "      <td>5.698440</td>\n",
       "      <td>5.742700</td>\n",
       "      <td>1.992213</td>\n",
       "      <td>0.163414</td>\n",
       "      <td>8.086204</td>\n",
       "      <td>160.475317</td>\n",
       "      <td>7064.192611</td>\n",
       "      <td>229.556517</td>\n",
       "      <td>4.332061</td>\n",
       "    </tr>\n",
       "  </tbody>\n",
       "</table>\n",
       "</div>"
      ],
      "text/plain": [
       "                                Date   No leaves    Diameter  Perpendicular  \\\n",
       "count                            360  360.000000  360.000000     360.000000   \n",
       "mean   2024-09-19 08:59:59.999999744   11.258333   20.455833      18.001111   \n",
       "min              2024-09-07 00:00:00    3.000000    6.200000       4.300000   \n",
       "25%              2024-09-13 06:00:00    9.000000   16.175000      13.725000   \n",
       "50%              2024-09-18 12:00:00   11.000000   20.700000      18.200000   \n",
       "75%              2024-09-25 06:00:00   14.000000   24.100000      21.800000   \n",
       "max              2024-10-03 00:00:00   19.000000   34.500000      33.400000   \n",
       "std                              NaN    3.161826    5.698440       5.742700   \n",
       "\n",
       "           Height  Average Leaf Thickness        BBCH  GDD Cumul.  \\\n",
       "count  360.000000              360.000000  360.000000  360.000000   \n",
       "mean    10.554583                0.156412   22.022222  562.150662   \n",
       "min      5.050000                0.000000   13.000000  317.050000   \n",
       "25%      9.337500                0.000000   19.000000  440.762500   \n",
       "50%     10.550000                0.000000   19.000000  559.189766   \n",
       "75%     12.050000                0.310000   19.000000  681.155222   \n",
       "max     15.800000                0.453333   46.000000  809.244245   \n",
       "std      1.992213                0.163414    8.086204  160.475317   \n",
       "\n",
       "         PAR Cumul.  Cumul. Irrigation (mL)  Cumul. Nitrates (milimoles)  \n",
       "count    360.000000              360.000000                   360.000000  \n",
       "mean   23740.187500              680.458333                     8.206746  \n",
       "min     8284.700000              350.000000                     2.100000  \n",
       "25%    21428.575000              477.812500                     4.550000  \n",
       "50%    27768.400000              672.375000                     7.229625  \n",
       "75%    28775.300000              857.000000                    11.528063  \n",
       "max    28775.300000             1331.000000                    19.953750  \n",
       "std     7064.192611              229.556517                     4.332061  "
      ]
     },
     "execution_count": 52,
     "metadata": {},
     "output_type": "execute_result"
    }
   ],
   "source": [
    "merged_df.describe()"
   ]
  },
  {
   "cell_type": "code",
   "execution_count": 53,
   "metadata": {},
   "outputs": [
    {
     "data": {
      "image/png": "[encoded data removed]",
      "text/plain": [
       "<Figure size 1000x600 with 1 Axes>"
      ]
     },
     "metadata": {},
     "output_type": "display_data"
    }
   ],
   "source": [
    "expl_variance = explained_variance_visualizer(merged_df)"
   ]
  },
  {
   "cell_type": "markdown",
   "metadata": {},
   "source": [
    "#### <b> PCA - 2D </b>"
   ]
  },
  {
   "cell_type": "code",
   "execution_count": 54,
   "metadata": {},
   "outputs": [
    {
     "data": {
      "image/png": "[encoded data removed]",
      "text/plain": [
       "<Figure size 1000x600 with 1 Axes>"
      ]
     },
     "metadata": {},
     "output_type": "display_data"
    }
   ],
   "source": [
    "pc_2d, loadings = pca(merged_df, n_components=2)"
   ]
  },
  {
   "cell_type": "markdown",
   "metadata": {},
   "source": [
    "#### <b> PCA 3d </b>"
   ]
  },
  {
   "cell_type": "code",
   "execution_count": 55,
   "metadata": {},
   "outputs": [
    {
     "data": {
      "image/png": "[encoded data removed]",
      "text/plain": [
       "<Figure size 1000x700 with 1 Axes>"
      ]
     },
     "metadata": {},
     "output_type": "display_data"
    }
   ],
   "source": [
    "pc_3d, loadings_3d = pca(merged_df, n_components=3)"
   ]
  },
  {
   "cell_type": "code",
   "execution_count": 56,
   "metadata": {},
   "outputs": [
    {
     "data": {
      "application/vnd.plotly.v1+json": {
       "config": {
        "plotlyServerURL": "https://plot.ly"
       },
       "data": [
        {
         "marker": {
          "color": [
           [
            0.12156862745098039,
            0.4666666666666667,
            0.7058823529411765
           ],
           [
            0.12156862745098039,
            0.4666666666666667,
            0.7058823529411765
           ],
           [
            0.12156862745098039,
            0.4666666666666667,
            0.7058823529411765
           ],
           [
            0.12156862745098039,
            0.4666666666666667,
            0.7058823529411765
           ],
           [
            0.12156862745098039,
            0.4666666666666667,
            0.7058823529411765
           ],
           [
            0.12156862745098039,
            0.4666666666666667,
            0.7058823529411765
           ],
           [
            0.12156862745098039,
            0.4666666666666667,
            0.7058823529411765
           ],
           [
            0.12156862745098039,
            0.4666666666666667,
            0.7058823529411765
           ],
           [
            0.12156862745098039,
            0.4666666666666667,
            0.7058823529411765
           ],
           [
            0.12156862745098039,
            0.4666666666666667,
            0.7058823529411765
           ],
           [
            0.12156862745098039,
            0.4666666666666667,
            0.7058823529411765
           ],
           [
            0.12156862745098039,
            0.4666666666666667,
            0.7058823529411765
           ],
           [
            0.12156862745098039,
            0.4666666666666667,
            0.7058823529411765
           ],
           [
            0.12156862745098039,
            0.4666666666666667,
            0.7058823529411765
           ],
           [
            0.12156862745098039,
            0.4666666666666667,
            0.7058823529411765
           ],
           [
            0.12156862745098039,
            0.4666666666666667,
            0.7058823529411765
           ],
           [
            0.12156862745098039,
            0.4666666666666667,
            0.7058823529411765
           ],
           [
            0.12156862745098039,
            0.4666666666666667,
            0.7058823529411765
           ],
           [
            0.12156862745098039,
            0.4666666666666667,
            0.7058823529411765
           ],
           [
            0.12156862745098039,
            0.4666666666666667,
            0.7058823529411765
           ],
           [
            0.12156862745098039,
            0.4666666666666667,
            0.7058823529411765
           ],
           [
            0.12156862745098039,
            0.4666666666666667,
            0.7058823529411765
           ],
           [
            0.12156862745098039,
            0.4666666666666667,
            0.7058823529411765
           ],
           [
            0.12156862745098039,
            0.4666666666666667,
            0.7058823529411765
           ],
           [
            0.12156862745098039,
            0.4666666666666667,
            0.7058823529411765
           ],
           [
            0.12156862745098039,
            0.4666666666666667,
            0.7058823529411765
           ],
           [
            0.12156862745098039,
            0.4666666666666667,
            0.7058823529411765
           ],
           [
            0.12156862745098039,
            0.4666666666666667,
            0.7058823529411765
           ],
           [
            0.12156862745098039,
            0.4666666666666667,
            0.7058823529411765
           ],
           [
            0.12156862745098039,
            0.4666666666666667,
            0.7058823529411765
           ],
           [
            0.12156862745098039,
            0.4666666666666667,
            0.7058823529411765
           ],
           [
            0.12156862745098039,
            0.4666666666666667,
            0.7058823529411765
           ],
           [
            0.12156862745098039,
            0.4666666666666667,
            0.7058823529411765
           ],
           [
            0.12156862745098039,
            0.4666666666666667,
            0.7058823529411765
           ],
           [
            0.12156862745098039,
            0.4666666666666667,
            0.7058823529411765
           ],
           [
            0.12156862745098039,
            0.4666666666666667,
            0.7058823529411765
           ],
           [
            0.12156862745098039,
            0.4666666666666667,
            0.7058823529411765
           ],
           [
            0.12156862745098039,
            0.4666666666666667,
            0.7058823529411765
           ],
           [
            0.12156862745098039,
            0.4666666666666667,
            0.7058823529411765
           ],
           [
            0.12156862745098039,
            0.4666666666666667,
            0.7058823529411765
           ],
           [
            0.12156862745098039,
            0.4666666666666667,
            0.7058823529411765
           ],
           [
            0.12156862745098039,
            0.4666666666666667,
            0.7058823529411765
           ],
           [
            0.12156862745098039,
            0.4666666666666667,
            0.7058823529411765
           ],
           [
            0.12156862745098039,
            0.4666666666666667,
            0.7058823529411765
           ],
           [
            0.12156862745098039,
            0.4666666666666667,
            0.7058823529411765
           ],
           [
            0.12156862745098039,
            0.4666666666666667,
            0.7058823529411765
           ],
           [
            0.12156862745098039,
            0.4666666666666667,
            0.7058823529411765
           ],
           [
            0.12156862745098039,
            0.4666666666666667,
            0.7058823529411765
           ],
           [
            0.12156862745098039,
            0.4666666666666667,
            0.7058823529411765
           ],
           [
            0.12156862745098039,
            0.4666666666666667,
            0.7058823529411765
           ],
           [
            0.12156862745098039,
            0.4666666666666667,
            0.7058823529411765
           ],
           [
            0.12156862745098039,
            0.4666666666666667,
            0.7058823529411765
           ],
           [
            0.12156862745098039,
            0.4666666666666667,
            0.7058823529411765
           ],
           [
            0.12156862745098039,
            0.4666666666666667,
            0.7058823529411765
           ],
           [
            0.12156862745098039,
            0.4666666666666667,
            0.7058823529411765
           ],
           [
            0.12156862745098039,
            0.4666666666666667,
            0.7058823529411765
           ],
           [
            0.12156862745098039,
            0.4666666666666667,
            0.7058823529411765
           ],
           [
            0.12156862745098039,
            0.4666666666666667,
            0.7058823529411765
           ],
           [
            0.12156862745098039,
            0.4666666666666667,
            0.7058823529411765
           ],
           [
            0.12156862745098039,
            0.4666666666666667,
            0.7058823529411765
           ],
           [
            0.12156862745098039,
            0.4666666666666667,
            0.7058823529411765
           ],
           [
            0.12156862745098039,
            0.4666666666666667,
            0.7058823529411765
           ],
           [
            0.12156862745098039,
            0.4666666666666667,
            0.7058823529411765
           ],
           [
            0.12156862745098039,
            0.4666666666666667,
            0.7058823529411765
           ],
           [
            0.12156862745098039,
            0.4666666666666667,
            0.7058823529411765
           ],
           [
            0.12156862745098039,
            0.4666666666666667,
            0.7058823529411765
           ],
           [
            0.12156862745098039,
            0.4666666666666667,
            0.7058823529411765
           ],
           [
            0.12156862745098039,
            0.4666666666666667,
            0.7058823529411765
           ],
           [
            0.12156862745098039,
            0.4666666666666667,
            0.7058823529411765
           ],
           [
            0.12156862745098039,
            0.4666666666666667,
            0.7058823529411765
           ],
           [
            0.12156862745098039,
            0.4666666666666667,
            0.7058823529411765
           ],
           [
            0.12156862745098039,
            0.4666666666666667,
            0.7058823529411765
           ],
           [
            0.12156862745098039,
            0.4666666666666667,
            0.7058823529411765
           ],
           [
            0.12156862745098039,
            0.4666666666666667,
            0.7058823529411765
           ],
           [
            0.12156862745098039,
            0.4666666666666667,
            0.7058823529411765
           ],
           [
            0.12156862745098039,
            0.4666666666666667,
            0.7058823529411765
           ],
           [
            0.12156862745098039,
            0.4666666666666667,
            0.7058823529411765
           ],
           [
            0.12156862745098039,
            0.4666666666666667,
            0.7058823529411765
           ],
           [
            0.12156862745098039,
            0.4666666666666667,
            0.7058823529411765
           ],
           [
            0.12156862745098039,
            0.4666666666666667,
            0.7058823529411765
           ],
           [
            0.12156862745098039,
            0.4666666666666667,
            0.7058823529411765
           ],
           [
            0.12156862745098039,
            0.4666666666666667,
            0.7058823529411765
           ],
           [
            0.12156862745098039,
            0.4666666666666667,
            0.7058823529411765
           ],
           [
            0.12156862745098039,
            0.4666666666666667,
            0.7058823529411765
           ],
           [
            0.12156862745098039,
            0.4666666666666667,
            0.7058823529411765
           ],
           [
            0.12156862745098039,
            0.4666666666666667,
            0.7058823529411765
           ],
           [
            0.12156862745098039,
            0.4666666666666667,
            0.7058823529411765
           ],
           [
            0.12156862745098039,
            0.4666666666666667,
            0.7058823529411765
           ],
           [
            0.12156862745098039,
            0.4666666666666667,
            0.7058823529411765
           ],
           [
            0.12156862745098039,
            0.4666666666666667,
            0.7058823529411765
           ],
           [
            0.12156862745098039,
            0.4666666666666667,
            0.7058823529411765
           ],
           [
            0.12156862745098039,
            0.4666666666666667,
            0.7058823529411765
           ],
           [
            0.12156862745098039,
            0.4666666666666667,
            0.7058823529411765
           ],
           [
            0.12156862745098039,
            0.4666666666666667,
            0.7058823529411765
           ],
           [
            0.12156862745098039,
            0.4666666666666667,
            0.7058823529411765
           ],
           [
            0.12156862745098039,
            0.4666666666666667,
            0.7058823529411765
           ],
           [
            0.12156862745098039,
            0.4666666666666667,
            0.7058823529411765
           ],
           [
            0.12156862745098039,
            0.4666666666666667,
            0.7058823529411765
           ],
           [
            0.12156862745098039,
            0.4666666666666667,
            0.7058823529411765
           ],
           [
            0.12156862745098039,
            0.4666666666666667,
            0.7058823529411765
           ],
           [
            0.12156862745098039,
            0.4666666666666667,
            0.7058823529411765
           ],
           [
            0.12156862745098039,
            0.4666666666666667,
            0.7058823529411765
           ],
           [
            0.12156862745098039,
            0.4666666666666667,
            0.7058823529411765
           ],
           [
            0.12156862745098039,
            0.4666666666666667,
            0.7058823529411765
           ],
           [
            0.12156862745098039,
            0.4666666666666667,
            0.7058823529411765
           ],
           [
            0.12156862745098039,
            0.4666666666666667,
            0.7058823529411765
           ],
           [
            0.12156862745098039,
            0.4666666666666667,
            0.7058823529411765
           ],
           [
            0.12156862745098039,
            0.4666666666666667,
            0.7058823529411765
           ],
           [
            0.12156862745098039,
            0.4666666666666667,
            0.7058823529411765
           ],
           [
            0.12156862745098039,
            0.4666666666666667,
            0.7058823529411765
           ],
           [
            0.12156862745098039,
            0.4666666666666667,
            0.7058823529411765
           ],
           [
            0.12156862745098039,
            0.4666666666666667,
            0.7058823529411765
           ],
           [
            0.12156862745098039,
            0.4666666666666667,
            0.7058823529411765
           ],
           [
            0.12156862745098039,
            0.4666666666666667,
            0.7058823529411765
           ],
           [
            0.12156862745098039,
            0.4666666666666667,
            0.7058823529411765
           ],
           [
            0.12156862745098039,
            0.4666666666666667,
            0.7058823529411765
           ],
           [
            0.12156862745098039,
            0.4666666666666667,
            0.7058823529411765
           ],
           [
            0.12156862745098039,
            0.4666666666666667,
            0.7058823529411765
           ],
           [
            0.12156862745098039,
            0.4666666666666667,
            0.7058823529411765
           ],
           [
            0.12156862745098039,
            0.4666666666666667,
            0.7058823529411765
           ]
          ],
          "opacity": 0.8,
          "size": 5
         },
         "mode": "markers",
         "name": "RNGR",
         "type": "scatter3d",
         "x": {
          "bdata": "ytUFfMcVDcCQz+XiYQUPwKuD6ufahhDAQDbyJz4lEsA1Th2uP/cRwCPMcW9xiQ7AGgVPbl5dC8A48c0YJGoNwIOgfcDFTg7AgHSn56s+C8A9VTrlgfMJwDGcWTLjagnAtD9+/temCcBbPiQaxSEJwPbMv/3rmAjAcY9WoE0FA8CzPtYaZPgBwBAtUY+JAQXAL9K+k/HeCsB4X7O5ZLUGwEi1DyzIVALAxX2d/YI4AMDPImuXUgcCwIr/s+WVwQHA4b02PATQ+b/sEiKrL7f7v3cSG6hPufy/1CdYciXb+7+jpm4KXTT9v7MJXjBKb/u/U/7l8LdB+L8v2QD0SkTyv3MILgGubve/P38vsPXsAMAt6OlNgxn8v7emwwK6hO6/u/0HO38U7r9DEAVYOZ7rvyKjsb8Fo+u/32c/jefp0r+fs7HiGADgv8/f1xEJE+q/Ktkl6+5q2b9Dpdsq52zSv9Eo6oio6OG/4uOGakRqxz9dbxOmNIHXvwXDta/hzt+/oIsMZWPj8L9Myq5hRubgv78a38LFo8Y/kG+tFDqN4z/l87isc0ztP7EYQAGKTrI/oIBRz3dd9T840yajcNftPxdV7n5Wldk/G9lZBPE78j/cdAVlSkD0P33uNqskXd8/P5qh6otM9z8iTDTjh4jlP/JpsReI1e4/GtTiI3Jnsb8n743pB77jP7GG69fHJvI/80YlpJgOAECNWxEqT779PzfDcS1VhPM/vqfCR8wuBkAbiMy4/FIEQKQS/f0en/o/+In1OtaIAUBsZs0aw28GQDGpaoKgDgRAiUlgP60rBUCIvfWv9qD0P9kpUf/lwf8/LuRhmM2M6z9x5463b2z5Py/fPDAeKwFANCe23OycDECif2hqiDwLQCDgkYLpj/0/nxTJy1qnB0BNXfSKpLMJQAVOpuFYGARAa+OnMJmFBUATukPicMEMQCzMtP9RkApAGcSphB8nAkBfUug+2MT7PwqUP8Z1bwZA+AajtQuMAEA5CtJJGRnHP5507dyofP0/Sy70ApXLEUDDLPX4zVULQPktQ1APYQJAurbdhp8lEEANCpvaRuMPQHxjhWqcQQlAj9QksqE+DUB+1oRzIUIQQIGyNXM+FxFAmxYeBnmmC0A+KK53k8wHQKBN9aUS8wtAc5OA9KrGBUA+m5Uy6UD8P3H/EoE87AZAvosv6k8HFUDMlPRADZoSQC1tW5Q4PwZA/k16LoMIFUC6x2qLyvITQHiYqk3v5gtAVKaJv4xXEUCcEubMeXUSQLwVJIPoLBRA",
          "dtype": "f8"
         },
         "y": {
          "bdata": "7Z6eU1en8z9EZ2a6Fiu2P+YfCruLOdQ/YjLYcFme9b9Lr329DLbgv7YV6BPMepa/0kdqgfDDzT8DLTaEgxTUP9vUFwqSj9w/vsCMCzNaAEDKSoaXKwn9P5skSHYKpPY/zrRtxA/J8D9lPdHAeoLtP5TY0hd8me4/IOBOP9jL+z/Z3kdXN8/lP6V8BkNL0/M/T7d44Xxn4b9LnOCYY4XjP/JD1M9ghek/V2pRBA2N9z/ncsNMygr1P1tZ0t6Pjus/lASJOyjNBUAqvG8UgBv+P56mlj7eP/s/RGdMcPK0+z/kont8KeL2Pzh7klwVsfs/3VCwfT/M7T9b17RKiPzWP97w8THpS/A/mwxBaZLg5j80T3BFyfjtP4OWtE+cDPg/9qF5pbMW7j8HNm9+jcv9P+xB1Hi5NvQ/lvztY9bC+D9nkYf1RLv/P6yjMCpXH/c/fdysh4Ga/D/LuZtj5cT+P7mHHcK1ofY/7ujS/BhcA0C+YJGCKcjwP79Kp6orKOk/1fPnRDxk4D9tTIwXG4j0P9SfXhK4vfs/JAGe+HNR8j9oQFC7XY8JQJW0UkX73fo/bi1uNLvbB0Af1h8AGHUHQE1sViqfv/Y/WIkOtvTqBECuSDaDQqUBQEWyzXXc7vk/eHGEztCD1b+RRNkKs8Xav59dvZwDJ6A/KPlgOCIG7r+HZmsruFbrvyokqiv/JeO/RuRMEPFs1b+osSh2c4n+P0g63bXvUdE/ynGWgcwH2T/dp57TrOv4P64Jn8rjlOG/p/WxqfLC3j9CIOiTYm/lP/FvuNYzA+k/noPxbv2R4z8uql4ICpLZvzobDbNIo+w/OCrb0CEMdb8sg+WjGCCyP0xpmveH468/am7jSvLh9z9+3tedjVH/P0nCFadoqeU/2LfK0+NIAEB8GZM1PIf0P/NFs2v8m94/zQTiPbiq1T/wDAcUBSwCQLmltQEGVPQ/aifHB6RM/D94O2eUWTfhv1nQ5fD9s8Y//4NA81chsz9N9E6SXtPuvz8P+5DFDO2/6gsvn8WH7D+BlVmxjaXiP3HxORK5weW/wpO+MPym+D8+tzjdr1bVP5DwL+1zp/W/W2ARPbhw4D8z2uhwMHi6P0HV5ppumNo/4fikLr4a7z8tNqbK8eeLP9CIfFb1Kd0/27cHDWIY3z9qVG0b9ivwv5tNEQ6EatC/vE/sZAsV+z8GU3XI0kwAQKxDGixoMdK/H+pMqzsOA0D1kojpl432P4L75e5D3eu/JsTCt4tH7T+9WV7BWGH7P+6vuLSqKvU/",
          "dtype": "f8"
         },
         "z": {
          "bdata": "X8++mxChwT9dYM/OLLLnP7WIqbv0b+E/eRXkUoPU9D+baQ5usZ3nPxH8Jg5mavA//0UTlbWz6z/bmK/S6/TrP4eRgEBjJuo/uN6hULrHvr8hf2gXorSzP3Afp2DEidQ/58nKQc3R5T8Q2KPXu3zkP1pURatbquY/oXuNOjJv4r9uDfF/MRy/v+gufJzoYuC/+zOgM0ri0j8BT6qd2lDRv3i18GvWnaI/PTFbEsgLwL9FtfizynvKvxLZrR16urU//Wt8mUQH8b8F/ckw3c/Av1hqYFM7otu/ovKWC5Ioz78kImxOjDe6v9K3zXXjzb6/PlRpedzk6L+QHd47y7HivydxvdxXF++/u0unco3M6r/QOoS4lafuv6mPZN9Z4Oy/PtjBOWUZ3b/EKt/MuJbtvylItlI7ltu/MtCGrjRX7b9CtgG9Xhbmv2NDPrMldeK/s2h6DoBR5r8GV3uUtonkvxjamHhueta/NqP2rQYoqD/GrgadsO30v7/uspAxNvC/gscfly/u8L+s/j7fKJv1vx52JLX+zu+/RQxqy1Li4L8dJ/+cMZCVPzZVKe/Neu+/Wxvc8NEsxD8PHFv+qmngP+CcyaP5IOe/Gm5qYY4K6D8fQpScOdrwP0kWK/JsDeK/4+2ITu3H5D9YolKMHNzwv3bkEz3RTPS/MnPwnsec6L+jC/yAtivkv0z7n+hrPuK/YGwmXSuU0L9jm8NBPdreP6LztCxBneK/2Z8CRDij8z+6MXjuEynwP6hdHNOnqaE/RR38IFCm9T/8vHpf8dL0P4bLswyMj/k/a6FcEUf8xz/ZaVfvJSHzv1PJkigZRQDA3AbPX+Hh+L+9HDrxjhP5v8i1UVb54fG/Tr256jWs7T9zov15wPPfP76AbHvc5Oy/oMmQZrfn5j89w9tZqzTyP9/4tGsQnuS/1l57wuZP9D9fOe0IsIztP74MnH+h5u4/pijXpjbR47+56Qm/oSD4v9aGNP5guf+//Z85cjJVAMAXw3WB0sr5vyVs88h/Zum/+ZjvJFma9j++jLWRos/iP6JtaYl9M+i/SIIMNByc0D87kImC/Yj8P1ZwRMXq4LI/bzvPW6hF8z+nByn71J/6P3AOyDOktPM/E1HHvdzv4T+2dNobJVb9vxD73p7Tc/6/T9z4HLU9AcAUq8pTB7T5v3L7ENPypvG/+/SZvqIw9D9t7Tsz7Q3FP3zIQsglhem/NfRxd2PL5T/QjYC3i9D2P5kSKZi6GH+/Xt4koLDV+j8Vs8gsIEj6P8+O4G4q1/k/",
          "dtype": "f8"
         }
        },
        {
         "marker": {
          "color": [
           [
            1,
            0.4980392156862745,
            0.054901960784313725
           ],
           [
            1,
            0.4980392156862745,
            0.054901960784313725
           ],
           [
            1,
            0.4980392156862745,
            0.054901960784313725
           ],
           [
            1,
            0.4980392156862745,
            0.054901960784313725
           ],
           [
            1,
            0.4980392156862745,
            0.054901960784313725
           ],
           [
            1,
            0.4980392156862745,
            0.054901960784313725
           ],
           [
            1,
            0.4980392156862745,
            0.054901960784313725
           ],
           [
            1,
            0.4980392156862745,
            0.054901960784313725
           ],
           [
            1,
            0.4980392156862745,
            0.054901960784313725
           ],
           [
            1,
            0.4980392156862745,
            0.054901960784313725
           ],
           [
            1,
            0.4980392156862745,
            0.054901960784313725
           ],
           [
            1,
            0.4980392156862745,
            0.054901960784313725
           ],
           [
            1,
            0.4980392156862745,
            0.054901960784313725
           ],
           [
            1,
            0.4980392156862745,
            0.054901960784313725
           ],
           [
            1,
            0.4980392156862745,
            0.054901960784313725
           ],
           [
            1,
            0.4980392156862745,
            0.054901960784313725
           ],
           [
            1,
            0.4980392156862745,
            0.054901960784313725
           ],
           [
            1,
            0.4980392156862745,
            0.054901960784313725
           ],
           [
            1,
            0.4980392156862745,
            0.054901960784313725
           ],
           [
            1,
            0.4980392156862745,
            0.054901960784313725
           ],
           [
            1,
            0.4980392156862745,
            0.054901960784313725
           ],
           [
            1,
            0.4980392156862745,
            0.054901960784313725
           ],
           [
            1,
            0.4980392156862745,
            0.054901960784313725
           ],
           [
            1,
            0.4980392156862745,
            0.054901960784313725
           ],
           [
            1,
            0.4980392156862745,
            0.054901960784313725
           ],
           [
            1,
            0.4980392156862745,
            0.054901960784313725
           ],
           [
            1,
            0.4980392156862745,
            0.054901960784313725
           ],
           [
            1,
            0.4980392156862745,
            0.054901960784313725
           ],
           [
            1,
            0.4980392156862745,
            0.054901960784313725
           ],
           [
            1,
            0.4980392156862745,
            0.054901960784313725
           ],
           [
            1,
            0.4980392156862745,
            0.054901960784313725
           ],
           [
            1,
            0.4980392156862745,
            0.054901960784313725
           ],
           [
            1,
            0.4980392156862745,
            0.054901960784313725
           ],
           [
            1,
            0.4980392156862745,
            0.054901960784313725
           ],
           [
            1,
            0.4980392156862745,
            0.054901960784313725
           ],
           [
            1,
            0.4980392156862745,
            0.054901960784313725
           ],
           [
            1,
            0.4980392156862745,
            0.054901960784313725
           ],
           [
            1,
            0.4980392156862745,
            0.054901960784313725
           ],
           [
            1,
            0.4980392156862745,
            0.054901960784313725
           ],
           [
            1,
            0.4980392156862745,
            0.054901960784313725
           ],
           [
            1,
            0.4980392156862745,
            0.054901960784313725
           ],
           [
            1,
            0.4980392156862745,
            0.054901960784313725
           ],
           [
            1,
            0.4980392156862745,
            0.054901960784313725
           ],
           [
            1,
            0.4980392156862745,
            0.054901960784313725
           ],
           [
            1,
            0.4980392156862745,
            0.054901960784313725
           ],
           [
            1,
            0.4980392156862745,
            0.054901960784313725
           ],
           [
            1,
            0.4980392156862745,
            0.054901960784313725
           ],
           [
            1,
            0.4980392156862745,
            0.054901960784313725
           ],
           [
            1,
            0.4980392156862745,
            0.054901960784313725
           ],
           [
            1,
            0.4980392156862745,
            0.054901960784313725
           ],
           [
            1,
            0.4980392156862745,
            0.054901960784313725
           ],
           [
            1,
            0.4980392156862745,
            0.054901960784313725
           ],
           [
            1,
            0.4980392156862745,
            0.054901960784313725
           ],
           [
            1,
            0.4980392156862745,
            0.054901960784313725
           ],
           [
            1,
            0.4980392156862745,
            0.054901960784313725
           ],
           [
            1,
            0.4980392156862745,
            0.054901960784313725
           ],
           [
            1,
            0.4980392156862745,
            0.054901960784313725
           ],
           [
            1,
            0.4980392156862745,
            0.054901960784313725
           ],
           [
            1,
            0.4980392156862745,
            0.054901960784313725
           ],
           [
            1,
            0.4980392156862745,
            0.054901960784313725
           ],
           [
            1,
            0.4980392156862745,
            0.054901960784313725
           ],
           [
            1,
            0.4980392156862745,
            0.054901960784313725
           ],
           [
            1,
            0.4980392156862745,
            0.054901960784313725
           ],
           [
            1,
            0.4980392156862745,
            0.054901960784313725
           ],
           [
            1,
            0.4980392156862745,
            0.054901960784313725
           ],
           [
            1,
            0.4980392156862745,
            0.054901960784313725
           ],
           [
            1,
            0.4980392156862745,
            0.054901960784313725
           ],
           [
            1,
            0.4980392156862745,
            0.054901960784313725
           ],
           [
            1,
            0.4980392156862745,
            0.054901960784313725
           ],
           [
            1,
            0.4980392156862745,
            0.054901960784313725
           ],
           [
            1,
            0.4980392156862745,
            0.054901960784313725
           ],
           [
            1,
            0.4980392156862745,
            0.054901960784313725
           ],
           [
            1,
            0.4980392156862745,
            0.054901960784313725
           ],
           [
            1,
            0.4980392156862745,
            0.054901960784313725
           ],
           [
            1,
            0.4980392156862745,
            0.054901960784313725
           ],
           [
            1,
            0.4980392156862745,
            0.054901960784313725
           ],
           [
            1,
            0.4980392156862745,
            0.054901960784313725
           ],
           [
            1,
            0.4980392156862745,
            0.054901960784313725
           ],
           [
            1,
            0.4980392156862745,
            0.054901960784313725
           ],
           [
            1,
            0.4980392156862745,
            0.054901960784313725
           ],
           [
            1,
            0.4980392156862745,
            0.054901960784313725
           ],
           [
            1,
            0.4980392156862745,
            0.054901960784313725
           ],
           [
            1,
            0.4980392156862745,
            0.054901960784313725
           ],
           [
            1,
            0.4980392156862745,
            0.054901960784313725
           ],
           [
            1,
            0.4980392156862745,
            0.054901960784313725
           ],
           [
            1,
            0.4980392156862745,
            0.054901960784313725
           ],
           [
            1,
            0.4980392156862745,
            0.054901960784313725
           ],
           [
            1,
            0.4980392156862745,
            0.054901960784313725
           ],
           [
            1,
            0.4980392156862745,
            0.054901960784313725
           ],
           [
            1,
            0.4980392156862745,
            0.054901960784313725
           ],
           [
            1,
            0.4980392156862745,
            0.054901960784313725
           ],
           [
            1,
            0.4980392156862745,
            0.054901960784313725
           ],
           [
            1,
            0.4980392156862745,
            0.054901960784313725
           ],
           [
            1,
            0.4980392156862745,
            0.054901960784313725
           ],
           [
            1,
            0.4980392156862745,
            0.054901960784313725
           ],
           [
            1,
            0.4980392156862745,
            0.054901960784313725
           ],
           [
            1,
            0.4980392156862745,
            0.054901960784313725
           ],
           [
            1,
            0.4980392156862745,
            0.054901960784313725
           ],
           [
            1,
            0.4980392156862745,
            0.054901960784313725
           ],
           [
            1,
            0.4980392156862745,
            0.054901960784313725
           ],
           [
            1,
            0.4980392156862745,
            0.054901960784313725
           ],
           [
            1,
            0.4980392156862745,
            0.054901960784313725
           ],
           [
            1,
            0.4980392156862745,
            0.054901960784313725
           ],
           [
            1,
            0.4980392156862745,
            0.054901960784313725
           ],
           [
            1,
            0.4980392156862745,
            0.054901960784313725
           ],
           [
            1,
            0.4980392156862745,
            0.054901960784313725
           ],
           [
            1,
            0.4980392156862745,
            0.054901960784313725
           ],
           [
            1,
            0.4980392156862745,
            0.054901960784313725
           ],
           [
            1,
            0.4980392156862745,
            0.054901960784313725
           ],
           [
            1,
            0.4980392156862745,
            0.054901960784313725
           ],
           [
            1,
            0.4980392156862745,
            0.054901960784313725
           ],
           [
            1,
            0.4980392156862745,
            0.054901960784313725
           ],
           [
            1,
            0.4980392156862745,
            0.054901960784313725
           ],
           [
            1,
            0.4980392156862745,
            0.054901960784313725
           ],
           [
            1,
            0.4980392156862745,
            0.054901960784313725
           ],
           [
            1,
            0.4980392156862745,
            0.054901960784313725
           ],
           [
            1,
            0.4980392156862745,
            0.054901960784313725
           ],
           [
            1,
            0.4980392156862745,
            0.054901960784313725
           ],
           [
            1,
            0.4980392156862745,
            0.054901960784313725
           ],
           [
            1,
            0.4980392156862745,
            0.054901960784313725
           ]
          ],
          "opacity": 0.8,
          "size": 5
         },
         "mode": "markers",
         "name": "RNRO",
         "type": "scatter3d",
         "x": {
          "bdata": "M7dRDBo8FcB9aZ6BbL0QwFggH7toxRDAFYQAcLZVEcDh1/GJoa4TwJv60XlVTxTAh1XO1gQMEcCSfz7dbskQwD/oQGNFHQ/Ao0MKOHMUFMB6bFo55uwQwDQUyvPOWQzAsi9pZORFD8APb1qkBj4PwNCPjhJ2TRDAgsaCKvnEEMDOj4J+ZS0JwMKRqcfw8wXAWkFL3w6uBcAw3HUPmH4MwJ20E6hl3g7AIT06b7WLCcCrcRm/UhAEwLPlrZDRKwTA5M1RX+qgCcAwZWHfN7AEwCYdJPPD0QHAkjpXNS2FAsDEDZgIcYgFwATd2V2aqgPAoMTGySEDC8AqswS14gcAwFl3Myionv2/1I6O9w9c+7/ZjZ/nm4cFwMkylhFTwwfAn/HnyV0l+b+66Kw2kOP1v1IJfCZnqvK/RlUSV/TIAcBEDY7TDfv7v+ZBY4T3l/a/q9qednHt97+dp9id4Cv2v3S5aMetC/e/ZXVecgfpB8DppYg6FFfzvyd4V99P8PO/Ail1L3g/879mfTM+rez9v4S5RLnh3ADAbjW5Z5Z+6b/PdpiGhoniv5myXRXCdtG/sEm2d4Cc9r//nMoLYYThv0CEbMg4GuC/8ABRJPoo4b8ezBDhfw/Yv2uyaybLx+K/DEU3EwK/AsB4v3RGsSLQv/HZEJ84Ta8/c3zyCHNxyj+8nCOlxA/jv6AnabkO4+S/XkrDgGNY2T/6i4nDlm3jP2NWPDViB+s/1PHhROBTvr/Q+/+XwNDhP3Lk6HBJjec/2b4FqR3x1D9dL1NixBTsP83VJNrly9g/UUQsa9Gv97/7nlDMVB7jPw4O0MUkaPE/xkpu2W9L7z+GryOzKJQDv6NPonMjTMW/vr5iubZZ7z8UzvNGSMbtP1T4Jg1ckfk/EQoPL5E55z8mWB+E7Or2P0mOu1ml+/M/Oqmmxn246T//M9gHcYT5P4V/VWHcRvE/g36vsvJ/8L/Fa3ERBWfsPxVuoTzrXfY/6Wf0QcRP8j/FTNkf9cvuP81zBqCizNo/NPNHf4zo+j/9XCg7zhT8PzAo18UVoABA9BWYFQ7f4T97VMaqqQ/9PxYGt89m1/o/kxnK+c/u7T94M+kpLVMFQIWLcYH0EPk/WyZiAcaitr+Hug7t2lP4P5O7nB5HCgBAAvw/QadS9T9XsmgT6LHzPwqV5hkyY/A/k7i0T+PwAUBLgDLKZxr/P+1ODGlAcQRA7WULoVcQAEAy0VPxKv0DQGySZTwtRABAA0GBWeeE9D9SpZ/V8tgKQLPRd/HuvP0/",
          "dtype": "f8"
         },
         "y": {
          "bdata": "O1+xTMi0BsBbWGtpp33tv5rT7ll4M8e/wOOEK/Wh3b+haosYEMr5v4cRl2dKSvq/7gtlCd+e7L+cIFwc21zov+Lz5FOqs+I/VDxSGDKP978wkYU6/iTtv8HKt9tHIdM/5SO7uuKZ07/xjaS8QbuaP3G+qOl+VPC/QTuszJK1B8C2HCpxOSLmv8INsSrQZb+/BcFfNPvgs7/E3ecLBrn4vzNIFYTHIv+/YfUbPF9r078c93DVAFO0P+eX++mkods/pps8K97a+L+7UXRE56nYv+IDyNUoWuU/Z+mGXHJ27D98ooPQ8Ynav/AvBRjJS8o/f+c+1KVCAsAw+a/P+gfJv4LYywxQD8S/bgGspQOGwz8Xot/BtOr2vxsLeVNZw/6/mlNY04vO0T+dQ+cvervhv9MaKTC0Xu4/Vf7LKvd7ur8IjXsyij63P6647WXreuw/Hv9dgv0oxz+eUav0wJnKP4YBWbIemcc/4F2E8eZ3A8C9HlGmkd7Lv0CBzO9+ltO/U8proSSKy7+RU4XhU8ftvwyg5iY1Nvu/Os4WOcMZ0b+27lXz5a/Rv0OOciT7+uo/Ew19HPYHuD9RJaQ+CtTQv3UGwSgjiNA/1mfzGNZW3z8fAbkf+RzgP8R45sGw9dI/3bVD+MkdBsDLDPXMWJ8BwM/7ati/s/m/H+NAtePJ/7+ijAHLUxECwDsmKu/7DPu//NyUjZaX9L+qs/U4RID2v2BYQYwaqvi/L9k2duMD+b+8waL8puEAwHRROwfHzfu/xjIv69g9+b/MKk0taQLxvxqay6tj8f2/SupVC653DMD+0WESFW36v9CSll7cxPC/8wEqc9O457/8F8Et0UIBwFDPWHk4lwbAy7LzjATt778B6qa5d3n2vx90wzExPvC/vaJz5D5Q8L9PqxgGw07yv/s0bemO0fG/FjYNcaMu/r8PWZp8uYzzvxoHO12tuPS/3lf3/P6OBMDsuFG7YqYAwObM5J4VfP6/ffw/RC4e+L8hRTSV/C7zvw+UY7mU6wLAisN/gTFx8b+vYqrn8b/1v7pRt8CyvP+/avvdnPiy6b/TcIpIkEkBwJQOSLq6NQTAw/BFJtouBsBiba1/RjTov3JMTIfAfAPA4dz0SMJTBcBt+nnLW9fyv4xJrUQvMPC/0sCB1hjd9b+Nc8aRpPL+v4Zplhdbh/6/KhG5RecX6b/wjYM3Lv72v8uB9JzoR/S/VXMy8/3w8L9ejqO+QigHwA9NAq31WPy//YhvpdgIAMC9JZSg73Thv2t6S6I9LADA",
          "dtype": "f8"
         },
         "z": {
          "bdata": "M0BktfpX+T/teJFTHormPxpP7b4HAoG/wy7xqs7T2z/tV9pQfJ7sP6Fh4CFyL/E/U70cZM6t8D/pQHfGW+3mP9cxlKlHiMg/NzRXeUc57j84FQdY4DjwP6ZpN1EXT98/x1XlvdV97z+ypZEUkj3hP2G3qYmD9fc/1uLt1sJ27z+D+L35mEO/P6LNlNCfhsG/hnURD2Ggxr9IB8H3r8HhPwJkxpvf0+s/h+4IC9wVtj9wRQT/10vJPxigHn2tHbm/O3MjvwPj7D8+qItSnnfmP3o9527MVcI/0AFSZ5gxdz/HZKI0YTXoP0Y7+Gu4GOA/EKbg9okk3D8DHK7ylifXvwMvBbCav9u/A+dt9Thq5b+Mx2CUJCbEP8egpFlZa+E/VKWV/vE60r9xjz+VpNbCP3CAtSr/duK/MN9JrZ/4wr9erVsEQOvHP4CIZjez/92/6s2bmw/3oj+OzTtGV+rCP04omZZ+C6g/RmeI9Gpgj7/xJhJObw7hv5vy9WYvweK/C4tPNel26L88MKr8lQ3jv7L1k2hGyc0/cUaYcCXmwr/4s/UQ7hDEv0iI05R8wuS/mUJL05Fu2r8Wt9TyIQa+P+5l6ACu59G/h1KFSVOm2L8M+Q7G5gXWv7PXCjSzSbu/FgDc6hCCwD/hXKwqzeXOvxTGr2+LU9i/9EDw7ZqRtL+/PiTuUS3Fv0VKX9YWfNu/imhJ59MPkz+UeqwJIkfPP2/JS0dKPNc/EDiwIn6l2z+i9JV6mInrPxmTVY+QSuA/Bc9AjlBb5j9537rciQrXP2Hlm3YVLdg/aV6l1/Ln2z/2G1+QhF3hv/y8156PqOy/WkOLU93O77+sxfHrmGbdv3VilfutF8Y/d4JPstOHyr8fN8WOTXOnP2ZBKUqynWC/xuPSXql11b8Hd/CoqtPNPxsUHIzOJ60/v2IjlrJA4z/uV6xX6SC/P1H9m7dTDM4/IwGizIJG3r+wVVz3+nrev1P/C6eKD+O/3sulurS87r8Z622tOwXyv7C+cZW2ltK/jK69e/BL278grxrX1DHgv7wdS4TkUsc/xlb7btfJ8L+FyAByYpWqP/RGAEb9h9w//mlzX2uZ2T/4tZCs1Srav6fLeUU7Cb4/RE37UQIX0b9gO/8MFhfyvykY4rdBNvW/zsLgqPeg8L835fzb6KLwv7wNEqjD6uK/WrDvzCwn5b8KKwrwLPTGv32fQs3gecS/4groHzAl9L+NB57VWdniP9aZu1wnAdE/n4UcI2bVpT+IL5LMwmXhv17yQzeGXJ6/",
          "dtype": "f8"
         }
        },
        {
         "marker": {
          "color": [
           [
            0.17254901960784313,
            0.6274509803921569,
            0.17254901960784313
           ],
           [
            0.17254901960784313,
            0.6274509803921569,
            0.17254901960784313
           ],
           [
            0.17254901960784313,
            0.6274509803921569,
            0.17254901960784313
           ],
           [
            0.17254901960784313,
            0.6274509803921569,
            0.17254901960784313
           ],
           [
            0.17254901960784313,
            0.6274509803921569,
            0.17254901960784313
           ],
           [
            0.17254901960784313,
            0.6274509803921569,
            0.17254901960784313
           ],
           [
            0.17254901960784313,
            0.6274509803921569,
            0.17254901960784313
           ],
           [
            0.17254901960784313,
            0.6274509803921569,
            0.17254901960784313
           ],
           [
            0.17254901960784313,
            0.6274509803921569,
            0.17254901960784313
           ],
           [
            0.17254901960784313,
            0.6274509803921569,
            0.17254901960784313
           ],
           [
            0.17254901960784313,
            0.6274509803921569,
            0.17254901960784313
           ],
           [
            0.17254901960784313,
            0.6274509803921569,
            0.17254901960784313
           ],
           [
            0.17254901960784313,
            0.6274509803921569,
            0.17254901960784313
           ],
           [
            0.17254901960784313,
            0.6274509803921569,
            0.17254901960784313
           ],
           [
            0.17254901960784313,
            0.6274509803921569,
            0.17254901960784313
           ],
           [
            0.17254901960784313,
            0.6274509803921569,
            0.17254901960784313
           ],
           [
            0.17254901960784313,
            0.6274509803921569,
            0.17254901960784313
           ],
           [
            0.17254901960784313,
            0.6274509803921569,
            0.17254901960784313
           ],
           [
            0.17254901960784313,
            0.6274509803921569,
            0.17254901960784313
           ],
           [
            0.17254901960784313,
            0.6274509803921569,
            0.17254901960784313
           ],
           [
            0.17254901960784313,
            0.6274509803921569,
            0.17254901960784313
           ],
           [
            0.17254901960784313,
            0.6274509803921569,
            0.17254901960784313
           ],
           [
            0.17254901960784313,
            0.6274509803921569,
            0.17254901960784313
           ],
           [
            0.17254901960784313,
            0.6274509803921569,
            0.17254901960784313
           ],
           [
            0.17254901960784313,
            0.6274509803921569,
            0.17254901960784313
           ],
           [
            0.17254901960784313,
            0.6274509803921569,
            0.17254901960784313
           ],
           [
            0.17254901960784313,
            0.6274509803921569,
            0.17254901960784313
           ],
           [
            0.17254901960784313,
            0.6274509803921569,
            0.17254901960784313
           ],
           [
            0.17254901960784313,
            0.6274509803921569,
            0.17254901960784313
           ],
           [
            0.17254901960784313,
            0.6274509803921569,
            0.17254901960784313
           ],
           [
            0.17254901960784313,
            0.6274509803921569,
            0.17254901960784313
           ],
           [
            0.17254901960784313,
            0.6274509803921569,
            0.17254901960784313
           ],
           [
            0.17254901960784313,
            0.6274509803921569,
            0.17254901960784313
           ],
           [
            0.17254901960784313,
            0.6274509803921569,
            0.17254901960784313
           ],
           [
            0.17254901960784313,
            0.6274509803921569,
            0.17254901960784313
           ],
           [
            0.17254901960784313,
            0.6274509803921569,
            0.17254901960784313
           ],
           [
            0.17254901960784313,
            0.6274509803921569,
            0.17254901960784313
           ],
           [
            0.17254901960784313,
            0.6274509803921569,
            0.17254901960784313
           ],
           [
            0.17254901960784313,
            0.6274509803921569,
            0.17254901960784313
           ],
           [
            0.17254901960784313,
            0.6274509803921569,
            0.17254901960784313
           ],
           [
            0.17254901960784313,
            0.6274509803921569,
            0.17254901960784313
           ],
           [
            0.17254901960784313,
            0.6274509803921569,
            0.17254901960784313
           ],
           [
            0.17254901960784313,
            0.6274509803921569,
            0.17254901960784313
           ],
           [
            0.17254901960784313,
            0.6274509803921569,
            0.17254901960784313
           ],
           [
            0.17254901960784313,
            0.6274509803921569,
            0.17254901960784313
           ],
           [
            0.17254901960784313,
            0.6274509803921569,
            0.17254901960784313
           ],
           [
            0.17254901960784313,
            0.6274509803921569,
            0.17254901960784313
           ],
           [
            0.17254901960784313,
            0.6274509803921569,
            0.17254901960784313
           ],
           [
            0.17254901960784313,
            0.6274509803921569,
            0.17254901960784313
           ],
           [
            0.17254901960784313,
            0.6274509803921569,
            0.17254901960784313
           ],
           [
            0.17254901960784313,
            0.6274509803921569,
            0.17254901960784313
           ],
           [
            0.17254901960784313,
            0.6274509803921569,
            0.17254901960784313
           ],
           [
            0.17254901960784313,
            0.6274509803921569,
            0.17254901960784313
           ],
           [
            0.17254901960784313,
            0.6274509803921569,
            0.17254901960784313
           ],
           [
            0.17254901960784313,
            0.6274509803921569,
            0.17254901960784313
           ],
           [
            0.17254901960784313,
            0.6274509803921569,
            0.17254901960784313
           ],
           [
            0.17254901960784313,
            0.6274509803921569,
            0.17254901960784313
           ],
           [
            0.17254901960784313,
            0.6274509803921569,
            0.17254901960784313
           ],
           [
            0.17254901960784313,
            0.6274509803921569,
            0.17254901960784313
           ],
           [
            0.17254901960784313,
            0.6274509803921569,
            0.17254901960784313
           ],
           [
            0.17254901960784313,
            0.6274509803921569,
            0.17254901960784313
           ],
           [
            0.17254901960784313,
            0.6274509803921569,
            0.17254901960784313
           ],
           [
            0.17254901960784313,
            0.6274509803921569,
            0.17254901960784313
           ],
           [
            0.17254901960784313,
            0.6274509803921569,
            0.17254901960784313
           ],
           [
            0.17254901960784313,
            0.6274509803921569,
            0.17254901960784313
           ],
           [
            0.17254901960784313,
            0.6274509803921569,
            0.17254901960784313
           ],
           [
            0.17254901960784313,
            0.6274509803921569,
            0.17254901960784313
           ],
           [
            0.17254901960784313,
            0.6274509803921569,
            0.17254901960784313
           ],
           [
            0.17254901960784313,
            0.6274509803921569,
            0.17254901960784313
           ],
           [
            0.17254901960784313,
            0.6274509803921569,
            0.17254901960784313
           ],
           [
            0.17254901960784313,
            0.6274509803921569,
            0.17254901960784313
           ],
           [
            0.17254901960784313,
            0.6274509803921569,
            0.17254901960784313
           ],
           [
            0.17254901960784313,
            0.6274509803921569,
            0.17254901960784313
           ],
           [
            0.17254901960784313,
            0.6274509803921569,
            0.17254901960784313
           ],
           [
            0.17254901960784313,
            0.6274509803921569,
            0.17254901960784313
           ],
           [
            0.17254901960784313,
            0.6274509803921569,
            0.17254901960784313
           ],
           [
            0.17254901960784313,
            0.6274509803921569,
            0.17254901960784313
           ],
           [
            0.17254901960784313,
            0.6274509803921569,
            0.17254901960784313
           ],
           [
            0.17254901960784313,
            0.6274509803921569,
            0.17254901960784313
           ],
           [
            0.17254901960784313,
            0.6274509803921569,
            0.17254901960784313
           ],
           [
            0.17254901960784313,
            0.6274509803921569,
            0.17254901960784313
           ],
           [
            0.17254901960784313,
            0.6274509803921569,
            0.17254901960784313
           ],
           [
            0.17254901960784313,
            0.6274509803921569,
            0.17254901960784313
           ],
           [
            0.17254901960784313,
            0.6274509803921569,
            0.17254901960784313
           ],
           [
            0.17254901960784313,
            0.6274509803921569,
            0.17254901960784313
           ],
           [
            0.17254901960784313,
            0.6274509803921569,
            0.17254901960784313
           ],
           [
            0.17254901960784313,
            0.6274509803921569,
            0.17254901960784313
           ],
           [
            0.17254901960784313,
            0.6274509803921569,
            0.17254901960784313
           ],
           [
            0.17254901960784313,
            0.6274509803921569,
            0.17254901960784313
           ],
           [
            0.17254901960784313,
            0.6274509803921569,
            0.17254901960784313
           ],
           [
            0.17254901960784313,
            0.6274509803921569,
            0.17254901960784313
           ],
           [
            0.17254901960784313,
            0.6274509803921569,
            0.17254901960784313
           ],
           [
            0.17254901960784313,
            0.6274509803921569,
            0.17254901960784313
           ],
           [
            0.17254901960784313,
            0.6274509803921569,
            0.17254901960784313
           ],
           [
            0.17254901960784313,
            0.6274509803921569,
            0.17254901960784313
           ],
           [
            0.17254901960784313,
            0.6274509803921569,
            0.17254901960784313
           ],
           [
            0.17254901960784313,
            0.6274509803921569,
            0.17254901960784313
           ],
           [
            0.17254901960784313,
            0.6274509803921569,
            0.17254901960784313
           ],
           [
            0.17254901960784313,
            0.6274509803921569,
            0.17254901960784313
           ],
           [
            0.17254901960784313,
            0.6274509803921569,
            0.17254901960784313
           ],
           [
            0.17254901960784313,
            0.6274509803921569,
            0.17254901960784313
           ],
           [
            0.17254901960784313,
            0.6274509803921569,
            0.17254901960784313
           ],
           [
            0.17254901960784313,
            0.6274509803921569,
            0.17254901960784313
           ],
           [
            0.17254901960784313,
            0.6274509803921569,
            0.17254901960784313
           ],
           [
            0.17254901960784313,
            0.6274509803921569,
            0.17254901960784313
           ],
           [
            0.17254901960784313,
            0.6274509803921569,
            0.17254901960784313
           ],
           [
            0.17254901960784313,
            0.6274509803921569,
            0.17254901960784313
           ],
           [
            0.17254901960784313,
            0.6274509803921569,
            0.17254901960784313
           ],
           [
            0.17254901960784313,
            0.6274509803921569,
            0.17254901960784313
           ],
           [
            0.17254901960784313,
            0.6274509803921569,
            0.17254901960784313
           ],
           [
            0.17254901960784313,
            0.6274509803921569,
            0.17254901960784313
           ],
           [
            0.17254901960784313,
            0.6274509803921569,
            0.17254901960784313
           ],
           [
            0.17254901960784313,
            0.6274509803921569,
            0.17254901960784313
           ],
           [
            0.17254901960784313,
            0.6274509803921569,
            0.17254901960784313
           ],
           [
            0.17254901960784313,
            0.6274509803921569,
            0.17254901960784313
           ],
           [
            0.17254901960784313,
            0.6274509803921569,
            0.17254901960784313
           ],
           [
            0.17254901960784313,
            0.6274509803921569,
            0.17254901960784313
           ],
           [
            0.17254901960784313,
            0.6274509803921569,
            0.17254901960784313
           ],
           [
            0.17254901960784313,
            0.6274509803921569,
            0.17254901960784313
           ],
           [
            0.17254901960784313,
            0.6274509803921569,
            0.17254901960784313
           ]
          ],
          "opacity": 0.8,
          "size": 5
         },
         "mode": "markers",
         "name": "RWGR",
         "type": "scatter3d",
         "x": {
          "bdata": "/aKc5hyGDcAVNFL5s1kQwFm+B0MCARDANem2WE+4D8DgSyoEUlAPwINmvpHnMA3ArD0xNgNrEMC/LUvb08MLwJh6AJo7pAvABouCnttPDMAfn5s3sXYHwFRa4u/OFgnAEYVlVC2qDMC9qMy4hl4JwNULWtkUGwvA49ofV95aBcCCawA0Uz0HwEuF8Z3tHQjA5nwJpeHwBMDOZpF5IKoGwMZccSQ9tAHAdIYQDeL4A8BzZUoBn5oBwHDPdV2mb/2/We0kx/w7/78FGgfFYYD8v+zFDhj6TPe/eSoTF/3z/b8JMN5iQX78v8q2Ulnp4/6/qo4WtFlX9b+CNLad2mP4v6TvfSwLv/m/AP5F3ex0+r/Itjw5U035v/tZ2vDdZe2/OeDu7zpUAMDfKAiwS8Twvyh7tGdCTd6/HG9phCm58b9R+gwr60Czvw6PzgSw7Hi/qibTLKGH8L+0YUvGZYHdv5znUKTJ2e2/rkBPI00f2r/t1oGauVbsv5B7FsAjCvC/Zw18pt0777+BxH/hacrhvzDdgoXjEPA/9JQnnEDn9L86jeWN2Ayiv79ldOqiCOw/BLvab92Reb8I2ZH9AQPUP7IEDE0d2ek/BlmzugXitj/6B72eEWDhP/220dmn8sA/RuPrrOkH5T87DocUrOHjP3GorN8aT+A/Vb9cUTfr6D81GtTi8hPkP9O03TmGxgNAvn2sNMKt8b+p5lt5PhTyP7paSy5rU/4/fzTmaiGh9D9ATigYM08AQKbxHonMZQBAYHXPuPDL9z/1/UyPdJEDQDBl1QbgJvo/357RKvgZ9j+znNWBOWn4P2fE3yMlYPM/poEvD6qm9T9M18Fe9qjyPz7pW8Tp2glAx2FLXjee5z9c15mlZjP6P25icVRD7wVADtG5YsMQBUAVO5FUnYAIQE0PKivNpQZA9wurnUb7BUAsnq8KLVoGQBzF++EeGQJAg4P2KOoWAUBNH1e0hgr8PxSTvNkkqvY/RTW/WW2G8D9Vw0FGO+H6P3vQ77z4fAhA1v0D5xpV7T/JDGkx+a//PxgJd7TMAgxAayTNKewGCUDty7OqOFIJQKaLEy2BXQpAR4o09q2WB0B6sH39Q8wKQJr8WdBIEAVAq3R3wZR/BkAk+WH09mAEQPUTd+QjQgFAo3splLti/D/yWt3/Fp4EQO/1xVo0dRBALvNCigIO+T/afhDHYJIDQCJUc9IqbxBAMlE3u1wZEUCxZWfj9xIPQNQVHAdu1Q5AFbq10dMFD0CGVBRXU7EQQPGDJg3O0QtA",
          "dtype": "f8"
         },
         "y": {
          "bdata": "dN4A6/tm8j/scU7umFu0Pw+bYKHvr8o/1NXnN5Xh0z9AIhQJtW/Zv61q3A2qmvE/fV5X2Le+5z/RBr25M2X1P4zF9ALx+/0/Tmr25lXczD84XqnUpGLpP9jXlicaG/g/rd3q6L4a8j8or50Kxrb2PyckdZj6f/g/X7r8jB9/5z/w46XRPirQP14JYPmMS+E/fb7Rx37u4T87kZQELaOgvxQHP4f2GPg/CqOzykyD3T+Y1vwkmcPyP/u8e2Z8mf4/+eMTPF1c7D9L3DmixHz2P4h+jfl4hP0/q7MQqIbg/z/sTW9rYH/6P4uGMZZzif0/nn6iLqzE8j98P2boM7viP2qYATk+3+g/N6Wb+yiL17+U7dRIORbZP/pivi+ngPE/PjRZTkPGpz81vSjeGDrMP1wtJY4X1/c/sYuesuIx4z+Z8nAgwVv7PynhqhvcPQJAF4UnzO514T8uF1WVe+HtPzAZXiirxPE/en7vgqbB5D++mYptGDbdP3y2WUe0bds/Kuc2Yhv/0b/YrF1U/5PoP1mMdMsPoQRAnsPokHZ+1b9pOI+7p6O9vwXJOBM0tgJAqU6TpaLl6j8h5rv4mxjnPzyk29vcFwRAR+1LdKGk6z+DOTcIE+7xP93Iuuy9WPQ/5lhPz0aN5r89TXGgyxf2v5bVs+Noffu/bk3yR4Rz8r+x0D83tyfuvzHOjb1YaO0/VEOclPftB8CzZlk7R0D5v46T8+z/M8C/NSvBYIzm279YidOTuVvkv9e3zarbHuQ/J4CWuczX9L/CLfO/QAXiP7Kek6xXeMq/HNO9u8d84r/qdXWsHWziv6ebC0S1d+W/gwHp/uYD/b+oV1feA4/wv+4TiWDXtPA/HYgXYchyAcDoeTx0ZqTyv7cAe644C8A/kDfDf5qe5j9ZZx7sWF3jP7MvL9IdLcQ/RSDQu7lMo78Xq66ZHFLMP0QjeW5+p6O/jruoyFxt77+76CvSFU71vzpp1W/REfa/qV8xRiK8AcD1Mq+mdz35v4++zXiBxN4/dKeA+qTVB8AVYQLYKAUAwEqet8Do/9Y/2p64ulBZ8T8dX+ueQATbv1xl/BdQWe+/HGJh95+l67+EYYFbjKLuv/1UOI/6jOS/fMaTp1Ow67+U1j6u6MqTP5NjM6USGtC/oDBR5xjP/L9LzxXiFS7Sv+nF+G/TWPQ/K+glB8KJAMAwFc7syovzvxVu+i8ofOs/A8Lkw4fM+D+XAVqaNiakP1Vv2m2yFPk/Dk+5193Dvz+fqKAe66/lvx5gFV4amvg/",
          "dtype": "f8"
         },
         "z": {
          "bdata": "SzXdwhAQyj8HZEUQtlXpPwtHKRfOE+Y/C89NBRCS4z9pEJEZ6iHxP3+KZqojJd0/f+SLfK3dwT/xWbgV1R7QP++8tUjez8q/MVEIMWu17D8X+3f5FnrsPzAk5eLH7NY/0IXTbXYU5z82e2NKplnUP5jmg3Df9tk/B4LOnBE5xr/KhdmPJHp4v1OObXWyr8a/5Pd3u3YQx7+TGIV4c7DRP+iOIuQmate/5MQpJHQBwz948VQRT7uUv5rHktTVP+6/Z49rJ24eiL/0c7SO5nTKP/MfJEqdsdW/ZIvgGu4Rx7/fmyoxdIq5v1fdCFctYIs/BXYqpZ0y6b8heSGPs4bcv4rx59qOtuW/kTBGYPNkvb9pGhdwMTnTv0PU2IuFIuW//hlk7axZvD93Zx7GQ62+v3x9EZnpzum/GAKac6n5xL/Cn9Y9+Ob3P7bUAQ9RC/E/Jj5SzwnHwz87v+aKivSqP2Kf2xwcAtS/hZT2RCiq6r+TFvUkFhvpv/m7D6mgQem/1I4a72Er479AE/HxACvxv3gfKydD/90/JJJIu8/axT/J8l1UgXTGvxT+SGgE4Pe/8pMjsj4i47+SpLDo28m5P0sIHmb8f+E/52mc1SHuIT8h1k/BaavRvyIrRVKfpdu/r9Slt84M7L87SxGOz7DSv8NAXmTufLW/LI6mafkr6L+nRix59Yvjv9m9pEHoGOY/ekARob9Y6j9sBZLXo4jGP4Sl/1G+Gd+/LpsFxgMx2L8MNfycjY7QP+u8FH9ySPU/g9GvTzCL5D9UJUMclUr5P2pLaC2I3Lm/RbNUr3IQ8L8fm4O9p1Hwv4HmVMSQGee/+nqwJax72L+jvRxv/cfhv0fZdgeVN+0/bvdTtaeL0z9hdwSLDzaiP6hUhkGdcei/xwUotWDc8T9zwbnt+Zj6P5gwFD3W0fY/pkh9pYsVAED1VkvLQT39P8vSG5eqDs2/eXHON3nc8L+3K04ZGrbqv7bmbiq8auS/Mi/JExwt4L+eWLSD//Dkv4UKrOS1y+c/EhP00yP80j/euKyzPHPLP5jmk1r07+6/muuBcKD46D98Zu8XWZ0AQF+w0FTtRPw/ygKPO2FjAUAs6tvS8lsAQMrxEDverY6/rn8DJYpJ8L9SO9caei/4vzOCxl+LBPe/lUSbTYEo579PwmZjOU31v3yzuiadWPI/w9okAb1Awj/F0qbQwf+Gv+t8weBKBfe/xznW0xng8j9n723SWh4BQKuK9KQOWus/jGtgID8eAEByUS0MK2sFQOXGIewK//S/",
          "dtype": "f8"
         }
        }
       ],
       "layout": {
        "legend": {
         "title": {
          "text": "Family Sample"
         }
        },
        "scene": {
         "xaxis": {
          "title": {
           "text": "Principal Component 1"
          }
         },
         "yaxis": {
          "title": {
           "text": "Principal Component 2"
          }
         },
         "zaxis": {
          "title": {
           "text": "Principal Component 3"
          }
         }
        },
        "template": {
         "data": {
          "bar": [
           {
            "error_x": {
             "color": "#2a3f5f"
            },
            "error_y": {
             "color": "#2a3f5f"
            },
            "marker": {
             "line": {
              "color": "#E5ECF6",
              "width": 0.5
             },
             "pattern": {
              "fillmode": "overlay",
              "size": 10,
              "solidity": 0.2
             }
            },
            "type": "bar"
           }
          ],
          "barpolar": [
           {
            "marker": {
             "line": {
              "color": "#E5ECF6",
              "width": 0.5
             },
             "pattern": {
              "fillmode": "overlay",
              "size": 10,
              "solidity": 0.2
             }
            },
            "type": "barpolar"
           }
          ],
          "carpet": [
           {
            "aaxis": {
             "endlinecolor": "#2a3f5f",
             "gridcolor": "white",
             "linecolor": "white",
             "minorgridcolor": "white",
             "startlinecolor": "#2a3f5f"
            },
            "baxis": {
             "endlinecolor": "#2a3f5f",
             "gridcolor": "white",
             "linecolor": "white",
             "minorgridcolor": "white",
             "startlinecolor": "#2a3f5f"
            },
            "type": "carpet"
           }
          ],
          "choropleth": [
           {
            "colorbar": {
             "outlinewidth": 0,
             "ticks": ""
            },
            "type": "choropleth"
           }
          ],
          "contour": [
           {
            "colorbar": {
             "outlinewidth": 0,
             "ticks": ""
            },
            "colorscale": [
             [
              0,
              "#0d0887"
             ],
             [
              0.1111111111111111,
              "#46039f"
             ],
             [
              0.2222222222222222,
              "#7201a8"
             ],
             [
              0.3333333333333333,
              "#9c179e"
             ],
             [
              0.4444444444444444,
              "#bd3786"
             ],
             [
              0.5555555555555556,
              "#d8576b"
             ],
             [
              0.6666666666666666,
              "#ed7953"
             ],
             [
              0.7777777777777778,
              "#fb9f3a"
             ],
             [
              0.8888888888888888,
              "#fdca26"
             ],
             [
              1,
              "#f0f921"
             ]
            ],
            "type": "contour"
           }
          ],
          "contourcarpet": [
           {
            "colorbar": {
             "outlinewidth": 0,
             "ticks": ""
            },
            "type": "contourcarpet"
           }
          ],
          "heatmap": [
           {
            "colorbar": {
             "outlinewidth": 0,
             "ticks": ""
            },
            "colorscale": [
             [
              0,
              "#0d0887"
             ],
             [
              0.1111111111111111,
              "#46039f"
             ],
             [
              0.2222222222222222,
              "#7201a8"
             ],
             [
              0.3333333333333333,
              "#9c179e"
             ],
             [
              0.4444444444444444,
              "#bd3786"
             ],
             [
              0.5555555555555556,
              "#d8576b"
             ],
             [
              0.6666666666666666,
              "#ed7953"
             ],
             [
              0.7777777777777778,
              "#fb9f3a"
             ],
             [
              0.8888888888888888,
              "#fdca26"
             ],
             [
              1,
              "#f0f921"
             ]
            ],
            "type": "heatmap"
           }
          ],
          "histogram": [
           {
            "marker": {
             "pattern": {
              "fillmode": "overlay",
              "size": 10,
              "solidity": 0.2
             }
            },
            "type": "histogram"
           }
          ],
          "histogram2d": [
           {
            "colorbar": {
             "outlinewidth": 0,
             "ticks": ""
            },
            "colorscale": [
             [
              0,
              "#0d0887"
             ],
             [
              0.1111111111111111,
              "#46039f"
             ],
             [
              0.2222222222222222,
              "#7201a8"
             ],
             [
              0.3333333333333333,
              "#9c179e"
             ],
             [
              0.4444444444444444,
              "#bd3786"
             ],
             [
              0.5555555555555556,
              "#d8576b"
             ],
             [
              0.6666666666666666,
              "#ed7953"
             ],
             [
              0.7777777777777778,
              "#fb9f3a"
             ],
             [
              0.8888888888888888,
              "#fdca26"
             ],
             [
              1,
              "#f0f921"
             ]
            ],
            "type": "histogram2d"
           }
          ],
          "histogram2dcontour": [
           {
            "colorbar": {
             "outlinewidth": 0,
             "ticks": ""
            },
            "colorscale": [
             [
              0,
              "#0d0887"
             ],
             [
              0.1111111111111111,
              "#46039f"
             ],
             [
              0.2222222222222222,
              "#7201a8"
             ],
             [
              0.3333333333333333,
              "#9c179e"
             ],
             [
              0.4444444444444444,
              "#bd3786"
             ],
             [
              0.5555555555555556,
              "#d8576b"
             ],
             [
              0.6666666666666666,
              "#ed7953"
             ],
             [
              0.7777777777777778,
              "#fb9f3a"
             ],
             [
              0.8888888888888888,
              "#fdca26"
             ],
             [
              1,
              "#f0f921"
             ]
            ],
            "type": "histogram2dcontour"
           }
          ],
          "mesh3d": [
           {
            "colorbar": {
             "outlinewidth": 0,
             "ticks": ""
            },
            "type": "mesh3d"
           }
          ],
          "parcoords": [
           {
            "line": {
             "colorbar": {
              "outlinewidth": 0,
              "ticks": ""
             }
            },
            "type": "parcoords"
           }
          ],
          "pie": [
           {
            "automargin": true,
            "type": "pie"
           }
          ],
          "scatter": [
           {
            "fillpattern": {
             "fillmode": "overlay",
             "size": 10,
             "solidity": 0.2
            },
            "type": "scatter"
           }
          ],
          "scatter3d": [
           {
            "line": {
             "colorbar": {
              "outlinewidth": 0,
              "ticks": ""
             }
            },
            "marker": {
             "colorbar": {
              "outlinewidth": 0,
              "ticks": ""
             }
            },
            "type": "scatter3d"
           }
          ],
          "scattercarpet": [
           {
            "marker": {
             "colorbar": {
              "outlinewidth": 0,
              "ticks": ""
             }
            },
            "type": "scattercarpet"
           }
          ],
          "scattergeo": [
           {
            "marker": {
             "colorbar": {
              "outlinewidth": 0,
              "ticks": ""
             }
            },
            "type": "scattergeo"
           }
          ],
          "scattergl": [
           {
            "marker": {
             "colorbar": {
              "outlinewidth": 0,
              "ticks": ""
             }
            },
            "type": "scattergl"
           }
          ],
          "scattermap": [
           {
            "marker": {
             "colorbar": {
              "outlinewidth": 0,
              "ticks": ""
             }
            },
            "type": "scattermap"
           }
          ],
          "scattermapbox": [
           {
            "marker": {
             "colorbar": {
              "outlinewidth": 0,
              "ticks": ""
             }
            },
            "type": "scattermapbox"
           }
          ],
          "scatterpolar": [
           {
            "marker": {
             "colorbar": {
              "outlinewidth": 0,
              "ticks": ""
             }
            },
            "type": "scatterpolar"
           }
          ],
          "scatterpolargl": [
           {
            "marker": {
             "colorbar": {
              "outlinewidth": 0,
              "ticks": ""
             }
            },
            "type": "scatterpolargl"
           }
          ],
          "scatterternary": [
           {
            "marker": {
             "colorbar": {
              "outlinewidth": 0,
              "ticks": ""
             }
            },
            "type": "scatterternary"
           }
          ],
          "surface": [
           {
            "colorbar": {
             "outlinewidth": 0,
             "ticks": ""
            },
            "colorscale": [
             [
              0,
              "#0d0887"
             ],
             [
              0.1111111111111111,
              "#46039f"
             ],
             [
              0.2222222222222222,
              "#7201a8"
             ],
             [
              0.3333333333333333,
              "#9c179e"
             ],
             [
              0.4444444444444444,
              "#bd3786"
             ],
             [
              0.5555555555555556,
              "#d8576b"
             ],
             [
              0.6666666666666666,
              "#ed7953"
             ],
             [
              0.7777777777777778,
              "#fb9f3a"
             ],
             [
              0.8888888888888888,
              "#fdca26"
             ],
             [
              1,
              "#f0f921"
             ]
            ],
            "type": "surface"
           }
          ],
          "table": [
           {
            "cells": {
             "fill": {
              "color": "#EBF0F8"
             },
             "line": {
              "color": "white"
             }
            },
            "header": {
             "fill": {
              "color": "#C8D4E3"
             },
             "line": {
              "color": "white"
             }
            },
            "type": "table"
           }
          ]
         },
         "layout": {
          "annotationdefaults": {
           "arrowcolor": "#2a3f5f",
           "arrowhead": 0,
           "arrowwidth": 1
          },
          "autotypenumbers": "strict",
          "coloraxis": {
           "colorbar": {
            "outlinewidth": 0,
            "ticks": ""
           }
          },
          "colorscale": {
           "diverging": [
            [
             0,
             "#8e0152"
            ],
            [
             0.1,
             "#c51b7d"
            ],
            [
             0.2,
             "#de77ae"
            ],
            [
             0.3,
             "#f1b6da"
            ],
            [
             0.4,
             "#fde0ef"
            ],
            [
             0.5,
             "#f7f7f7"
            ],
            [
             0.6,
             "#e6f5d0"
            ],
            [
             0.7,
             "#b8e186"
            ],
            [
             0.8,
             "#7fbc41"
            ],
            [
             0.9,
             "#4d9221"
            ],
            [
             1,
             "#276419"
            ]
           ],
           "sequential": [
            [
             0,
             "#0d0887"
            ],
            [
             0.1111111111111111,
             "#46039f"
            ],
            [
             0.2222222222222222,
             "#7201a8"
            ],
            [
             0.3333333333333333,
             "#9c179e"
            ],
            [
             0.4444444444444444,
             "#bd3786"
            ],
            [
             0.5555555555555556,
             "#d8576b"
            ],
            [
             0.6666666666666666,
             "#ed7953"
            ],
            [
             0.7777777777777778,
             "#fb9f3a"
            ],
            [
             0.8888888888888888,
             "#fdca26"
            ],
            [
             1,
             "#f0f921"
            ]
           ],
           "sequentialminus": [
            [
             0,
             "#0d0887"
            ],
            [
             0.1111111111111111,
             "#46039f"
            ],
            [
             0.2222222222222222,
             "#7201a8"
            ],
            [
             0.3333333333333333,
             "#9c179e"
            ],
            [
             0.4444444444444444,
             "#bd3786"
            ],
            [
             0.5555555555555556,
             "#d8576b"
            ],
            [
             0.6666666666666666,
             "#ed7953"
            ],
            [
             0.7777777777777778,
             "#fb9f3a"
            ],
            [
             0.8888888888888888,
             "#fdca26"
            ],
            [
             1,
             "#f0f921"
            ]
           ]
          },
          "colorway": [
           "#636efa",
           "#EF553B",
           "#00cc96",
           "#ab63fa",
           "#FFA15A",
           "#19d3f3",
           "#FF6692",
           "#B6E880",
           "#FF97FF",
           "#FECB52"
          ],
          "font": {
           "color": "#2a3f5f"
          },
          "geo": {
           "bgcolor": "white",
           "lakecolor": "white",
           "landcolor": "#E5ECF6",
           "showlakes": true,
           "showland": true,
           "subunitcolor": "white"
          },
          "hoverlabel": {
           "align": "left"
          },
          "hovermode": "closest",
          "mapbox": {
           "style": "light"
          },
          "paper_bgcolor": "white",
          "plot_bgcolor": "#E5ECF6",
          "polar": {
           "angularaxis": {
            "gridcolor": "white",
            "linecolor": "white",
            "ticks": ""
           },
           "bgcolor": "#E5ECF6",
           "radialaxis": {
            "gridcolor": "white",
            "linecolor": "white",
            "ticks": ""
           }
          },
          "scene": {
           "xaxis": {
            "backgroundcolor": "#E5ECF6",
            "gridcolor": "white",
            "gridwidth": 2,
            "linecolor": "white",
            "showbackground": true,
            "ticks": "",
            "zerolinecolor": "white"
           },
           "yaxis": {
            "backgroundcolor": "#E5ECF6",
            "gridcolor": "white",
            "gridwidth": 2,
            "linecolor": "white",
            "showbackground": true,
            "ticks": "",
            "zerolinecolor": "white"
           },
           "zaxis": {
            "backgroundcolor": "#E5ECF6",
            "gridcolor": "white",
            "gridwidth": 2,
            "linecolor": "white",
            "showbackground": true,
            "ticks": "",
            "zerolinecolor": "white"
           }
          },
          "shapedefaults": {
           "line": {
            "color": "#2a3f5f"
           }
          },
          "ternary": {
           "aaxis": {
            "gridcolor": "white",
            "linecolor": "white",
            "ticks": ""
           },
           "baxis": {
            "gridcolor": "white",
            "linecolor": "white",
            "ticks": ""
           },
           "bgcolor": "#E5ECF6",
           "caxis": {
            "gridcolor": "white",
            "linecolor": "white",
            "ticks": ""
           }
          },
          "title": {
           "x": 0.05
          },
          "xaxis": {
           "automargin": true,
           "gridcolor": "white",
           "linecolor": "white",
           "ticks": "",
           "title": {
            "standoff": 15
           },
           "zerolinecolor": "white",
           "zerolinewidth": 2
          },
          "yaxis": {
           "automargin": true,
           "gridcolor": "white",
           "linecolor": "white",
           "ticks": "",
           "title": {
            "standoff": 15
           },
           "zerolinecolor": "white",
           "zerolinewidth": 2
          }
         }
        },
        "title": {
         "text": "3D PCA Scatter Plot (Colored by Family Sample)"
        }
       }
      }
     },
     "metadata": {},
     "output_type": "display_data"
    }
   ],
   "source": [
    "# DIFFERENT 3D PCA VISUALIZATION\n",
    "\n",
    "# Extract numeric columns only\n",
    "df_numeric = merged_df.select_dtypes(include=[np.number])\n",
    "\n",
    "# Standardize the data\n",
    "scaler = StandardScaler()\n",
    "df_scaled = scaler.fit_transform(df_numeric)\n",
    "\n",
    "# Apply PCA with 3 components\n",
    "pca = PCA(n_components=3)\n",
    "pca_3d = pca.fit_transform(df_scaled)\n",
    "\n",
    "# Create DataFrame for PCA results\n",
    "df_pca = pd.DataFrame(pca_3d, columns=[\"PC1\", \"PC2\", \"PC3\"])\n",
    "\n",
    "# Add Family Sample column\n",
    "df_pca[\"Family Sample\"] = merged_df[\"Sample\"].str[:-2]\n",
    "\n",
    "# Create color mapping based on Family Sample\n",
    "unique_samples = df_pca[\"Family Sample\"].unique()\n",
    "\n",
    "# Use Plotly's qualitative color scale\n",
    "tab10_colors = plt.cm.tab10.colors\n",
    "#colors = px.colors.qualitative.Set3  # Good palette with distinct colors\n",
    "color_dict = dict(zip(unique_samples, tab10_colors))\n",
    "\n",
    "# Create Plotly 3D Scatter Plot\n",
    "fig = go.Figure()\n",
    "\n",
    "# Scatter plot for each unique Family Sample\n",
    "for sample in unique_samples:\n",
    "    subset = df_pca[df_pca[\"Family Sample\"] == sample]\n",
    "    fig.add_trace(go.Scatter3d(\n",
    "        x=subset[\"PC1\"], y=subset[\"PC2\"], z=subset[\"PC3\"],\n",
    "        mode='markers',\n",
    "        marker=dict(\n",
    "            size=5,\n",
    "            color=[color_dict[sample]] * len(subset),  # Assign color from the dictionary\n",
    "            opacity=0.8\n",
    "        ),\n",
    "        name=sample\n",
    "    ))\n",
    "\n",
    "# Update layout with axis labels and title\n",
    "fig.update_layout(\n",
    "    title=\"3D PCA Scatter Plot (Colored by Family Sample)\",\n",
    "    scene=dict(\n",
    "        xaxis_title=\"Principal Component 1\",\n",
    "        yaxis_title=\"Principal Component 2\",\n",
    "        zaxis_title=\"Principal Component 3\"\n",
    "    ),\n",
    "    legend_title=\"Family Sample\"\n",
    ")\n",
    "\n",
    "# Show the interactive plot\n",
    "fig.show()\n"
   ]
  },
  {
   "cell_type": "markdown",
   "metadata": {},
   "source": [
    "### <b> Models </b>"
   ]
  },
  {
   "cell_type": "code",
   "execution_count": 57,
   "metadata": {},
   "outputs": [],
   "source": [
    "\n",
    "# Get the numerical and categorical columns of the dataset\n",
    "\n",
    "numerical_columns = merged_df.select_dtypes(exclude='object').columns\n",
    "categorical_columns = merged_df.select_dtypes(include='object').columns"
   ]
  },
  {
   "cell_type": "code",
   "execution_count": 58,
   "metadata": {},
   "outputs": [],
   "source": [
    "from sklearn.linear_model import LinearRegression\n",
    "from sklearn.metrics import mean_squared_error, r2_score\n",
    "from sklearn.model_selection import train_test_split\n",
    "from sklearn.preprocessing import StandardScaler\n"
   ]
  },
  {
   "cell_type": "code",
   "execution_count": 59,
   "metadata": {},
   "outputs": [],
   "source": [
    "# Custom function for splitting and scaling the data\n",
    "def custom_train_test_split(df, label):\n",
    "    X = df.drop(columns=label)\n",
    "    y = df[label]\n",
    "    X_train, X_test, y_train, y_test = train_test_split(X, y, test_size=0.2, random_state=42)\n",
    "    scaler = StandardScaler()\n",
    "    X_train_scaled = scaler.fit_transform(X_train)\n",
    "    X_test_scaled = scaler.transform(X_test)\n",
    "    return X_train_scaled, X_test_scaled, y_train, y_test"
   ]
  },
  {
   "cell_type": "code",
   "execution_count": 70,
   "metadata": {},
   "outputs": [],
   "source": [
    "def predict_all_biometry_variables(df, biometry_columns):\n",
    "    results = []\n",
    "    for target in biometry_columns:\n",
    "        X_train, X_test, y_train, y_test = custom_train_test_split(df, label=target)\n",
    "        \n",
    "        model = LinearRegression()\n",
    "        model.fit(X_train, y_train)\n",
    "        y_pred = model.predict(X_test)\n",
    "        \n",
    "        mse = mean_squared_error(y_test, y_pred)\n",
    "        r2 = r2_score(y_test, y_pred)\n",
    "        \n",
    "        results.append({\n",
    "            'Target Variable': target,\n",
    "            'MSE': mse,\n",
    "            'R^2': r2\n",
    "        })\n",
    "    \n",
    "    results_df = pd.DataFrame(results)\n",
    "    return results_df"
   ]
  },
  {
   "cell_type": "code",
   "execution_count": 71,
   "metadata": {},
   "outputs": [
    {
     "data": {
      "text/html": [
       "<div>\n",
       "<style scoped>\n",
       "    .dataframe tbody tr th:only-of-type {\n",
       "        vertical-align: middle;\n",
       "    }\n",
       "\n",
       "    .dataframe tbody tr th {\n",
       "        vertical-align: top;\n",
       "    }\n",
       "\n",
       "    .dataframe thead th {\n",
       "        text-align: right;\n",
       "    }\n",
       "</style>\n",
       "<table border=\"1\" class=\"dataframe\">\n",
       "  <thead>\n",
       "    <tr style=\"text-align: right;\">\n",
       "      <th></th>\n",
       "      <th>Target Variable</th>\n",
       "      <th>MSE</th>\n",
       "      <th>R^2</th>\n",
       "    </tr>\n",
       "  </thead>\n",
       "  <tbody>\n",
       "    <tr>\n",
       "      <th>0</th>\n",
       "      <td>No leaves</td>\n",
       "      <td>4.640982</td>\n",
       "      <td>0.479415</td>\n",
       "    </tr>\n",
       "    <tr>\n",
       "      <th>1</th>\n",
       "      <td>Diameter</td>\n",
       "      <td>3.679306</td>\n",
       "      <td>0.891305</td>\n",
       "    </tr>\n",
       "    <tr>\n",
       "      <th>2</th>\n",
       "      <td>Perpendicular</td>\n",
       "      <td>3.924328</td>\n",
       "      <td>0.890411</td>\n",
       "    </tr>\n",
       "    <tr>\n",
       "      <th>3</th>\n",
       "      <td>Height</td>\n",
       "      <td>2.402545</td>\n",
       "      <td>0.455377</td>\n",
       "    </tr>\n",
       "    <tr>\n",
       "      <th>4</th>\n",
       "      <td>Average Leaf Thickness</td>\n",
       "      <td>0.006195</td>\n",
       "      <td>0.774398</td>\n",
       "    </tr>\n",
       "  </tbody>\n",
       "</table>\n",
       "</div>"
      ],
      "text/plain": [
       "          Target Variable       MSE       R^2\n",
       "0               No leaves  4.640982  0.479415\n",
       "1                Diameter  3.679306  0.891305\n",
       "2           Perpendicular  3.924328  0.890411\n",
       "3                  Height  2.402545  0.455377\n",
       "4  Average Leaf Thickness  0.006195  0.774398"
      ]
     },
     "execution_count": 71,
     "metadata": {},
     "output_type": "execute_result"
    }
   ],
   "source": [
    "biometry_columns = ['No leaves', 'Diameter', 'Perpendicular', 'Height', 'Average Leaf Thickness']\n",
    "results_0 = predict_all_biometry_variables(merged_df.drop(columns={'Date','Sample', 'Family Sample'}), biometry_columns)\n",
    "results_0"
   ]
  },
  {
   "cell_type": "code",
   "execution_count": 62,
   "metadata": {},
   "outputs": [],
   "source": [
    "from sklearn.linear_model import Ridge, Lasso\n",
    "\n",
    "def predict_with_regularization(df, biometry_columns, model_type='ridge'):\n",
    "    results = []\n",
    "    for target in biometry_columns:\n",
    "        X_train, X_test, y_train, y_test = custom_train_test_split(df, label=target)\n",
    "        \n",
    "        if model_type == 'ridge':\n",
    "            model = Ridge(alpha=1.0)\n",
    "        elif model_type == 'lasso':\n",
    "            model = Lasso(alpha=0.01)\n",
    "        \n",
    "        model.fit(X_train, y_train)\n",
    "        y_pred = model.predict(X_test)\n",
    "        \n",
    "        mse = mean_squared_error(y_test, y_pred)\n",
    "        r2 = r2_score(y_test, y_pred)\n",
    "        \n",
    "        results.append({\n",
    "            'Target Variable': target,\n",
    "            'MSE': mse,\n",
    "            'R^2': r2\n",
    "        })\n",
    "    \n",
    "    return pd.DataFrame(results)"
   ]
  },
  {
   "cell_type": "code",
   "execution_count": 63,
   "metadata": {},
   "outputs": [
    {
     "data": {
      "text/html": [
       "<div>\n",
       "<style scoped>\n",
       "    .dataframe tbody tr th:only-of-type {\n",
       "        vertical-align: middle;\n",
       "    }\n",
       "\n",
       "    .dataframe tbody tr th {\n",
       "        vertical-align: top;\n",
       "    }\n",
       "\n",
       "    .dataframe thead th {\n",
       "        text-align: right;\n",
       "    }\n",
       "</style>\n",
       "<table border=\"1\" class=\"dataframe\">\n",
       "  <thead>\n",
       "    <tr style=\"text-align: right;\">\n",
       "      <th></th>\n",
       "      <th>Target Variable</th>\n",
       "      <th>MSE</th>\n",
       "      <th>R^2</th>\n",
       "    </tr>\n",
       "  </thead>\n",
       "  <tbody>\n",
       "    <tr>\n",
       "      <th>0</th>\n",
       "      <td>No leaves</td>\n",
       "      <td>4.612762</td>\n",
       "      <td>0.482580</td>\n",
       "    </tr>\n",
       "    <tr>\n",
       "      <th>1</th>\n",
       "      <td>Diameter</td>\n",
       "      <td>3.665809</td>\n",
       "      <td>0.891704</td>\n",
       "    </tr>\n",
       "    <tr>\n",
       "      <th>2</th>\n",
       "      <td>Perpendicular</td>\n",
       "      <td>3.910187</td>\n",
       "      <td>0.890805</td>\n",
       "    </tr>\n",
       "    <tr>\n",
       "      <th>3</th>\n",
       "      <td>Height</td>\n",
       "      <td>2.406307</td>\n",
       "      <td>0.454524</td>\n",
       "    </tr>\n",
       "    <tr>\n",
       "      <th>4</th>\n",
       "      <td>Average Leaf Thickness</td>\n",
       "      <td>0.006103</td>\n",
       "      <td>0.777755</td>\n",
       "    </tr>\n",
       "  </tbody>\n",
       "</table>\n",
       "</div>"
      ],
      "text/plain": [
       "          Target Variable       MSE       R^2\n",
       "0               No leaves  4.612762  0.482580\n",
       "1                Diameter  3.665809  0.891704\n",
       "2           Perpendicular  3.910187  0.890805\n",
       "3                  Height  2.406307  0.454524\n",
       "4  Average Leaf Thickness  0.006103  0.777755"
      ]
     },
     "execution_count": 63,
     "metadata": {},
     "output_type": "execute_result"
    }
   ],
   "source": [
    "results_ridge = predict_with_regularization(merged_df.drop(columns={'Date','Sample', 'Family Sample'}), biometry_columns, 'ridge')\n",
    "results_ridge"
   ]
  },
  {
   "cell_type": "code",
   "execution_count": 64,
   "metadata": {},
   "outputs": [
    {
     "data": {
      "text/html": [
       "<div>\n",
       "<style scoped>\n",
       "    .dataframe tbody tr th:only-of-type {\n",
       "        vertical-align: middle;\n",
       "    }\n",
       "\n",
       "    .dataframe tbody tr th {\n",
       "        vertical-align: top;\n",
       "    }\n",
       "\n",
       "    .dataframe thead th {\n",
       "        text-align: right;\n",
       "    }\n",
       "</style>\n",
       "<table border=\"1\" class=\"dataframe\">\n",
       "  <thead>\n",
       "    <tr style=\"text-align: right;\">\n",
       "      <th></th>\n",
       "      <th>Target Variable</th>\n",
       "      <th>MSE</th>\n",
       "      <th>R^2</th>\n",
       "    </tr>\n",
       "  </thead>\n",
       "  <tbody>\n",
       "    <tr>\n",
       "      <th>0</th>\n",
       "      <td>No leaves</td>\n",
       "      <td>4.624492</td>\n",
       "      <td>0.481264</td>\n",
       "    </tr>\n",
       "    <tr>\n",
       "      <th>1</th>\n",
       "      <td>Diameter</td>\n",
       "      <td>3.674407</td>\n",
       "      <td>0.891450</td>\n",
       "    </tr>\n",
       "    <tr>\n",
       "      <th>2</th>\n",
       "      <td>Perpendicular</td>\n",
       "      <td>3.898198</td>\n",
       "      <td>0.891140</td>\n",
       "    </tr>\n",
       "    <tr>\n",
       "      <th>3</th>\n",
       "      <td>Height</td>\n",
       "      <td>2.425296</td>\n",
       "      <td>0.450219</td>\n",
       "    </tr>\n",
       "    <tr>\n",
       "      <th>4</th>\n",
       "      <td>Average Leaf Thickness</td>\n",
       "      <td>0.006084</td>\n",
       "      <td>0.778467</td>\n",
       "    </tr>\n",
       "  </tbody>\n",
       "</table>\n",
       "</div>"
      ],
      "text/plain": [
       "          Target Variable       MSE       R^2\n",
       "0               No leaves  4.624492  0.481264\n",
       "1                Diameter  3.674407  0.891450\n",
       "2           Perpendicular  3.898198  0.891140\n",
       "3                  Height  2.425296  0.450219\n",
       "4  Average Leaf Thickness  0.006084  0.778467"
      ]
     },
     "execution_count": 64,
     "metadata": {},
     "output_type": "execute_result"
    }
   ],
   "source": [
    "results_lasso = predict_with_regularization(merged_df.drop(columns={'Date','Sample', 'Family Sample'}), biometry_columns, 'lasso')\n",
    "results_lasso"
   ]
  },
  {
   "cell_type": "code",
   "execution_count": 65,
   "metadata": {},
   "outputs": [],
   "source": [
    "from sklearn.ensemble import RandomForestRegressor\n",
    "\n",
    "def predict_with_random_forest(df, biometry_columns):\n",
    "    results = []\n",
    "    for target in biometry_columns:\n",
    "        X_train, X_test, y_train, y_test = custom_train_test_split(df, label=target)\n",
    "        \n",
    "        model = RandomForestRegressor(random_state=42)\n",
    "        model.fit(X_train, y_train)\n",
    "        y_pred = model.predict(X_test)\n",
    "        \n",
    "        mse = mean_squared_error(y_test, y_pred)\n",
    "        r2 = r2_score(y_test, y_pred)\n",
    "        \n",
    "        results.append({\n",
    "            'Target Variable': target,\n",
    "            'MSE': mse,\n",
    "            'R^2': r2\n",
    "        })\n",
    "    \n",
    "    return pd.DataFrame(results)"
   ]
  },
  {
   "cell_type": "code",
   "execution_count": 66,
   "metadata": {},
   "outputs": [],
   "source": [
    "results_rf = predict_with_random_forest(merged_df.drop(columns={'Date','Sample', 'Family Sample'}), biometry_columns)"
   ]
  },
  {
   "cell_type": "code",
   "execution_count": 67,
   "metadata": {},
   "outputs": [
    {
     "data": {
      "text/html": [
       "<div>\n",
       "<style scoped>\n",
       "    .dataframe tbody tr th:only-of-type {\n",
       "        vertical-align: middle;\n",
       "    }\n",
       "\n",
       "    .dataframe tbody tr th {\n",
       "        vertical-align: top;\n",
       "    }\n",
       "\n",
       "    .dataframe thead th {\n",
       "        text-align: right;\n",
       "    }\n",
       "</style>\n",
       "<table border=\"1\" class=\"dataframe\">\n",
       "  <thead>\n",
       "    <tr style=\"text-align: right;\">\n",
       "      <th></th>\n",
       "      <th>Target Variable</th>\n",
       "      <th>MSE</th>\n",
       "      <th>R^2</th>\n",
       "    </tr>\n",
       "  </thead>\n",
       "  <tbody>\n",
       "    <tr>\n",
       "      <th>0</th>\n",
       "      <td>No leaves</td>\n",
       "      <td>3.573924</td>\n",
       "      <td>0.599108</td>\n",
       "    </tr>\n",
       "    <tr>\n",
       "      <th>1</th>\n",
       "      <td>Diameter</td>\n",
       "      <td>4.186233</td>\n",
       "      <td>0.876330</td>\n",
       "    </tr>\n",
       "    <tr>\n",
       "      <th>2</th>\n",
       "      <td>Perpendicular</td>\n",
       "      <td>4.386583</td>\n",
       "      <td>0.877502</td>\n",
       "    </tr>\n",
       "    <tr>\n",
       "      <th>3</th>\n",
       "      <td>Height</td>\n",
       "      <td>2.393513</td>\n",
       "      <td>0.457424</td>\n",
       "    </tr>\n",
       "    <tr>\n",
       "      <th>4</th>\n",
       "      <td>Average Leaf Thickness</td>\n",
       "      <td>0.002234</td>\n",
       "      <td>0.918665</td>\n",
       "    </tr>\n",
       "  </tbody>\n",
       "</table>\n",
       "</div>"
      ],
      "text/plain": [
       "          Target Variable       MSE       R^2\n",
       "0               No leaves  3.573924  0.599108\n",
       "1                Diameter  4.186233  0.876330\n",
       "2           Perpendicular  4.386583  0.877502\n",
       "3                  Height  2.393513  0.457424\n",
       "4  Average Leaf Thickness  0.002234  0.918665"
      ]
     },
     "execution_count": 67,
     "metadata": {},
     "output_type": "execute_result"
    }
   ],
   "source": [
    "results_rf"
   ]
  },
  {
   "cell_type": "code",
   "execution_count": 68,
   "metadata": {},
   "outputs": [],
   "source": [
    "from xgboost import XGBRegressor\n",
    "\n",
    "def predict_with_xgboost(df, biometry_columns):\n",
    "    results = []\n",
    "    for target in biometry_columns:\n",
    "        X_train, X_test, y_train, y_test = custom_train_test_split(df, label=target)\n",
    "        \n",
    "        model = XGBRegressor(objective='reg:squarederror', random_state=42)\n",
    "        model.fit(X_train, y_train)\n",
    "        y_pred = model.predict(X_test)\n",
    "        \n",
    "        mse = mean_squared_error(y_test, y_pred)\n",
    "        r2 = r2_score(y_test, y_pred)\n",
    "        \n",
    "        results.append({\n",
    "            'Target Variable': target,\n",
    "            'MSE': mse,\n",
    "            'R^2': r2\n",
    "        })\n",
    "    \n",
    "    return pd.DataFrame(results)"
   ]
  },
  {
   "cell_type": "code",
   "execution_count": 69,
   "metadata": {},
   "outputs": [
    {
     "name": "stdout",
     "output_type": "stream",
     "text": [
      "XGBoost Regression Results:\n",
      "          Target Variable       MSE       R^2\n",
      "0               No leaves  3.696006  0.585414\n",
      "1                Diameter  5.026389  0.851510\n",
      "2           Perpendicular  5.206327  0.854610\n",
      "3                  Height  3.000374  0.319857\n",
      "4  Average Leaf Thickness  0.002861  0.895826\n"
     ]
    }
   ],
   "source": [
    "results_xgb = predict_with_xgboost(merged_df.drop(columns={'Date','Sample', 'Family Sample'}), biometry_columns)\n",
    "print(\"XGBoost Regression Results:\")\n",
    "print(results_xgb)"
   ]
  },
  {
   "cell_type": "code",
   "execution_count": null,
   "metadata": {},
   "outputs": [],
   "source": []
  }
 ],
 "metadata": {
  "kernelspec": {
   "display_name": "machinelearning",
   "language": "python",
   "name": "python3"
  },
  "language_info": {
   "codemirror_mode": {
    "name": "ipython",
    "version": 3
   },
   "file_extension": ".py",
   "mimetype": "text/x-python",
   "name": "python",
   "nbconvert_exporter": "python",
   "pygments_lexer": "ipython3",
   "version": "3.12.7"
  }
 },
 "nbformat": 4,
 "nbformat_minor": 2
}
