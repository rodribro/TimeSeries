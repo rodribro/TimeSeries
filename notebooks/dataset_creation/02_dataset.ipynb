{
 "cells": [
  {
   "cell_type": "markdown",
   "metadata": {},
   "source": [
    "### <b> Constructing Dataframe for Biometric Data - 2nd Iteration </b>"
   ]
  },
  {
   "cell_type": "markdown",
   "metadata": {},
   "source": [
    "#### <b> [PLANNING] </b>\n",
    "\n",
    "The goal of this <b> 2nd iteration </b> is to construct a dataset with 45 entries, corresponding to the 45 lettuce plants in the study. <p></p>\n",
    "\n",
    "For each each entry/plant the <b> input </b> and <b> output/target </b> variables will be: <p></p>\n",
    "\n",
    "<b> [INPUT VARS] </b>\n",
    "\n",
    "* <b> Accumulated Temperature (Acc. T) </b>: The total amount of temperature the plant was exposed to during the period of the experiment, expressed in Celsius degrees (C)\n",
    "* <b> Average Humidity (Avg. Humidity) </b>: The average humidity the plant was exposed to inside the greenhouse as captured by the sensors during the period of the experiment, expressed in percentage (%).\n",
    "* <b> Accumulated Radiation (Acc. R) </b>: The total amount of PAR (Photosynthetically active radiation) the plant was exposed to during the period of the experiment, expressed in micromoles per second ($\\mu$/s)\n",
    "* <b> Accumulated Irrigation (Acc. I) </b>: The total amount of the aquous solution the plant was irrigated with during the period of the experiment, expressed in miliLiters (mL)\n",
    "* <b> Accumulated Nitrates (Acc. N) </b>: The total amount of nitrates the plant was fed during the period of the experiment (calculated as a fraction of the aquous solution), expressed in miliLiters (mL)\n",
    "\n",
    "\n",
    "<b> [OUTPUT/TARGET VARS *(1)] </b>\n",
    "\n",
    "\n",
    "* <b> Diameter </b>: The diameter of a chosen leaf of the plant at the time of harvest, expressed in centimeters (cm)\n",
    "* <b> Perpendicular </b>: The length of perpendicular line to the chosen diameter of a chosen leaf at the time of harvest, expressed in centimeters (cm)\n",
    "* <b> Weight </b>: The weight of the plant at the time of harvest, expressed in kilograms (Kg)\n",
    "* <b> Height </b>: The height of the plant at the time of harvest, expressed in centimeters (cm)\n",
    "* <b> Thickness </b>: Leaf thickness at the time of harvest, expressed in centimeters (cm)\n",
    "* <b> Number of leaves (N leaves) </b>: The number of leaves the plant presents at the time of harvest\n",
    "\n",
    "*(1): Each target variable will be predicted at a time\n",
    "\n",
    "\n"
   ]
  },
  {
   "cell_type": "markdown",
   "metadata": {},
   "source": [
    "* T_base = 6ºC (GDD)\n",
    "* Treshold de radiação PAR planta?\n",
    "* Peso gerado através do consumo de água (output var -> future work/interessante para perceber eficiência da planta)\n",
    "* sol A: 6 mil_moles azoto/L\n",
    "* sol B: 13 mil_moles azoto/L\n",
    "* sol C: 17 mil_moles azoto/L\n",
    "* avg diameter + perpendicular para var output\n",
    "* leaf thickness \n",
    "* análise nutricionais (valor finais de azoto por grupo)\n",
    "* escala bbch\n",
    "* leaf only fresh weight (valores excel em gramas)\n"
   ]
  },
  {
   "cell_type": "code",
   "execution_count": 1,
   "metadata": {},
   "outputs": [],
   "source": [
    "import pandas as pd\n",
    "import seaborn as sns\n",
    "import matplotlib.pyplot as plt\n",
    "import numpy as np"
   ]
  },
  {
   "cell_type": "markdown",
   "metadata": {},
   "source": [
    "#### <b> Load previous iteration of final dataset (withoud encoding) </b>"
   ]
  },
  {
   "cell_type": "code",
   "execution_count": 3,
   "metadata": {},
   "outputs": [],
   "source": [
    "biometry = pd.read_csv(\"../../data/final_biometric_data.csv\")"
   ]
  },
  {
   "cell_type": "code",
   "execution_count": 4,
   "metadata": {},
   "outputs": [],
   "source": [
    "biometry.rename(columns={\"Unnamed: 0\":\"Date\"}, inplace=True)"
   ]
  },
  {
   "cell_type": "markdown",
   "metadata": {},
   "source": [
    "#### <b> Biometry at Harvest </b>\n",
    "\n",
    "* Create auxiliary dataframe for biometry at the time of harvest <b> (harvest date: 2024-10-03) </b>"
   ]
  },
  {
   "cell_type": "code",
   "execution_count": 5,
   "metadata": {},
   "outputs": [],
   "source": [
    "harvest_biometry = biometry.loc[biometry[\"Date\"] == \"2024-10-03\"]"
   ]
  },
  {
   "cell_type": "code",
   "execution_count": 6,
   "metadata": {},
   "outputs": [
    {
     "data": {
      "text/plain": [
       "Index(['Date', 'Number', 'Line', 'Sample', 'CODE', 'No leaves', 'Diameter',\n",
       "       'Perpendicular', 'Height', 'Max. Temp.', 'Min. Temp.', 'Mean. Temp.',\n",
       "       'Max. Hum.', 'Min. Hum.', 'Mean. Hum.', 'Combined Temperature Average',\n",
       "       'Combined Temperature Std Dev', 'Combined Humidity Average',\n",
       "       'Combined Humidity Std Dev', 'BBCH', 'Average Leaf Thickness'],\n",
       "      dtype='object')"
      ]
     },
     "execution_count": 6,
     "metadata": {},
     "output_type": "execute_result"
    }
   ],
   "source": [
    "harvest_biometry.columns"
   ]
  },
  {
   "cell_type": "code",
   "execution_count": 7,
   "metadata": {},
   "outputs": [
    {
     "name": "stderr",
     "output_type": "stream",
     "text": [
      "/var/folders/vw/fb5g0yw578jfpvmgdl2bgkr80000gn/T/ipykernel_88538/2765328332.py:2: SettingWithCopyWarning: \n",
      "A value is trying to be set on a copy of a slice from a DataFrame\n",
      "\n",
      "See the caveats in the documentation: https://pandas.pydata.org/pandas-docs/stable/user_guide/indexing.html#returning-a-view-versus-a-copy\n",
      "  harvest_biometry.drop(columns=['Max. Temp.', 'Min. Temp.', 'Mean. Temp.',\n"
     ]
    }
   ],
   "source": [
    "# Remove unnecessary columns\n",
    "harvest_biometry.drop(columns=['Max. Temp.', 'Min. Temp.', 'Mean. Temp.',\n",
    "       'Max. Hum.', 'Min. Hum.', 'Mean. Hum.', 'Combined Temperature Average',\n",
    "       'Combined Temperature Std Dev', 'Combined Humidity Average',\n",
    "       'Combined Humidity Std Dev',], inplace=True)"
   ]
  },
  {
   "cell_type": "markdown",
   "metadata": {},
   "source": [
    "#### <b> Accumulated Irrigation </b>"
   ]
  },
  {
   "cell_type": "code",
   "execution_count": 10,
   "metadata": {},
   "outputs": [],
   "source": [
    "irrigation = pd.read_excel(\"../../raw_data/irrigation.xlsx\")"
   ]
  },
  {
   "cell_type": "code",
   "execution_count": 11,
   "metadata": {},
   "outputs": [
    {
     "data": {
      "text/html": [
       "<div>\n",
       "<style scoped>\n",
       "    .dataframe tbody tr th:only-of-type {\n",
       "        vertical-align: middle;\n",
       "    }\n",
       "\n",
       "    .dataframe tbody tr th {\n",
       "        vertical-align: top;\n",
       "    }\n",
       "\n",
       "    .dataframe thead th {\n",
       "        text-align: right;\n",
       "    }\n",
       "</style>\n",
       "<table border=\"1\" class=\"dataframe\">\n",
       "  <thead>\n",
       "    <tr style=\"text-align: right;\">\n",
       "      <th></th>\n",
       "      <th>Date</th>\n",
       "      <th>Sample</th>\n",
       "      <th>Quantity (mL)</th>\n",
       "    </tr>\n",
       "  </thead>\n",
       "  <tbody>\n",
       "    <tr>\n",
       "      <th>0</th>\n",
       "      <td>2024-08-24</td>\n",
       "      <td>rngra1</td>\n",
       "      <td>50.0</td>\n",
       "    </tr>\n",
       "    <tr>\n",
       "      <th>1</th>\n",
       "      <td>2024-08-24</td>\n",
       "      <td>rngra2</td>\n",
       "      <td>50.0</td>\n",
       "    </tr>\n",
       "    <tr>\n",
       "      <th>2</th>\n",
       "      <td>2024-08-24</td>\n",
       "      <td>rngra3</td>\n",
       "      <td>50.0</td>\n",
       "    </tr>\n",
       "    <tr>\n",
       "      <th>3</th>\n",
       "      <td>2024-08-24</td>\n",
       "      <td>rngra4</td>\n",
       "      <td>50.0</td>\n",
       "    </tr>\n",
       "    <tr>\n",
       "      <th>4</th>\n",
       "      <td>2024-08-24</td>\n",
       "      <td>rngra5</td>\n",
       "      <td>50.0</td>\n",
       "    </tr>\n",
       "    <tr>\n",
       "      <th>...</th>\n",
       "      <td>...</td>\n",
       "      <td>...</td>\n",
       "      <td>...</td>\n",
       "    </tr>\n",
       "    <tr>\n",
       "      <th>985</th>\n",
       "      <td>2024-10-01</td>\n",
       "      <td>rwgrc1</td>\n",
       "      <td>7.5</td>\n",
       "    </tr>\n",
       "    <tr>\n",
       "      <th>986</th>\n",
       "      <td>2024-10-01</td>\n",
       "      <td>rwgrc2</td>\n",
       "      <td>14.5</td>\n",
       "    </tr>\n",
       "    <tr>\n",
       "      <th>987</th>\n",
       "      <td>2024-10-01</td>\n",
       "      <td>rwgrc3</td>\n",
       "      <td>5.0</td>\n",
       "    </tr>\n",
       "    <tr>\n",
       "      <th>988</th>\n",
       "      <td>2024-10-01</td>\n",
       "      <td>rwgrc4</td>\n",
       "      <td>12.0</td>\n",
       "    </tr>\n",
       "    <tr>\n",
       "      <th>989</th>\n",
       "      <td>2024-10-01</td>\n",
       "      <td>rwgrc5</td>\n",
       "      <td>8.0</td>\n",
       "    </tr>\n",
       "  </tbody>\n",
       "</table>\n",
       "<p>990 rows × 3 columns</p>\n",
       "</div>"
      ],
      "text/plain": [
       "          Date  Sample  Quantity (mL)\n",
       "0   2024-08-24  rngra1           50.0\n",
       "1   2024-08-24  rngra2           50.0\n",
       "2   2024-08-24  rngra3           50.0\n",
       "3   2024-08-24  rngra4           50.0\n",
       "4   2024-08-24  rngra5           50.0\n",
       "..         ...     ...            ...\n",
       "985 2024-10-01  rwgrc1            7.5\n",
       "986 2024-10-01  rwgrc2           14.5\n",
       "987 2024-10-01  rwgrc3            5.0\n",
       "988 2024-10-01  rwgrc4           12.0\n",
       "989 2024-10-01  rwgrc5            8.0\n",
       "\n",
       "[990 rows x 3 columns]"
      ]
     },
     "execution_count": 11,
     "metadata": {},
     "output_type": "execute_result"
    }
   ],
   "source": [
    "irrigation"
   ]
  },
  {
   "cell_type": "code",
   "execution_count": 12,
   "metadata": {},
   "outputs": [],
   "source": [
    "# Convert Sample column values to Upper case to match biometry dataset\n",
    "irrigation[\"Sample\"] = irrigation[\"Sample\"].str.upper()"
   ]
  },
  {
   "cell_type": "code",
   "execution_count": 13,
   "metadata": {},
   "outputs": [],
   "source": [
    "# Group By Sample and add up daily irrigation\n",
    "accumulated_irrigation = irrigation.groupby('Sample')['Quantity (mL)'].sum()"
   ]
  },
  {
   "cell_type": "markdown",
   "metadata": {},
   "source": [
    "#### <b> Accumulated Nitrates </b>"
   ]
  },
  {
   "cell_type": "code",
   "execution_count": null,
   "metadata": {},
   "outputs": [],
   "source": []
  }
 ],
 "metadata": {
  "kernelspec": {
   "display_name": "machinelearning",
   "language": "python",
   "name": "python3"
  },
  "language_info": {
   "codemirror_mode": {
    "name": "ipython",
    "version": 3
   },
   "file_extension": ".py",
   "mimetype": "text/x-python",
   "name": "python",
   "nbconvert_exporter": "python",
   "pygments_lexer": "ipython3",
   "version": "3.12.7"
  }
 },
 "nbformat": 4,
 "nbformat_minor": 2
}
