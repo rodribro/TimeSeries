{
 "cells": [
  {
   "cell_type": "markdown",
   "metadata": {},
   "source": [
    "#### <b> 0. Intro </b>\n",
    "* Bivariate statistical assocaitions = proxies for dynamical mechanisms interlinking two variables\n",
    "\n",
    "* Challenges:\n",
    "    * Effective mapping and analysis of pairwise associations \n",
    "    * distinction between direct and indirect associations \n",
    "    * Infer predictive information (causality) from multiple time-series"
   ]
  },
  {
   "cell_type": "markdown",
   "metadata": {},
   "source": [
    "#### <b> 1. Functional network analysis </b>\n",
    "\n",
    "* n [0..n] time series (n=2 in this case) -> Compute similarity matrix -> calculate threshold matrix (binary matrix that let's us know how strongly (strong statistical similarity) varibles are correlate to one another) -> quantify desired variable\n",
    "\n",
    "* ENSO classification ?\n",
    "\n",
    "* ring of diffusively coupled FitzHugo-Nagumo systems (neurons?) -> FitzHugo-Nagumo network"
   ]
  },
  {
   "cell_type": "markdown",
   "metadata": {},
   "source": [
    "#### <b> 2. Causality among two time series </b>\n",
    "\n",
    "* Granger causality: tells you if including past data from a variable reduces you prediction error\n",
    "    * build linear Regression Models (bivariate AR models)\n",
    "\n",
    "* two ingredients to understand causality:\n",
    "    * 1. Proper directed statistical association measure\n",
    "    * 2. Algorithm for understanding partial and full correlation? *\n",
    "\n",
    "    *tigramite Python package (partial correlations)\n"
   ]
  },
  {
   "cell_type": "markdown",
   "metadata": {},
   "source": [
    "#### <b> 3. Event coincidence analysis </b>\n",
    "\n",
    "* Network inference based on event synchrony\n",
    "    * Numerical study: event propagation along known network links (Event Syncronization and Evenct Correlation Analysis)"
   ]
  },
  {
   "cell_type": "markdown",
   "metadata": {},
   "source": []
  },
  {
   "cell_type": "markdown",
   "metadata": {},
   "source": [
    "#### <b> Final Notes </b>\n",
    "\n",
    "* 1. \n",
    "    * Diagnostic tool: time-dependent \"synchronocity\" of variability (network features for classification tasks)\n",
    "    * Prognostic tool: forecasting of emergent changes in co-variability (critical transitions)\n",
    "\n",
    "* 2.\n",
    "    * "
   ]
  },
  {
   "cell_type": "markdown",
   "metadata": {},
   "source": []
  }
 ],
 "metadata": {
  "language_info": {
   "name": "python"
  }
 },
 "nbformat": 4,
 "nbformat_minor": 2
}
